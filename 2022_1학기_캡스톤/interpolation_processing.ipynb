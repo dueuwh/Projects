{
  "nbformat": 4,
  "nbformat_minor": 0,
  "metadata": {
    "colab": {
      "name": "interpolation processing",
      "provenance": [],
      "collapsed_sections": [],
      "machine_shape": "hm",
      "authorship_tag": "ABX9TyOQ28S/bWI0AVc2tvqNG90E"
    },
    "kernelspec": {
      "name": "python3",
      "display_name": "Python 3"
    },
    "language_info": {
      "name": "python"
    }
  },
  "cells": [
    {
      "cell_type": "code",
      "execution_count": null,
      "metadata": {
        "colab": {
          "base_uri": "https://localhost:8080/"
        },
        "id": "5wXt6Yy0b9kD",
        "outputId": "decfdd2c-9d7c-492b-e4c7-8857b92edd14"
      },
      "outputs": [
        {
          "output_type": "stream",
          "name": "stdout",
          "text": [
            "Mounted at /content/drive\n",
            "\u001b[33mWARNING: Package(s) not found: datetime\u001b[0m\n"
          ]
        }
      ],
      "source": [
        "from google.colab import drive\n",
        "drive.mount('/content/drive')\n",
        "import numpy as np\n",
        "import pandas as pd\n",
        "import datetime\n",
        "!pip show datetime\n",
        "import matplotlib.pyplot as plt"
      ]
    },
    {
      "cell_type": "code",
      "source": [
        "!pip install datetime"
      ],
      "metadata": {
        "colab": {
          "base_uri": "https://localhost:8080/"
        },
        "id": "N_n1HCTXt-B7",
        "outputId": "5dc67e01-c321-4bab-dd3a-eba1a9bd25fb"
      },
      "execution_count": null,
      "outputs": [
        {
          "output_type": "stream",
          "name": "stdout",
          "text": [
            "Looking in indexes: https://pypi.org/simple, https://us-python.pkg.dev/colab-wheels/public/simple/\n",
            "Collecting datetime\n",
            "  Downloading DateTime-4.5-py2.py3-none-any.whl (52 kB)\n",
            "\u001b[K     |████████████████████████████████| 52 kB 580 kB/s \n",
            "\u001b[?25hRequirement already satisfied: pytz in /usr/local/lib/python3.7/dist-packages (from datetime) (2022.1)\n",
            "Collecting zope.interface\n",
            "  Downloading zope.interface-5.4.0-cp37-cp37m-manylinux2010_x86_64.whl (251 kB)\n",
            "\u001b[K     |████████████████████████████████| 251 kB 9.6 MB/s \n",
            "\u001b[?25hRequirement already satisfied: setuptools in /usr/local/lib/python3.7/dist-packages (from zope.interface->datetime) (57.4.0)\n",
            "Installing collected packages: zope.interface, datetime\n",
            "Successfully installed datetime-4.5 zope.interface-5.4.0\n"
          ]
        }
      ]
    },
    {
      "cell_type": "code",
      "source": [
        ""
      ],
      "metadata": {
        "id": "9rt7RqppuK2u"
      },
      "execution_count": null,
      "outputs": []
    },
    {
      "cell_type": "markdown",
      "source": [
        "#1시간 단위 데이터 => 5분 단위 데이터"
      ],
      "metadata": {
        "id": "Ey-1LMUXv_-O"
      }
    },
    {
      "cell_type": "code",
      "source": [
        "import numpy as np\n",
        "import pandas as pd\n",
        "import datetime\n",
        "import matplotlib.pyplot as plt"
      ],
      "metadata": {
        "id": "6fgA3NiMcAnW"
      },
      "execution_count": null,
      "outputs": []
    },
    {
      "cell_type": "code",
      "source": [
        "xdata = pd.read_csv('/content/drive/MyDrive/발전예측/2ndSpline/serner_input/weather.csv')\n",
        "xdata"
      ],
      "metadata": {
        "colab": {
          "base_uri": "https://localhost:8080/",
          "height": 802
        },
        "id": "tup9sJqkFvVZ",
        "outputId": "9e4f6ecc-94eb-44ab-a84e-8f93da2bedb5"
      },
      "execution_count": null,
      "outputs": [
        {
          "output_type": "execute_result",
          "data": {
            "text/plain": [
              "    Unnamed: 0          날짜  시간  기온  강수량   풍속  습도       일사  적설량\n",
              "0            0  2022-06-04   0  20  0.0  3.4  80  0.00000  0.0\n",
              "1            1  2022-06-04   1  20  0.0  3.4  80  0.00000  0.0\n",
              "2            2  2022-06-04   2  19  0.0  3.4  80  0.00000  0.0\n",
              "3            3  2022-06-04   3  19  0.0  3.7  80  0.00000  0.0\n",
              "4            4  2022-06-04   4  19  0.0  3.8  80  0.00000  0.0\n",
              "5            5  2022-06-04   5  20  0.0  3.8  85  0.00000  0.0\n",
              "6            6  2022-06-04   6  20  0.0  4.2  85  0.02628  0.0\n",
              "7            7  2022-06-04   7  21  0.0  4.3  80  0.42624  0.0\n",
              "8            8  2022-06-04   8  21  0.0  5.3  80  1.10304  0.0\n",
              "9            9  2022-06-04   9  23  0.0  5.7  75  1.84176  0.0\n",
              "10          10  2022-06-04  10  24  0.0  5.7  70  2.47068  0.0\n",
              "11          11  2022-06-04  11  25  0.0  5.8  65  2.88828  0.0\n",
              "12          12  2022-06-04  12  25  0.0  5.9  65  3.35376  0.0\n",
              "13          13  2022-06-04  13  25  0.0  6.1  65  3.33072  0.0\n",
              "14          14  2022-06-04  14  25  0.0  5.9  65  3.19392  0.0\n",
              "15          15  2022-06-04  15  26  0.0  6.1  65  2.82888  0.0\n",
              "16          16  2022-06-04  16  25  0.0  5.9  65  2.49624  0.0\n",
              "17          17  2022-06-04  17  25  0.0  5.6  65  1.75428  0.0\n",
              "18          18  2022-06-04  18  24  0.0  5.2  70  0.99360  0.0\n",
              "19          19  2022-06-04  19  23  0.0  4.6  75  0.36756  0.0\n",
              "20          20  2022-06-04  20  22  0.0  4.9  75  0.03024  0.0\n",
              "21          21  2022-06-04  21  22  0.0  4.6  80  0.00000  0.0\n",
              "22          22  2022-06-04  22  22  0.0  4.7  80  0.00000  0.0\n",
              "23          23  2022-06-04  23  22  0.0  4.9  80  0.00000  0.0"
            ],
            "text/html": [
              "\n",
              "  <div id=\"df-c79c8fa3-b7cd-46c1-8b93-ae2aa295b90f\">\n",
              "    <div class=\"colab-df-container\">\n",
              "      <div>\n",
              "<style scoped>\n",
              "    .dataframe tbody tr th:only-of-type {\n",
              "        vertical-align: middle;\n",
              "    }\n",
              "\n",
              "    .dataframe tbody tr th {\n",
              "        vertical-align: top;\n",
              "    }\n",
              "\n",
              "    .dataframe thead th {\n",
              "        text-align: right;\n",
              "    }\n",
              "</style>\n",
              "<table border=\"1\" class=\"dataframe\">\n",
              "  <thead>\n",
              "    <tr style=\"text-align: right;\">\n",
              "      <th></th>\n",
              "      <th>Unnamed: 0</th>\n",
              "      <th>날짜</th>\n",
              "      <th>시간</th>\n",
              "      <th>기온</th>\n",
              "      <th>강수량</th>\n",
              "      <th>풍속</th>\n",
              "      <th>습도</th>\n",
              "      <th>일사</th>\n",
              "      <th>적설량</th>\n",
              "    </tr>\n",
              "  </thead>\n",
              "  <tbody>\n",
              "    <tr>\n",
              "      <th>0</th>\n",
              "      <td>0</td>\n",
              "      <td>2022-06-04</td>\n",
              "      <td>0</td>\n",
              "      <td>20</td>\n",
              "      <td>0.0</td>\n",
              "      <td>3.4</td>\n",
              "      <td>80</td>\n",
              "      <td>0.00000</td>\n",
              "      <td>0.0</td>\n",
              "    </tr>\n",
              "    <tr>\n",
              "      <th>1</th>\n",
              "      <td>1</td>\n",
              "      <td>2022-06-04</td>\n",
              "      <td>1</td>\n",
              "      <td>20</td>\n",
              "      <td>0.0</td>\n",
              "      <td>3.4</td>\n",
              "      <td>80</td>\n",
              "      <td>0.00000</td>\n",
              "      <td>0.0</td>\n",
              "    </tr>\n",
              "    <tr>\n",
              "      <th>2</th>\n",
              "      <td>2</td>\n",
              "      <td>2022-06-04</td>\n",
              "      <td>2</td>\n",
              "      <td>19</td>\n",
              "      <td>0.0</td>\n",
              "      <td>3.4</td>\n",
              "      <td>80</td>\n",
              "      <td>0.00000</td>\n",
              "      <td>0.0</td>\n",
              "    </tr>\n",
              "    <tr>\n",
              "      <th>3</th>\n",
              "      <td>3</td>\n",
              "      <td>2022-06-04</td>\n",
              "      <td>3</td>\n",
              "      <td>19</td>\n",
              "      <td>0.0</td>\n",
              "      <td>3.7</td>\n",
              "      <td>80</td>\n",
              "      <td>0.00000</td>\n",
              "      <td>0.0</td>\n",
              "    </tr>\n",
              "    <tr>\n",
              "      <th>4</th>\n",
              "      <td>4</td>\n",
              "      <td>2022-06-04</td>\n",
              "      <td>4</td>\n",
              "      <td>19</td>\n",
              "      <td>0.0</td>\n",
              "      <td>3.8</td>\n",
              "      <td>80</td>\n",
              "      <td>0.00000</td>\n",
              "      <td>0.0</td>\n",
              "    </tr>\n",
              "    <tr>\n",
              "      <th>5</th>\n",
              "      <td>5</td>\n",
              "      <td>2022-06-04</td>\n",
              "      <td>5</td>\n",
              "      <td>20</td>\n",
              "      <td>0.0</td>\n",
              "      <td>3.8</td>\n",
              "      <td>85</td>\n",
              "      <td>0.00000</td>\n",
              "      <td>0.0</td>\n",
              "    </tr>\n",
              "    <tr>\n",
              "      <th>6</th>\n",
              "      <td>6</td>\n",
              "      <td>2022-06-04</td>\n",
              "      <td>6</td>\n",
              "      <td>20</td>\n",
              "      <td>0.0</td>\n",
              "      <td>4.2</td>\n",
              "      <td>85</td>\n",
              "      <td>0.02628</td>\n",
              "      <td>0.0</td>\n",
              "    </tr>\n",
              "    <tr>\n",
              "      <th>7</th>\n",
              "      <td>7</td>\n",
              "      <td>2022-06-04</td>\n",
              "      <td>7</td>\n",
              "      <td>21</td>\n",
              "      <td>0.0</td>\n",
              "      <td>4.3</td>\n",
              "      <td>80</td>\n",
              "      <td>0.42624</td>\n",
              "      <td>0.0</td>\n",
              "    </tr>\n",
              "    <tr>\n",
              "      <th>8</th>\n",
              "      <td>8</td>\n",
              "      <td>2022-06-04</td>\n",
              "      <td>8</td>\n",
              "      <td>21</td>\n",
              "      <td>0.0</td>\n",
              "      <td>5.3</td>\n",
              "      <td>80</td>\n",
              "      <td>1.10304</td>\n",
              "      <td>0.0</td>\n",
              "    </tr>\n",
              "    <tr>\n",
              "      <th>9</th>\n",
              "      <td>9</td>\n",
              "      <td>2022-06-04</td>\n",
              "      <td>9</td>\n",
              "      <td>23</td>\n",
              "      <td>0.0</td>\n",
              "      <td>5.7</td>\n",
              "      <td>75</td>\n",
              "      <td>1.84176</td>\n",
              "      <td>0.0</td>\n",
              "    </tr>\n",
              "    <tr>\n",
              "      <th>10</th>\n",
              "      <td>10</td>\n",
              "      <td>2022-06-04</td>\n",
              "      <td>10</td>\n",
              "      <td>24</td>\n",
              "      <td>0.0</td>\n",
              "      <td>5.7</td>\n",
              "      <td>70</td>\n",
              "      <td>2.47068</td>\n",
              "      <td>0.0</td>\n",
              "    </tr>\n",
              "    <tr>\n",
              "      <th>11</th>\n",
              "      <td>11</td>\n",
              "      <td>2022-06-04</td>\n",
              "      <td>11</td>\n",
              "      <td>25</td>\n",
              "      <td>0.0</td>\n",
              "      <td>5.8</td>\n",
              "      <td>65</td>\n",
              "      <td>2.88828</td>\n",
              "      <td>0.0</td>\n",
              "    </tr>\n",
              "    <tr>\n",
              "      <th>12</th>\n",
              "      <td>12</td>\n",
              "      <td>2022-06-04</td>\n",
              "      <td>12</td>\n",
              "      <td>25</td>\n",
              "      <td>0.0</td>\n",
              "      <td>5.9</td>\n",
              "      <td>65</td>\n",
              "      <td>3.35376</td>\n",
              "      <td>0.0</td>\n",
              "    </tr>\n",
              "    <tr>\n",
              "      <th>13</th>\n",
              "      <td>13</td>\n",
              "      <td>2022-06-04</td>\n",
              "      <td>13</td>\n",
              "      <td>25</td>\n",
              "      <td>0.0</td>\n",
              "      <td>6.1</td>\n",
              "      <td>65</td>\n",
              "      <td>3.33072</td>\n",
              "      <td>0.0</td>\n",
              "    </tr>\n",
              "    <tr>\n",
              "      <th>14</th>\n",
              "      <td>14</td>\n",
              "      <td>2022-06-04</td>\n",
              "      <td>14</td>\n",
              "      <td>25</td>\n",
              "      <td>0.0</td>\n",
              "      <td>5.9</td>\n",
              "      <td>65</td>\n",
              "      <td>3.19392</td>\n",
              "      <td>0.0</td>\n",
              "    </tr>\n",
              "    <tr>\n",
              "      <th>15</th>\n",
              "      <td>15</td>\n",
              "      <td>2022-06-04</td>\n",
              "      <td>15</td>\n",
              "      <td>26</td>\n",
              "      <td>0.0</td>\n",
              "      <td>6.1</td>\n",
              "      <td>65</td>\n",
              "      <td>2.82888</td>\n",
              "      <td>0.0</td>\n",
              "    </tr>\n",
              "    <tr>\n",
              "      <th>16</th>\n",
              "      <td>16</td>\n",
              "      <td>2022-06-04</td>\n",
              "      <td>16</td>\n",
              "      <td>25</td>\n",
              "      <td>0.0</td>\n",
              "      <td>5.9</td>\n",
              "      <td>65</td>\n",
              "      <td>2.49624</td>\n",
              "      <td>0.0</td>\n",
              "    </tr>\n",
              "    <tr>\n",
              "      <th>17</th>\n",
              "      <td>17</td>\n",
              "      <td>2022-06-04</td>\n",
              "      <td>17</td>\n",
              "      <td>25</td>\n",
              "      <td>0.0</td>\n",
              "      <td>5.6</td>\n",
              "      <td>65</td>\n",
              "      <td>1.75428</td>\n",
              "      <td>0.0</td>\n",
              "    </tr>\n",
              "    <tr>\n",
              "      <th>18</th>\n",
              "      <td>18</td>\n",
              "      <td>2022-06-04</td>\n",
              "      <td>18</td>\n",
              "      <td>24</td>\n",
              "      <td>0.0</td>\n",
              "      <td>5.2</td>\n",
              "      <td>70</td>\n",
              "      <td>0.99360</td>\n",
              "      <td>0.0</td>\n",
              "    </tr>\n",
              "    <tr>\n",
              "      <th>19</th>\n",
              "      <td>19</td>\n",
              "      <td>2022-06-04</td>\n",
              "      <td>19</td>\n",
              "      <td>23</td>\n",
              "      <td>0.0</td>\n",
              "      <td>4.6</td>\n",
              "      <td>75</td>\n",
              "      <td>0.36756</td>\n",
              "      <td>0.0</td>\n",
              "    </tr>\n",
              "    <tr>\n",
              "      <th>20</th>\n",
              "      <td>20</td>\n",
              "      <td>2022-06-04</td>\n",
              "      <td>20</td>\n",
              "      <td>22</td>\n",
              "      <td>0.0</td>\n",
              "      <td>4.9</td>\n",
              "      <td>75</td>\n",
              "      <td>0.03024</td>\n",
              "      <td>0.0</td>\n",
              "    </tr>\n",
              "    <tr>\n",
              "      <th>21</th>\n",
              "      <td>21</td>\n",
              "      <td>2022-06-04</td>\n",
              "      <td>21</td>\n",
              "      <td>22</td>\n",
              "      <td>0.0</td>\n",
              "      <td>4.6</td>\n",
              "      <td>80</td>\n",
              "      <td>0.00000</td>\n",
              "      <td>0.0</td>\n",
              "    </tr>\n",
              "    <tr>\n",
              "      <th>22</th>\n",
              "      <td>22</td>\n",
              "      <td>2022-06-04</td>\n",
              "      <td>22</td>\n",
              "      <td>22</td>\n",
              "      <td>0.0</td>\n",
              "      <td>4.7</td>\n",
              "      <td>80</td>\n",
              "      <td>0.00000</td>\n",
              "      <td>0.0</td>\n",
              "    </tr>\n",
              "    <tr>\n",
              "      <th>23</th>\n",
              "      <td>23</td>\n",
              "      <td>2022-06-04</td>\n",
              "      <td>23</td>\n",
              "      <td>22</td>\n",
              "      <td>0.0</td>\n",
              "      <td>4.9</td>\n",
              "      <td>80</td>\n",
              "      <td>0.00000</td>\n",
              "      <td>0.0</td>\n",
              "    </tr>\n",
              "  </tbody>\n",
              "</table>\n",
              "</div>\n",
              "      <button class=\"colab-df-convert\" onclick=\"convertToInteractive('df-c79c8fa3-b7cd-46c1-8b93-ae2aa295b90f')\"\n",
              "              title=\"Convert this dataframe to an interactive table.\"\n",
              "              style=\"display:none;\">\n",
              "        \n",
              "  <svg xmlns=\"http://www.w3.org/2000/svg\" height=\"24px\"viewBox=\"0 0 24 24\"\n",
              "       width=\"24px\">\n",
              "    <path d=\"M0 0h24v24H0V0z\" fill=\"none\"/>\n",
              "    <path d=\"M18.56 5.44l.94 2.06.94-2.06 2.06-.94-2.06-.94-.94-2.06-.94 2.06-2.06.94zm-11 1L8.5 8.5l.94-2.06 2.06-.94-2.06-.94L8.5 2.5l-.94 2.06-2.06.94zm10 10l.94 2.06.94-2.06 2.06-.94-2.06-.94-.94-2.06-.94 2.06-2.06.94z\"/><path d=\"M17.41 7.96l-1.37-1.37c-.4-.4-.92-.59-1.43-.59-.52 0-1.04.2-1.43.59L10.3 9.45l-7.72 7.72c-.78.78-.78 2.05 0 2.83L4 21.41c.39.39.9.59 1.41.59.51 0 1.02-.2 1.41-.59l7.78-7.78 2.81-2.81c.8-.78.8-2.07 0-2.86zM5.41 20L4 18.59l7.72-7.72 1.47 1.35L5.41 20z\"/>\n",
              "  </svg>\n",
              "      </button>\n",
              "      \n",
              "  <style>\n",
              "    .colab-df-container {\n",
              "      display:flex;\n",
              "      flex-wrap:wrap;\n",
              "      gap: 12px;\n",
              "    }\n",
              "\n",
              "    .colab-df-convert {\n",
              "      background-color: #E8F0FE;\n",
              "      border: none;\n",
              "      border-radius: 50%;\n",
              "      cursor: pointer;\n",
              "      display: none;\n",
              "      fill: #1967D2;\n",
              "      height: 32px;\n",
              "      padding: 0 0 0 0;\n",
              "      width: 32px;\n",
              "    }\n",
              "\n",
              "    .colab-df-convert:hover {\n",
              "      background-color: #E2EBFA;\n",
              "      box-shadow: 0px 1px 2px rgba(60, 64, 67, 0.3), 0px 1px 3px 1px rgba(60, 64, 67, 0.15);\n",
              "      fill: #174EA6;\n",
              "    }\n",
              "\n",
              "    [theme=dark] .colab-df-convert {\n",
              "      background-color: #3B4455;\n",
              "      fill: #D2E3FC;\n",
              "    }\n",
              "\n",
              "    [theme=dark] .colab-df-convert:hover {\n",
              "      background-color: #434B5C;\n",
              "      box-shadow: 0px 1px 3px 1px rgba(0, 0, 0, 0.15);\n",
              "      filter: drop-shadow(0px 1px 2px rgba(0, 0, 0, 0.3));\n",
              "      fill: #FFFFFF;\n",
              "    }\n",
              "  </style>\n",
              "\n",
              "      <script>\n",
              "        const buttonEl =\n",
              "          document.querySelector('#df-c79c8fa3-b7cd-46c1-8b93-ae2aa295b90f button.colab-df-convert');\n",
              "        buttonEl.style.display =\n",
              "          google.colab.kernel.accessAllowed ? 'block' : 'none';\n",
              "\n",
              "        async function convertToInteractive(key) {\n",
              "          const element = document.querySelector('#df-c79c8fa3-b7cd-46c1-8b93-ae2aa295b90f');\n",
              "          const dataTable =\n",
              "            await google.colab.kernel.invokeFunction('convertToInteractive',\n",
              "                                                     [key], {});\n",
              "          if (!dataTable) return;\n",
              "\n",
              "          const docLinkHtml = 'Like what you see? Visit the ' +\n",
              "            '<a target=\"_blank\" href=https://colab.research.google.com/notebooks/data_table.ipynb>data table notebook</a>'\n",
              "            + ' to learn more about interactive tables.';\n",
              "          element.innerHTML = '';\n",
              "          dataTable['output_type'] = 'display_data';\n",
              "          await google.colab.output.renderOutput(dataTable, element);\n",
              "          const docLink = document.createElement('div');\n",
              "          docLink.innerHTML = docLinkHtml;\n",
              "          element.appendChild(docLink);\n",
              "        }\n",
              "      </script>\n",
              "    </div>\n",
              "  </div>\n",
              "  "
            ]
          },
          "metadata": {},
          "execution_count": 4
        }
      ]
    },
    {
      "cell_type": "code",
      "source": [
        "import scipy.interpolate as ip\n",
        "from scipy.interpolate import splrep, splev\n",
        "import datetime\n",
        "\n",
        "xdata = xdata.drop(['Unnamed: 0'], axis = 1)\n",
        "xdata['month'] = pd.to_datetime(xdata['날짜']).dt.month\n",
        "xdata['day'] = pd.to_datetime(xdata['날짜']).dt.day\n",
        "\n",
        "df = xdata.drop(['날짜'], axis = 1)\n",
        "\n",
        "xdata = xdata[['기온', '강수량', '풍속', '습도', '일사', '적설량', 'month', 'day', '시간']]\n",
        "\n",
        "minute_temp = np.full((24,1), 00)\n",
        "minute_temp = pd.DataFrame(minute_temp)\n",
        "minute_temp.columns = ['minute']\n",
        "\n",
        "second_temp = np.full((24,1), 00)\n",
        "second_temp = pd.DataFrame(second_temp)\n",
        "second_temp.columns = ['second']\n",
        "\n",
        "df = pd.concat([df, minute_temp, second_temp], axis = 1)\n",
        "df['minute'] = df['minute'].astype(str)\n",
        "df['second'] = df['second'].astype(str)\n",
        "df['시간'] = df['시간'].astype(str)\n",
        "\n",
        "df['time'] = df['시간'] + ':' + df['minute'] + ':' + df['second']\n",
        "df = df.drop(['시간', 'minute', 'second'], axis = 1)\n",
        "\n",
        "year_temp = np.full((24,1), 2022)\n",
        "year_temp = pd.DataFrame(year_temp)\n",
        "year_temp.columns = ['year']\n",
        "\n",
        "df = pd.concat([df, year_temp], axis = 1)\n",
        "df['month'] = df['month'].astype(str)\n",
        "df['day'] = df['day'].astype(str)\n",
        "df['year'] = df['year'].astype(str)\n",
        "\n",
        "df['date'] = df['year'] + '-' + df['month'] + '-' + df['day']\n",
        "df = df.drop(['year', 'month', 'day'], axis = 1)\n",
        "\n",
        "df['date'] = pd.to_datetime(df['date']).dt.date\n",
        "df['time'] = pd.to_datetime(df['time'], format = '%H:%M:%S').dt.time\n",
        "\n",
        "df['date'] = df['date'].astype(str)\n",
        "df['time'] = df['time'].astype(str)\n",
        "\n",
        "df['datetime'] = df['date'] + ' ' + df['time']\n",
        "df = df.drop(['time', 'date'], axis = 1)\n",
        "\n",
        "df = df.drop(['풍속', '적설량'], axis = 1)\n",
        "\n",
        "end_time = df['datetime'][23].split(' ')[0]\n",
        "end_time = end_time + ' 23:55:00'\n",
        "df_temp = pd.date_range(start=df['datetime'][0], end=end_time, freq='5T')\n",
        "\n",
        "print('df_temp: \\n',df_temp)\n",
        "\n",
        "pd.DataFrame(df_temp).to_csv('df_test_temp.csv')\n",
        "\n",
        "df_temp = pd.DataFrame(df_temp)\n",
        "df_temp.columns = ['datetime']\n",
        "\n",
        "df.columns = ['temperature', 'precipitation', 'humidity', 'insolation', 'datetime']\n",
        "\n",
        "df['datetime'] = pd.to_datetime(df['datetime'])\n",
        "df_5m = pd.merge(df_temp, df, how='left', on=['datetime'])\n",
        "\n",
        "\n",
        "listfull = df_5m[df_5m['insolation'].notnull()].index\n",
        "listnull = df_5m[df_5m['insolation'].isnull()].index\n",
        "\n",
        "def spl(full_index, null_index, target):\n",
        "  input_value = list(df_5m[target][full_index]) + [df_5m[target][full_index[-1]]]\n",
        "  ax1 = list(full_index) + [288]\n",
        "  ax2 = list(null_index)\n",
        "\n",
        "  spl_line = splrep(ax1, input_value)\n",
        "  outputs = splev(ax2, spl_line)\n",
        "\n",
        "  for i in range(len(outputs)):\n",
        "    if outputs[i] < 0:\n",
        "      outputs[i] = 0             #It is impossible data to be negative\n",
        "  \n",
        "  return outputs\n",
        "\n",
        "df_temperature = spl(listfull, listnull, 'temperature')\n",
        "df_precipitation = spl(listfull, listnull, 'precipitation')\n",
        "df_humidity = spl(listfull, listnull, 'humidity')\n",
        "df_insolation = spl(listfull, listnull, 'insolation')\n",
        "\n",
        "def interpolation(df_, target):\n",
        "  count = 0\n",
        "  for i in listnull:\n",
        "    df_5m[target][i] = df_[count]\n",
        "    count += 1\n",
        "\n",
        "interpolation(df_temperature, 'temperature')\n",
        "interpolation(df_precipitation, 'precipitation')\n",
        "interpolation(df_humidity, 'humidity')\n",
        "interpolation(df_insolation, 'insolation')\n",
        "\n",
        "df_5m.to_csv('df_5m_show.csv')\n",
        "\n",
        "date_time = pd.to_datetime(df_5m['datetime'])\n",
        "date_time.to_csv('date_time.csv')\n",
        "timestamp_s = date_time.map(datetime.datetime.timestamp)\n",
        "#print('datetime.timestamp : \\n',datetime.datetime.timestamp)\n",
        "\n",
        "#print('timestamp_s : \\n', timestamp_s)\n",
        "\n",
        "day = 24*60*60\n",
        "year = (365.2425)*day\n",
        "\n",
        "df_5m['Day sin'] = np.sin(timestamp_s * (2 * np.pi / day))\n",
        "df_5m['Day cos'] = np.cos(timestamp_s * (2 * np.pi / day))\n",
        "df_5m['Year sin'] = np.sin(timestamp_s * (2 * np.pi / year))\n",
        "df_5m['Year cos'] = np.cos(timestamp_s * (2 * np.pi / year))\n",
        "\n",
        "df_5m = df_5m.drop(['datetime'], axis = 1)\n",
        "df_5m.info()"
      ],
      "metadata": {
        "colab": {
          "base_uri": "https://localhost:8080/"
        },
        "id": "M63ybb84G-yo",
        "outputId": "3ed8ad9a-e48d-4963-da31-d7b0dfb71856"
      },
      "execution_count": null,
      "outputs": [
        {
          "output_type": "stream",
          "name": "stdout",
          "text": [
            "df_temp: \n",
            " DatetimeIndex(['2022-06-04 00:00:00', '2022-06-04 00:05:00',\n",
            "               '2022-06-04 00:10:00', '2022-06-04 00:15:00',\n",
            "               '2022-06-04 00:20:00', '2022-06-04 00:25:00',\n",
            "               '2022-06-04 00:30:00', '2022-06-04 00:35:00',\n",
            "               '2022-06-04 00:40:00', '2022-06-04 00:45:00',\n",
            "               ...\n",
            "               '2022-06-04 23:10:00', '2022-06-04 23:15:00',\n",
            "               '2022-06-04 23:20:00', '2022-06-04 23:25:00',\n",
            "               '2022-06-04 23:30:00', '2022-06-04 23:35:00',\n",
            "               '2022-06-04 23:40:00', '2022-06-04 23:45:00',\n",
            "               '2022-06-04 23:50:00', '2022-06-04 23:55:00'],\n",
            "              dtype='datetime64[ns]', length=288, freq='5T')\n"
          ]
        },
        {
          "output_type": "stream",
          "name": "stderr",
          "text": [
            "/usr/local/lib/python3.7/dist-packages/ipykernel_launcher.py:94: SettingWithCopyWarning: \n",
            "A value is trying to be set on a copy of a slice from a DataFrame\n",
            "\n",
            "See the caveats in the documentation: https://pandas.pydata.org/pandas-docs/stable/user_guide/indexing.html#returning-a-view-versus-a-copy\n"
          ]
        },
        {
          "output_type": "stream",
          "name": "stdout",
          "text": [
            "<class 'pandas.core.frame.DataFrame'>\n",
            "Int64Index: 288 entries, 0 to 287\n",
            "Data columns (total 8 columns):\n",
            " #   Column         Non-Null Count  Dtype  \n",
            "---  ------         --------------  -----  \n",
            " 0   temperature    288 non-null    float64\n",
            " 1   precipitation  288 non-null    float64\n",
            " 2   humidity       288 non-null    float64\n",
            " 3   insolation     288 non-null    float64\n",
            " 4   Day sin        288 non-null    float64\n",
            " 5   Day cos        288 non-null    float64\n",
            " 6   Year sin       288 non-null    float64\n",
            " 7   Year cos       288 non-null    float64\n",
            "dtypes: float64(8)\n",
            "memory usage: 28.4 KB\n"
          ]
        }
      ]
    },
    {
      "cell_type": "code",
      "source": [
        "df_5m.to_csv('/content/drive/MyDrive/발전예측/2ndSpline/serner_input/df_5m.csv')"
      ],
      "metadata": {
        "id": "Gv5rIstn4Lrv"
      },
      "execution_count": null,
      "outputs": []
    },
    {
      "cell_type": "code",
      "source": [
        "print(datetime.datetime.now())"
      ],
      "metadata": {
        "colab": {
          "base_uri": "https://localhost:8080/"
        },
        "id": "T9QsvfkkykC3",
        "outputId": "4ec2cefd-66f2-4efa-9ee4-d0ba8aa4aa99"
      },
      "execution_count": null,
      "outputs": [
        {
          "output_type": "stream",
          "name": "stdout",
          "text": [
            "2022-06-04 08:25:38.080162\n"
          ]
        }
      ]
    },
    {
      "cell_type": "code",
      "source": [
        "# datetime을 만듭니다. \n",
        "date = pd.Timestamp('2022-06-04 17:30:00')\n",
        "\n",
        "# 시간대를 지정합니다.\n",
        "date_in_london = date.tz_localize('Europe/London')\n",
        "\n",
        "# datetime을 확인합니다.\n",
        "date_in_london"
      ],
      "metadata": {
        "colab": {
          "base_uri": "https://localhost:8080/"
        },
        "id": "TbG5dhfW1cbK",
        "outputId": "2c070e9c-f21d-472b-e87e-8c17b79da0bf"
      },
      "execution_count": null,
      "outputs": [
        {
          "output_type": "execute_result",
          "data": {
            "text/plain": [
              "Timestamp('2022-06-04 17:30:00+0100', tz='Europe/London')"
            ]
          },
          "metadata": {},
          "execution_count": 46
        }
      ]
    },
    {
      "cell_type": "code",
      "source": [
        "date_in_london.tz_convert('Africa/Abidjan')"
      ],
      "metadata": {
        "colab": {
          "base_uri": "https://localhost:8080/"
        },
        "id": "wdL_eGUm1m7x",
        "outputId": "0d956958-0760-470f-cfc8-842f7d18d97d"
      },
      "execution_count": null,
      "outputs": [
        {
          "output_type": "execute_result",
          "data": {
            "text/plain": [
              "Timestamp('2022-06-04 16:30:00+0000', tz='Africa/Abidjan')"
            ]
          },
          "metadata": {},
          "execution_count": 47
        }
      ]
    },
    {
      "cell_type": "code",
      "source": [
        "ax = np.arange(0,288,1)\n",
        "y1 = np.sin(2 * np.pi * ax / 288)\n",
        "y2 = np.cos(2 * np.pi * ax / 288)"
      ],
      "metadata": {
        "id": "DKd0XgGT2LX3"
      },
      "execution_count": null,
      "outputs": []
    },
    {
      "cell_type": "code",
      "source": [
        "plt.plot(y1)\n",
        "plt.plot(y2)"
      ],
      "metadata": {
        "colab": {
          "base_uri": "https://localhost:8080/",
          "height": 283
        },
        "id": "Io41Arom2XIC",
        "outputId": "3d8f9dfd-e3a4-4fc7-b097-0c656ef56e5b"
      },
      "execution_count": null,
      "outputs": [
        {
          "output_type": "execute_result",
          "data": {
            "text/plain": [
              "[<matplotlib.lines.Line2D at 0x7f60b0e45310>]"
            ]
          },
          "metadata": {},
          "execution_count": 62
        },
        {
          "output_type": "display_data",
          "data": {
            "text/plain": [
              "<Figure size 432x288 with 1 Axes>"
            ],
            "image/png": "[encoded data removed]"
          },
          "metadata": {
            "needs_background": "light"
          }
        }
      ]
    },
    {
      "cell_type": "code",
      "source": [
        "from datetime import datetime, timezone\n",
        "\n",
        "def utc_to_local(utc_dt):\n",
        "    return utc_dt.replace(tzinfo=timezone.utc).astimezone(tz=None)"
      ],
      "metadata": {
        "id": "aSQTj8-S1sOR"
      },
      "execution_count": null,
      "outputs": []
    },
    {
      "cell_type": "code",
      "source": [
        "plt.plot(df_5m['Day sin'], c = 'r', label = 'Day sin')\n",
        "plt.plot(df_5m['Day cos'], c = 'g', label = 'Day cos')\n",
        "plt.plot(df_5m['Year sin'], c = 'b', label = 'Year sin')\n",
        "plt.plot(df_5m['Year cos'], c = 'C5', label = 'Year cos')\n",
        "plt.legend()\n",
        "plt.show()"
      ],
      "metadata": {
        "colab": {
          "base_uri": "https://localhost:8080/",
          "height": 265
        },
        "id": "RA08RwrgdPwT",
        "outputId": "9d30a622-1138-44d0-a6a1-60e20f693787"
      },
      "execution_count": null,
      "outputs": [
        {
          "output_type": "display_data",
          "data": {
            "text/plain": [
              "<Figure size 432x288 with 1 Axes>"
            ],
            "image/png": "[encoded data removed]"
          },
          "metadata": {
            "needs_background": "light"
          }
        }
      ]
    },
    {
      "cell_type": "code",
      "source": [
        "pip show datetime"
      ],
      "metadata": {
        "colab": {
          "base_uri": "https://localhost:8080/"
        },
        "id": "MDxu4LQst3xx",
        "outputId": "29dec441-47f8-4eb8-8629-93d4785da3b4"
      },
      "execution_count": null,
      "outputs": [
        {
          "output_type": "stream",
          "name": "stdout",
          "text": [
            "\u001b[33mWARNING: Package(s) not found: datetime\u001b[0m\n"
          ]
        }
      ]
    },
    {
      "cell_type": "code",
      "source": [
        "x = [[1,2,3],[2,3,4],[3,4,5]]"
      ],
      "metadata": {
        "id": "gEm5Y2W9PhOl"
      },
      "execution_count": null,
      "outputs": []
    },
    {
      "cell_type": "code",
      "source": [
        "x = pd.DataFrame(x)"
      ],
      "metadata": {
        "id": "9LTi73IUPoDa"
      },
      "execution_count": null,
      "outputs": []
    },
    {
      "cell_type": "code",
      "source": [
        "x.columns = ['first', 'second', 'third']"
      ],
      "metadata": {
        "id": "3S81YaH1PpuB"
      },
      "execution_count": null,
      "outputs": []
    },
    {
      "cell_type": "code",
      "source": [
        "x"
      ],
      "metadata": {
        "colab": {
          "base_uri": "https://localhost:8080/",
          "height": 143
        },
        "id": "C29LnMVqPtrG",
        "outputId": "1dce575d-18ef-4bc6-b8d1-5c3f54903560"
      },
      "execution_count": null,
      "outputs": [
        {
          "output_type": "execute_result",
          "data": {
            "text/plain": [
              "   first  second  third\n",
              "0      1       2      3\n",
              "1      2       3      4\n",
              "2      3       4      5"
            ],
            "text/html": [
              "\n",
              "  <div id=\"df-4f0d7ff3-f253-4748-a17e-fc0b57dbfb54\">\n",
              "    <div class=\"colab-df-container\">\n",
              "      <div>\n",
              "<style scoped>\n",
              "    .dataframe tbody tr th:only-of-type {\n",
              "        vertical-align: middle;\n",
              "    }\n",
              "\n",
              "    .dataframe tbody tr th {\n",
              "        vertical-align: top;\n",
              "    }\n",
              "\n",
              "    .dataframe thead th {\n",
              "        text-align: right;\n",
              "    }\n",
              "</style>\n",
              "<table border=\"1\" class=\"dataframe\">\n",
              "  <thead>\n",
              "    <tr style=\"text-align: right;\">\n",
              "      <th></th>\n",
              "      <th>first</th>\n",
              "      <th>second</th>\n",
              "      <th>third</th>\n",
              "    </tr>\n",
              "  </thead>\n",
              "  <tbody>\n",
              "    <tr>\n",
              "      <th>0</th>\n",
              "      <td>1</td>\n",
              "      <td>2</td>\n",
              "      <td>3</td>\n",
              "    </tr>\n",
              "    <tr>\n",
              "      <th>1</th>\n",
              "      <td>2</td>\n",
              "      <td>3</td>\n",
              "      <td>4</td>\n",
              "    </tr>\n",
              "    <tr>\n",
              "      <th>2</th>\n",
              "      <td>3</td>\n",
              "      <td>4</td>\n",
              "      <td>5</td>\n",
              "    </tr>\n",
              "  </tbody>\n",
              "</table>\n",
              "</div>\n",
              "      <button class=\"colab-df-convert\" onclick=\"convertToInteractive('df-4f0d7ff3-f253-4748-a17e-fc0b57dbfb54')\"\n",
              "              title=\"Convert this dataframe to an interactive table.\"\n",
              "              style=\"display:none;\">\n",
              "        \n",
              "  <svg xmlns=\"http://www.w3.org/2000/svg\" height=\"24px\"viewBox=\"0 0 24 24\"\n",
              "       width=\"24px\">\n",
              "    <path d=\"M0 0h24v24H0V0z\" fill=\"none\"/>\n",
              "    <path d=\"M18.56 5.44l.94 2.06.94-2.06 2.06-.94-2.06-.94-.94-2.06-.94 2.06-2.06.94zm-11 1L8.5 8.5l.94-2.06 2.06-.94-2.06-.94L8.5 2.5l-.94 2.06-2.06.94zm10 10l.94 2.06.94-2.06 2.06-.94-2.06-.94-.94-2.06-.94 2.06-2.06.94z\"/><path d=\"M17.41 7.96l-1.37-1.37c-.4-.4-.92-.59-1.43-.59-.52 0-1.04.2-1.43.59L10.3 9.45l-7.72 7.72c-.78.78-.78 2.05 0 2.83L4 21.41c.39.39.9.59 1.41.59.51 0 1.02-.2 1.41-.59l7.78-7.78 2.81-2.81c.8-.78.8-2.07 0-2.86zM5.41 20L4 18.59l7.72-7.72 1.47 1.35L5.41 20z\"/>\n",
              "  </svg>\n",
              "      </button>\n",
              "      \n",
              "  <style>\n",
              "    .colab-df-container {\n",
              "      display:flex;\n",
              "      flex-wrap:wrap;\n",
              "      gap: 12px;\n",
              "    }\n",
              "\n",
              "    .colab-df-convert {\n",
              "      background-color: #E8F0FE;\n",
              "      border: none;\n",
              "      border-radius: 50%;\n",
              "      cursor: pointer;\n",
              "      display: none;\n",
              "      fill: #1967D2;\n",
              "      height: 32px;\n",
              "      padding: 0 0 0 0;\n",
              "      width: 32px;\n",
              "    }\n",
              "\n",
              "    .colab-df-convert:hover {\n",
              "      background-color: #E2EBFA;\n",
              "      box-shadow: 0px 1px 2px rgba(60, 64, 67, 0.3), 0px 1px 3px 1px rgba(60, 64, 67, 0.15);\n",
              "      fill: #174EA6;\n",
              "    }\n",
              "\n",
              "    [theme=dark] .colab-df-convert {\n",
              "      background-color: #3B4455;\n",
              "      fill: #D2E3FC;\n",
              "    }\n",
              "\n",
              "    [theme=dark] .colab-df-convert:hover {\n",
              "      background-color: #434B5C;\n",
              "      box-shadow: 0px 1px 3px 1px rgba(0, 0, 0, 0.15);\n",
              "      filter: drop-shadow(0px 1px 2px rgba(0, 0, 0, 0.3));\n",
              "      fill: #FFFFFF;\n",
              "    }\n",
              "  </style>\n",
              "\n",
              "      <script>\n",
              "        const buttonEl =\n",
              "          document.querySelector('#df-4f0d7ff3-f253-4748-a17e-fc0b57dbfb54 button.colab-df-convert');\n",
              "        buttonEl.style.display =\n",
              "          google.colab.kernel.accessAllowed ? 'block' : 'none';\n",
              "\n",
              "        async function convertToInteractive(key) {\n",
              "          const element = document.querySelector('#df-4f0d7ff3-f253-4748-a17e-fc0b57dbfb54');\n",
              "          const dataTable =\n",
              "            await google.colab.kernel.invokeFunction('convertToInteractive',\n",
              "                                                     [key], {});\n",
              "          if (!dataTable) return;\n",
              "\n",
              "          const docLinkHtml = 'Like what you see? Visit the ' +\n",
              "            '<a target=\"_blank\" href=https://colab.research.google.com/notebooks/data_table.ipynb>data table notebook</a>'\n",
              "            + ' to learn more about interactive tables.';\n",
              "          element.innerHTML = '';\n",
              "          dataTable['output_type'] = 'display_data';\n",
              "          await google.colab.output.renderOutput(dataTable, element);\n",
              "          const docLink = document.createElement('div');\n",
              "          docLink.innerHTML = docLinkHtml;\n",
              "          element.appendChild(docLink);\n",
              "        }\n",
              "      </script>\n",
              "    </div>\n",
              "  </div>\n",
              "  "
            ]
          },
          "metadata": {},
          "execution_count": 67
        }
      ]
    },
    {
      "cell_type": "code",
      "source": [
        "index_list = [1,2]"
      ],
      "metadata": {
        "id": "TvWcj8xTQGQ7"
      },
      "execution_count": null,
      "outputs": []
    },
    {
      "cell_type": "code",
      "source": [
        "y = ['two', 'three']"
      ],
      "metadata": {
        "id": "FtEKv_XfP0_s"
      },
      "execution_count": null,
      "outputs": []
    },
    {
      "cell_type": "code",
      "source": [
        "count = 0\n",
        "for i in index_list:\n",
        "  x['first'][i] = y[count]\n",
        "  count += 1"
      ],
      "metadata": {
        "id": "Af5rE4rYPuy8"
      },
      "execution_count": null,
      "outputs": []
    },
    {
      "cell_type": "code",
      "source": [
        "x"
      ],
      "metadata": {
        "colab": {
          "base_uri": "https://localhost:8080/",
          "height": 143
        },
        "id": "N5D99Hm2P6nj",
        "outputId": "a34b6cc6-be81-4235-95f8-03a1f16fd537"
      },
      "execution_count": null,
      "outputs": [
        {
          "output_type": "execute_result",
          "data": {
            "text/plain": [
              "   first  second  third\n",
              "0      1       2      3\n",
              "1    two       3      4\n",
              "2  three       4      5"
            ],
            "text/html": [
              "\n",
              "  <div id=\"df-6fc9d31e-ad5d-4f18-afea-419b961e5976\">\n",
              "    <div class=\"colab-df-container\">\n",
              "      <div>\n",
              "<style scoped>\n",
              "    .dataframe tbody tr th:only-of-type {\n",
              "        vertical-align: middle;\n",
              "    }\n",
              "\n",
              "    .dataframe tbody tr th {\n",
              "        vertical-align: top;\n",
              "    }\n",
              "\n",
              "    .dataframe thead th {\n",
              "        text-align: right;\n",
              "    }\n",
              "</style>\n",
              "<table border=\"1\" class=\"dataframe\">\n",
              "  <thead>\n",
              "    <tr style=\"text-align: right;\">\n",
              "      <th></th>\n",
              "      <th>first</th>\n",
              "      <th>second</th>\n",
              "      <th>third</th>\n",
              "    </tr>\n",
              "  </thead>\n",
              "  <tbody>\n",
              "    <tr>\n",
              "      <th>0</th>\n",
              "      <td>1</td>\n",
              "      <td>2</td>\n",
              "      <td>3</td>\n",
              "    </tr>\n",
              "    <tr>\n",
              "      <th>1</th>\n",
              "      <td>two</td>\n",
              "      <td>3</td>\n",
              "      <td>4</td>\n",
              "    </tr>\n",
              "    <tr>\n",
              "      <th>2</th>\n",
              "      <td>three</td>\n",
              "      <td>4</td>\n",
              "      <td>5</td>\n",
              "    </tr>\n",
              "  </tbody>\n",
              "</table>\n",
              "</div>\n",
              "      <button class=\"colab-df-convert\" onclick=\"convertToInteractive('df-6fc9d31e-ad5d-4f18-afea-419b961e5976')\"\n",
              "              title=\"Convert this dataframe to an interactive table.\"\n",
              "              style=\"display:none;\">\n",
              "        \n",
              "  <svg xmlns=\"http://www.w3.org/2000/svg\" height=\"24px\"viewBox=\"0 0 24 24\"\n",
              "       width=\"24px\">\n",
              "    <path d=\"M0 0h24v24H0V0z\" fill=\"none\"/>\n",
              "    <path d=\"M18.56 5.44l.94 2.06.94-2.06 2.06-.94-2.06-.94-.94-2.06-.94 2.06-2.06.94zm-11 1L8.5 8.5l.94-2.06 2.06-.94-2.06-.94L8.5 2.5l-.94 2.06-2.06.94zm10 10l.94 2.06.94-2.06 2.06-.94-2.06-.94-.94-2.06-.94 2.06-2.06.94z\"/><path d=\"M17.41 7.96l-1.37-1.37c-.4-.4-.92-.59-1.43-.59-.52 0-1.04.2-1.43.59L10.3 9.45l-7.72 7.72c-.78.78-.78 2.05 0 2.83L4 21.41c.39.39.9.59 1.41.59.51 0 1.02-.2 1.41-.59l7.78-7.78 2.81-2.81c.8-.78.8-2.07 0-2.86zM5.41 20L4 18.59l7.72-7.72 1.47 1.35L5.41 20z\"/>\n",
              "  </svg>\n",
              "      </button>\n",
              "      \n",
              "  <style>\n",
              "    .colab-df-container {\n",
              "      display:flex;\n",
              "      flex-wrap:wrap;\n",
              "      gap: 12px;\n",
              "    }\n",
              "\n",
              "    .colab-df-convert {\n",
              "      background-color: #E8F0FE;\n",
              "      border: none;\n",
              "      border-radius: 50%;\n",
              "      cursor: pointer;\n",
              "      display: none;\n",
              "      fill: #1967D2;\n",
              "      height: 32px;\n",
              "      padding: 0 0 0 0;\n",
              "      width: 32px;\n",
              "    }\n",
              "\n",
              "    .colab-df-convert:hover {\n",
              "      background-color: #E2EBFA;\n",
              "      box-shadow: 0px 1px 2px rgba(60, 64, 67, 0.3), 0px 1px 3px 1px rgba(60, 64, 67, 0.15);\n",
              "      fill: #174EA6;\n",
              "    }\n",
              "\n",
              "    [theme=dark] .colab-df-convert {\n",
              "      background-color: #3B4455;\n",
              "      fill: #D2E3FC;\n",
              "    }\n",
              "\n",
              "    [theme=dark] .colab-df-convert:hover {\n",
              "      background-color: #434B5C;\n",
              "      box-shadow: 0px 1px 3px 1px rgba(0, 0, 0, 0.15);\n",
              "      filter: drop-shadow(0px 1px 2px rgba(0, 0, 0, 0.3));\n",
              "      fill: #FFFFFF;\n",
              "    }\n",
              "  </style>\n",
              "\n",
              "      <script>\n",
              "        const buttonEl =\n",
              "          document.querySelector('#df-6fc9d31e-ad5d-4f18-afea-419b961e5976 button.colab-df-convert');\n",
              "        buttonEl.style.display =\n",
              "          google.colab.kernel.accessAllowed ? 'block' : 'none';\n",
              "\n",
              "        async function convertToInteractive(key) {\n",
              "          const element = document.querySelector('#df-6fc9d31e-ad5d-4f18-afea-419b961e5976');\n",
              "          const dataTable =\n",
              "            await google.colab.kernel.invokeFunction('convertToInteractive',\n",
              "                                                     [key], {});\n",
              "          if (!dataTable) return;\n",
              "\n",
              "          const docLinkHtml = 'Like what you see? Visit the ' +\n",
              "            '<a target=\"_blank\" href=https://colab.research.google.com/notebooks/data_table.ipynb>data table notebook</a>'\n",
              "            + ' to learn more about interactive tables.';\n",
              "          element.innerHTML = '';\n",
              "          dataTable['output_type'] = 'display_data';\n",
              "          await google.colab.output.renderOutput(dataTable, element);\n",
              "          const docLink = document.createElement('div');\n",
              "          docLink.innerHTML = docLinkHtml;\n",
              "          element.appendChild(docLink);\n",
              "        }\n",
              "      </script>\n",
              "    </div>\n",
              "  </div>\n",
              "  "
            ]
          },
          "metadata": {},
          "execution_count": 71
        }
      ]
    },
    {
      "cell_type": "code",
      "source": [
        "df_5m['insolation'][0]"
      ],
      "metadata": {
        "colab": {
          "base_uri": "https://localhost:8080/"
        },
        "id": "Z4EJXBlbOsSz",
        "outputId": "d6e92950-6ce9-45c7-81ba-cf17a3bca03d"
      },
      "execution_count": null,
      "outputs": [
        {
          "output_type": "execute_result",
          "data": {
            "text/plain": [
              "0.0"
            ]
          },
          "metadata": {},
          "execution_count": 34
        }
      ]
    },
    {
      "cell_type": "code",
      "source": [
        "import matplotlib.pyplot as plt\n",
        "\n",
        "plt.figure(figsize = (20,10))\n",
        "plt.plot(df_5m['temperature'], c = 'r', label = 'interpolated')\n",
        "plt.scatter(listfull, df_5m['temperature'][listfull], c = 'g', label = 'true')\n",
        "plt.legend()\n",
        "plt.show()\n"
      ],
      "metadata": {
        "colab": {
          "base_uri": "https://localhost:8080/",
          "height": 592
        },
        "id": "TLArKi8rU_h-",
        "outputId": "5856ea5e-4c4d-4223-f6bc-95c913138b2c"
      },
      "execution_count": null,
      "outputs": [
        {
          "output_type": "display_data",
          "data": {
            "text/plain": [
              "<Figure size 1440x720 with 1 Axes>"
            ],
            "image/png": "[encoded data removed]"
          },
          "metadata": {
            "needs_background": "light"
          }
        }
      ]
    },
    {
      "cell_type": "code",
      "source": [
        "plt.figure(figsize = (20,10))\n",
        "plt.plot(df_5m['precipitation'], c = 'r', label = 'interpolated')\n",
        "plt.scatter(listfull, df_5m['precipitation'][listfull], c = 'g', label = 'true')\n",
        "plt.legend()\n",
        "plt.show()"
      ],
      "metadata": {
        "colab": {
          "base_uri": "https://localhost:8080/",
          "height": 592
        },
        "id": "ksR9g2OJViGk",
        "outputId": "e59e6710-f827-4c31-8de9-1f2aee778aa1"
      },
      "execution_count": null,
      "outputs": [
        {
          "output_type": "display_data",
          "data": {
            "text/plain": [
              "<Figure size 1440x720 with 1 Axes>"
            ],
            "image/png": "[encoded data removed]"
          },
          "metadata": {
            "needs_background": "light"
          }
        }
      ]
    },
    {
      "cell_type": "code",
      "source": [
        "plt.figure(figsize = (20,10))\n",
        "plt.plot(df_5m['humidity'], c = 'r', label = 'interpolated')\n",
        "plt.scatter(listfull, df_5m['humidity'][listfull], c = 'g', label = 'true')\n",
        "plt.legend()\n",
        "plt.show()"
      ],
      "metadata": {
        "colab": {
          "base_uri": "https://localhost:8080/",
          "height": 592
        },
        "id": "rthtKca6VnhU",
        "outputId": "c46723ac-49de-44c4-9d45-99b379fbe1c5"
      },
      "execution_count": null,
      "outputs": [
        {
          "output_type": "display_data",
          "data": {
            "text/plain": [
              "<Figure size 1440x720 with 1 Axes>"
            ],
            "image/png": "[encoded data removed]"
          },
          "metadata": {
            "needs_background": "light"
          }
        }
      ]
    },
    {
      "cell_type": "code",
      "source": [
        "plt.figure(figsize = (20,10))\n",
        "plt.plot(df_5m['insolation'], c = 'r', label = 'interpolated')\n",
        "plt.scatter(listfull, df_5m['insolation'][listfull], c = 'g', label = 'true')\n",
        "plt.legend()\n",
        "plt.show()"
      ],
      "metadata": {
        "colab": {
          "base_uri": "https://localhost:8080/",
          "height": 592
        },
        "id": "NU9AjIyFVxOl",
        "outputId": "236c5055-1acf-4d89-cf3d-9e4203cf9be5"
      },
      "execution_count": null,
      "outputs": [
        {
          "output_type": "display_data",
          "data": {
            "text/plain": [
              "<Figure size 1440x720 with 1 Axes>"
            ],
            "image/png": "[encoded data removed]"
          },
          "metadata": {
            "needs_background": "light"
          }
        }
      ]
    },
    {
      "cell_type": "code",
      "source": [
        "plt.plot(np.array(df_5m['Day sin'])[:288])\n",
        "plt.plot(np.array(df_5m['Day cos'])[:288])\n",
        "plt.xlabel('Time [h]')\n",
        "plt.title('Time of day signal')"
      ],
      "metadata": {
        "colab": {
          "base_uri": "https://localhost:8080/",
          "height": 313
        },
        "id": "c_dBSApmaHRd",
        "outputId": "598aa46e-2cd7-41e9-af86-e9b96ac09e90"
      },
      "execution_count": null,
      "outputs": [
        {
          "output_type": "execute_result",
          "data": {
            "text/plain": [
              "Text(0.5, 1.0, 'Time of day signal')"
            ]
          },
          "metadata": {},
          "execution_count": 118
        },
        {
          "output_type": "display_data",
          "data": {
            "text/plain": [
              "<Figure size 432x288 with 1 Axes>"
            ],
            "image/png": "[encoded data removed]"
          },
          "metadata": {
            "needs_background": "light"
          }
        }
      ]
    },
    {
      "cell_type": "code",
      "source": [
        "plt.plot(np.array(df_5m['Year sin'])[:288*365])\n",
        "plt.plot(np.array(df_5m['Year cos'])[:288*365])\n",
        "plt.xlabel('Time [h]')\n",
        "plt.title('Time of Year signal')"
      ],
      "metadata": {
        "colab": {
          "base_uri": "https://localhost:8080/",
          "height": 313
        },
        "id": "bXAA62M4aOP1",
        "outputId": "c1bbf1fe-7d32-4cf2-bc3c-72c27bf11c4f"
      },
      "execution_count": null,
      "outputs": [
        {
          "output_type": "execute_result",
          "data": {
            "text/plain": [
              "Text(0.5, 1.0, 'Time of Year signal')"
            ]
          },
          "metadata": {},
          "execution_count": 119
        },
        {
          "output_type": "display_data",
          "data": {
            "text/plain": [
              "<Figure size 432x288 with 1 Axes>"
            ],
            "image/png": "[encoded data removed]"
          },
          "metadata": {
            "needs_background": "light"
          }
        }
      ]
    },
    {
      "cell_type": "markdown",
      "source": [
        "#다시 보간\n",
        "###-한번에 보간하려니 램을 너무 많이 잡아먹어서 세션이 다운됨"
      ],
      "metadata": {
        "id": "cYmH3TmuFAxr"
      }
    },
    {
      "cell_type": "code",
      "source": [
        "from google.colab import drive\n",
        "drive.mount('/content/drive')\n",
        "import numpy as np\n",
        "import pandas as pd\n",
        "import datetime\n",
        "import matplotlib.pyplot as plt\n",
        "import scipy.interpolate as ip\n",
        "from scipy.interpolate import splrep, splev\n",
        "import datetime"
      ],
      "metadata": {
        "id": "9TsOVl3PFD24"
      },
      "execution_count": null,
      "outputs": []
    },
    {
      "cell_type": "code",
      "source": [
        "import scipy.interpolate as ip\n",
        "from scipy.interpolate import splrep, splev\n",
        "import datetime"
      ],
      "metadata": {
        "id": "oV9xd8AOYpz-"
      },
      "execution_count": null,
      "outputs": []
    },
    {
      "cell_type": "code",
      "source": [
        "fcst_2020_raw = pd.read_csv('/content/drive/MyDrive/발전예측/2ndSpline/2020_fcst_raw.csv')\n",
        "energy_2020_raw = pd.read_csv('/content/drive/MyDrive/발전예측/2ndSpline/2020_energy_raw.csv')\n",
        "fcst_2021_raw = pd.read_csv('/content/drive/MyDrive/발전예측/2ndSpline/2021_fcst_raw.csv')\n",
        "energy_2021_raw = pd.read_csv('/content/drive/MyDrive/발전예측/2ndSpline/2021_energy_raw.csv')"
      ],
      "metadata": {
        "id": "IxJA7A_HFEPD"
      },
      "execution_count": null,
      "outputs": []
    },
    {
      "cell_type": "code",
      "source": [
        "fcst_2021_raw = pd.read_csv('/content/drive/MyDrive/발전예측/2ndSpline/2021_fcst_raw.csv')\n",
        "fcst_2020_raw = pd.read_csv('/content/drive/MyDrive/발전예측/2ndSpline/2020_fcst_raw.csv')"
      ],
      "metadata": {
        "id": "4sBzss-I_GDI"
      },
      "execution_count": null,
      "outputs": []
    },
    {
      "cell_type": "code",
      "source": [
        ""
      ],
      "metadata": {
        "id": "GCbDWYqm_Lm1"
      },
      "execution_count": null,
      "outputs": []
    },
    {
      "cell_type": "code",
      "source": [
        "fcst_2020_raw.isnull().sum()"
      ],
      "metadata": {
        "colab": {
          "base_uri": "https://localhost:8080/"
        },
        "id": "1_w3gbMaFEMB",
        "outputId": "eacab14b-1923-4c34-ed24-cc78b25faeec"
      },
      "execution_count": null,
      "outputs": [
        {
          "output_type": "execute_result",
          "data": {
            "text/plain": [
              "Unnamed: 0    0\n",
              "날짜            0\n",
              "시간            0\n",
              "기온            0\n",
              "강수량           0\n",
              "풍속            0\n",
              "습도            0\n",
              "일사            0\n",
              "일조            0\n",
              "적설량           0\n",
              "dtype: int64"
            ]
          },
          "metadata": {},
          "execution_count": 3
        }
      ]
    },
    {
      "cell_type": "code",
      "source": [
        "fcst_2021_raw.isnull().sum()"
      ],
      "metadata": {
        "colab": {
          "base_uri": "https://localhost:8080/"
        },
        "id": "5ijMArORFEJw",
        "outputId": "91223fc6-68ab-4fa3-e70b-c3d12c914cc7"
      },
      "execution_count": null,
      "outputs": [
        {
          "output_type": "execute_result",
          "data": {
            "text/plain": [
              "Unnamed: 0    0\n",
              "날짜            0\n",
              "시간            0\n",
              "기온            0\n",
              "강수량           0\n",
              "풍속            0\n",
              "습도            0\n",
              "일사            0\n",
              "일조            0\n",
              "적설량           0\n",
              "dtype: int64"
            ]
          },
          "metadata": {},
          "execution_count": 4
        }
      ]
    },
    {
      "cell_type": "code",
      "source": [
        "energy_2020_raw.isnull().sum()"
      ],
      "metadata": {
        "colab": {
          "base_uri": "https://localhost:8080/"
        },
        "id": "9h2rgp6MFEFl",
        "outputId": "880d97e1-24f7-4955-843f-a700030d7085"
      },
      "execution_count": null,
      "outputs": [
        {
          "output_type": "execute_result",
          "data": {
            "text/plain": [
              "Unnamed: 0      0\n",
              "날짜              0\n",
              "시간              0\n",
              "공급능력          162\n",
              "현재부하          162\n",
              "태양광합계         162\n",
              "풍력합계          162\n",
              "기타신재생         162\n",
              "신재생총합계        162\n",
              "dtype: int64"
            ]
          },
          "metadata": {},
          "execution_count": 5
        }
      ]
    },
    {
      "cell_type": "code",
      "source": [
        "energy_2021_raw.isnull().sum()"
      ],
      "metadata": {
        "colab": {
          "base_uri": "https://localhost:8080/"
        },
        "id": "tWUPxiz0FEDZ",
        "outputId": "1197b502-2ccf-47a1-cd70-3def0ff2cada"
      },
      "execution_count": null,
      "outputs": [
        {
          "output_type": "execute_result",
          "data": {
            "text/plain": [
              "Unnamed: 0       0\n",
              "날짜               0\n",
              "시간               0\n",
              "공급능력          1003\n",
              "현재부하          1003\n",
              "태양광합계         1003\n",
              "풍력합계          1003\n",
              "기타신재생         1003\n",
              "신재생총합계        1003\n",
              "dtype: int64"
            ]
          },
          "metadata": {},
          "execution_count": 6
        }
      ]
    },
    {
      "cell_type": "code",
      "source": [
        "energy_2020_raw.isnull().sum()"
      ],
      "metadata": {
        "colab": {
          "base_uri": "https://localhost:8080/"
        },
        "id": "z8pEtSxxHI0D",
        "outputId": "f75ee500-b5c5-47f7-9c5c-b324ac3eca05"
      },
      "execution_count": null,
      "outputs": [
        {
          "output_type": "execute_result",
          "data": {
            "text/plain": [
              "Unnamed: 0      0\n",
              "날짜              0\n",
              "시간              0\n",
              "공급능력          162\n",
              "현재부하          162\n",
              "태양광합계         162\n",
              "풍력합계          162\n",
              "기타신재생         162\n",
              "신재생총합계        162\n",
              "dtype: int64"
            ]
          },
          "metadata": {},
          "execution_count": 7
        }
      ]
    },
    {
      "cell_type": "code",
      "source": [
        "sunlight_2021 = energy_2021_raw['태양광합계']\n",
        "sunlight_2020 = energy_2020_raw['태양광합계']"
      ],
      "metadata": {
        "id": "YdiGZhSEQrQT"
      },
      "execution_count": null,
      "outputs": []
    },
    {
      "cell_type": "code",
      "source": [
        "sunlight_2021 = pd.DataFrame(sunlight_2021)\n",
        "sunlight_2020 = pd.DataFrame(sunlight_2020)"
      ],
      "metadata": {
        "id": "wn7kua2hQ19z"
      },
      "execution_count": null,
      "outputs": []
    },
    {
      "cell_type": "code",
      "source": [
        "sunlight_2021.columns = ['sunlight']\n",
        "sunlight_2020.columns = ['sunlight']"
      ],
      "metadata": {
        "id": "_8V_Z4RVRCNj"
      },
      "execution_count": null,
      "outputs": []
    },
    {
      "cell_type": "code",
      "source": [
        "sunlight_2021.isnull().sum()"
      ],
      "metadata": {
        "colab": {
          "base_uri": "https://localhost:8080/"
        },
        "id": "sVc0uCDiRHxf",
        "outputId": "b4a447b1-a597-435d-bc94-6474d7dbbf60"
      },
      "execution_count": null,
      "outputs": [
        {
          "output_type": "execute_result",
          "data": {
            "text/plain": [
              "sunlight    1003\n",
              "dtype: int64"
            ]
          },
          "metadata": {},
          "execution_count": 11
        }
      ]
    },
    {
      "cell_type": "code",
      "source": [
        "sunlight_2020.isnull().sum()"
      ],
      "metadata": {
        "colab": {
          "base_uri": "https://localhost:8080/"
        },
        "id": "PTwrtl2RRJ97",
        "outputId": "01ba82e6-13de-4c25-aaca-b8656d78e04d"
      },
      "execution_count": null,
      "outputs": [
        {
          "output_type": "execute_result",
          "data": {
            "text/plain": [
              "sunlight    162\n",
              "dtype: int64"
            ]
          },
          "metadata": {},
          "execution_count": 12
        }
      ]
    },
    {
      "cell_type": "code",
      "source": [
        "listfull_2021 = sunlight_2021[sunlight_2021.notnull()].index\n",
        "listfull_2020 = sunlight_2021[sunlight_2021.notnull()].index\n",
        "\n",
        "listnull_2021 = sunlight_2021[sunlight_2021.isnull()].index\n",
        "listnull_2020 = sunlight_2021[sunlight_2021.isnull()].index"
      ],
      "metadata": {
        "id": "aXDOoc5aRUbC"
      },
      "execution_count": null,
      "outputs": []
    },
    {
      "cell_type": "code",
      "source": [
        "ax1 = list(listfull_2021)\n",
        "ax2 = list(listnull_2021)"
      ],
      "metadata": {
        "id": "K-6iIo7lXgvQ"
      },
      "execution_count": null,
      "outputs": []
    },
    {
      "cell_type": "code",
      "source": [
        "input_2021 = list(sunlight_2021['sunlight'][listfull_2021])"
      ],
      "metadata": {
        "id": "aS7ZVj0TXsQH"
      },
      "execution_count": null,
      "outputs": []
    },
    {
      "cell_type": "code",
      "source": [
        "spl_line_2021 = splrep(ax1, input_2021)"
      ],
      "metadata": {
        "id": "bjjFpjqNXo8-"
      },
      "execution_count": null,
      "outputs": []
    },
    {
      "cell_type": "code",
      "source": [
        "outputs_2021 = splev(ax2, spl_line_2021)"
      ],
      "metadata": {
        "id": "8gQX4MfNX5fZ"
      },
      "execution_count": null,
      "outputs": []
    },
    {
      "cell_type": "code",
      "source": [
        "ax2"
      ],
      "metadata": {
        "id": "CYtGeX9hY10W"
      },
      "execution_count": null,
      "outputs": []
    },
    {
      "cell_type": "code",
      "source": [
        "count = 0\n",
        "for i in listnull_2021:\n",
        "  sunlight_2021[i] = outputs_2021[count]\n",
        "  count += 1"
      ],
      "metadata": {
        "colab": {
          "base_uri": "https://localhost:8080/"
        },
        "id": "cMh7w5DtX_Bi",
        "outputId": "6330d3b3-53ee-4ddf-fc0b-87498963e9b4"
      },
      "execution_count": null,
      "outputs": [
        {
          "output_type": "stream",
          "name": "stderr",
          "text": [
            "/usr/local/lib/python3.7/dist-packages/ipykernel_launcher.py:3: PerformanceWarning: DataFrame is highly fragmented.  This is usually the result of calling `frame.insert` many times, which has poor performance.  Consider joining all columns at once using pd.concat(axis=1) instead.  To get a de-fragmented frame, use `newframe = frame.copy()`\n",
            "  This is separate from the ipykernel package so we can avoid doing imports until\n"
          ]
        }
      ]
    },
    {
      "cell_type": "markdown",
      "source": [
        "#Interpolation for power demand"
      ],
      "metadata": {
        "id": "TOgHsLsgLtV3"
      }
    },
    {
      "cell_type": "code",
      "source": [
        "import numpy as np\n",
        "import pandas as pd\n",
        "import datetime\n",
        "import matplotlib.pyplot as plt\n",
        "from scipy.interpolate import splrep, splev\n",
        "import datetime"
      ],
      "metadata": {
        "id": "m_oojyGpND-l"
      },
      "execution_count": null,
      "outputs": []
    },
    {
      "cell_type": "code",
      "source": [
        "from google.colab import drive\n",
        "drive.mount('/content/drive')"
      ],
      "metadata": {
        "colab": {
          "base_uri": "https://localhost:8080/"
        },
        "id": "lSp7zIy0L4xU",
        "outputId": "c6117547-6a41-4489-ff82-ac6957eda370"
      },
      "execution_count": null,
      "outputs": [
        {
          "output_type": "stream",
          "name": "stdout",
          "text": [
            "Mounted at /content/drive\n"
          ]
        }
      ]
    },
    {
      "cell_type": "code",
      "source": [
        "demand_2020 = pd.read_csv(\"/content/drive/MyDrive/발전예측/2ndSpline/2020_energy_raw.csv\", index_col=0, thousands = ',')\n",
        "demand_2021 = pd.read_csv(\"/content/drive/MyDrive/발전예측/2ndSpline/2021_energy_raw.csv\", index_col=0, thousands = ',')"
      ],
      "metadata": {
        "id": "MSF6Wd95MC0l"
      },
      "execution_count": null,
      "outputs": []
    },
    {
      "cell_type": "code",
      "source": [
        "demand_2020 = demand_2020['현재부하']\n",
        "demand_2021 = demand_2021['현재부하']"
      ],
      "metadata": {
        "id": "To-B6_W2NKck"
      },
      "execution_count": null,
      "outputs": []
    },
    {
      "cell_type": "code",
      "source": [
        "demand_2020.columns = ['current_load']\n",
        "demand_2021.columns = ['current_load']"
      ],
      "metadata": {
        "id": "VxJgHcPRNMyr"
      },
      "execution_count": null,
      "outputs": []
    },
    {
      "cell_type": "code",
      "source": [
        "print('demand_2020 shape: ', demand_2020.shape)\n",
        "print('demand_2021 shape: ', demand_2021.shape)"
      ],
      "metadata": {
        "colab": {
          "base_uri": "https://localhost:8080/"
        },
        "id": "lmEhG8uVN3Ij",
        "outputId": "1b92c475-50f2-4143-9965-c56f2698c26a"
      },
      "execution_count": null,
      "outputs": [
        {
          "output_type": "stream",
          "name": "stdout",
          "text": [
            "demand_2020 shape:  (105408,)\n",
            "demand_2021 shape:  (105120,)\n"
          ]
        }
      ]
    },
    {
      "cell_type": "code",
      "source": [
        "date_2020 = pd.DataFrame()\n",
        "date_2020['date'] = pd.date_range(start='2020-01-01 00:00', end='2020-12-31 23:55', freq='5T')\n",
        "date_2021 = pd.DataFrame()\n",
        "date_2021['date'] = pd.date_range(start='2021-01-01 00:00', end='2021-12-31 23:55', freq='5T')"
      ],
      "metadata": {
        "id": "UgbyM7OENc2X"
      },
      "execution_count": null,
      "outputs": []
    },
    {
      "cell_type": "code",
      "source": [
        "print('date_2020 shape : ', date_2020.shape)\n",
        "print('date_2021 shape : ', date_2021.shape)"
      ],
      "metadata": {
        "colab": {
          "base_uri": "https://localhost:8080/"
        },
        "id": "b8GIHjrYOBvT",
        "outputId": "c394723b-565a-4668-e821-adc2dc76538f"
      },
      "execution_count": null,
      "outputs": [
        {
          "output_type": "stream",
          "name": "stdout",
          "text": [
            "date_2020 shape :  (105408, 1)\n",
            "date_2021 shape :  (105120, 1)\n"
          ]
        }
      ]
    },
    {
      "cell_type": "code",
      "source": [
        "print(demand_2020.isnull().sum())\n",
        "print(demand_2021.isnull().sum())"
      ],
      "metadata": {
        "colab": {
          "base_uri": "https://localhost:8080/"
        },
        "id": "BEd0eyRIOLDP",
        "outputId": "81cc4190-516f-423d-d0cb-726c62c4ae84"
      },
      "execution_count": null,
      "outputs": [
        {
          "output_type": "stream",
          "name": "stdout",
          "text": [
            "162\n",
            "1003\n"
          ]
        }
      ]
    },
    {
      "cell_type": "code",
      "source": [
        "print(demand_2021.head())"
      ],
      "metadata": {
        "colab": {
          "base_uri": "https://localhost:8080/"
        },
        "id": "qe3H0ui5PTCz",
        "outputId": "671c3a08-4661-426e-dfa6-0178db3122bb"
      },
      "execution_count": null,
      "outputs": [
        {
          "output_type": "stream",
          "name": "stdout",
          "text": [
            "0    759000.0\n",
            "1    752000.0\n",
            "2    749000.0\n",
            "3    750000.0\n",
            "4    740000.0\n",
            "Name: 현재부하, dtype: float64\n"
          ]
        }
      ]
    },
    {
      "cell_type": "code",
      "source": [
        "print(demand_2021[demand_2021.isnull()].index)"
      ],
      "metadata": {
        "colab": {
          "base_uri": "https://localhost:8080/"
        },
        "id": "sZSJhMQJPKTl",
        "outputId": "2180d915-1f05-4ee5-e58e-9010afb2dee1"
      },
      "execution_count": null,
      "outputs": [
        {
          "output_type": "stream",
          "name": "stdout",
          "text": [
            "Int64Index([], dtype='int64')\n"
          ]
        }
      ]
    },
    {
      "cell_type": "code",
      "source": [
        "demand_2020 = demand_2020.interpolate()\n",
        "demand_2021 = demand_2021.interpolate()"
      ],
      "metadata": {
        "id": "Y0QShnZSOTPD"
      },
      "execution_count": null,
      "outputs": []
    },
    {
      "cell_type": "code",
      "source": [
        "demand_2020_1 = pd.concat([demand_2020, demand_2021], axis=0)\n",
        "demand_2020_1.to_csv(\"/content/drive/MyDrive/신재생E/demand_2020_1.csv\")"
      ],
      "metadata": {
        "id": "CMx-b-yEQXrb"
      },
      "execution_count": null,
      "outputs": []
    },
    {
      "cell_type": "markdown",
      "source": [
        "#여기서 보간"
      ],
      "metadata": {
        "id": "OBxI3wBIxo2y"
      }
    },
    {
      "cell_type": "code",
      "source": [
        "from google.colab import drive\n",
        "drive.mount('/content/drive')\n",
        "import numpy as np\n",
        "import pandas as pd\n",
        "import datetime\n",
        "import matplotlib.pyplot as plt\n",
        "import scipy.interpolate as ip\n",
        "from scipy.interpolate import splrep, splev\n",
        "import datetime"
      ],
      "metadata": {
        "colab": {
          "base_uri": "https://localhost:8080/"
        },
        "id": "18n6wpYuZFG2",
        "outputId": "3e089d15-d1f7-4414-b805-ea4518f7063e"
      },
      "execution_count": null,
      "outputs": [
        {
          "output_type": "stream",
          "name": "stdout",
          "text": [
            "Drive already mounted at /content/drive; to attempt to forcibly remount, call drive.mount(\"/content/drive\", force_remount=True).\n"
          ]
        }
      ]
    },
    {
      "cell_type": "code",
      "source": [
        "energy_2020_raw = pd.read_csv('/content/drive/MyDrive/발전예측/2ndSpline/2020_energy_raw.csv', thousands = ',')\n",
        "energy_2021_raw = pd.read_csv('/content/drive/MyDrive/발전예측/2ndSpline/2021_energy_raw.csv', thousands = ',')"
      ],
      "metadata": {
        "id": "p9OY_fk9cGJN"
      },
      "execution_count": null,
      "outputs": []
    },
    {
      "cell_type": "code",
      "source": [
        "energy_2020_raw.drop(['Unnamed: 0'], axis = 1, inplace = True)\n",
        "energy_2021_raw.drop(['Unnamed: 0'], axis = 1, inplace = True)"
      ],
      "metadata": {
        "id": "lhIvEq1pZZl3"
      },
      "execution_count": null,
      "outputs": []
    },
    {
      "cell_type": "code",
      "source": [
        "energy_2020_raw = energy_2020_raw[['날짜', '시간', '태양광합계']]\n",
        "energy_2021_raw = energy_2021_raw[['날짜', '시간', '태양광합계']]"
      ],
      "metadata": {
        "id": "xhPXXxzYZrLY"
      },
      "execution_count": null,
      "outputs": []
    },
    {
      "cell_type": "code",
      "source": [
        "energy_2020_raw.columns = ['date', 'time', 'sunlight']\n",
        "energy_2021_raw.columns = ['date', 'time', 'sunlight']"
      ],
      "metadata": {
        "id": "S4Iu5tMtaRCv"
      },
      "execution_count": null,
      "outputs": []
    },
    {
      "cell_type": "code",
      "source": [
        "energy_2020_raw['date'] = energy_2020_raw['date'].astype(str)\n",
        "energy_2020_raw['time'] = energy_2020_raw['time'].astype(str)"
      ],
      "metadata": {
        "colab": {
          "base_uri": "https://localhost:8080/"
        },
        "id": "RXCGk_jBe5qh",
        "outputId": "76919a4d-aa93-469b-e1bd-0072987eb42c"
      },
      "execution_count": null,
      "outputs": [
        {
          "output_type": "stream",
          "name": "stderr",
          "text": [
            "/usr/local/lib/python3.7/dist-packages/ipykernel_launcher.py:1: SettingWithCopyWarning: \n",
            "A value is trying to be set on a copy of a slice from a DataFrame.\n",
            "Try using .loc[row_indexer,col_indexer] = value instead\n",
            "\n",
            "See the caveats in the documentation: https://pandas.pydata.org/pandas-docs/stable/user_guide/indexing.html#returning-a-view-versus-a-copy\n",
            "  \"\"\"Entry point for launching an IPython kernel.\n",
            "/usr/local/lib/python3.7/dist-packages/ipykernel_launcher.py:2: SettingWithCopyWarning: \n",
            "A value is trying to be set on a copy of a slice from a DataFrame.\n",
            "Try using .loc[row_indexer,col_indexer] = value instead\n",
            "\n",
            "See the caveats in the documentation: https://pandas.pydata.org/pandas-docs/stable/user_guide/indexing.html#returning-a-view-versus-a-copy\n",
            "  \n"
          ]
        }
      ]
    },
    {
      "cell_type": "code",
      "source": [
        "energy_2020_raw.info()"
      ],
      "metadata": {
        "colab": {
          "base_uri": "https://localhost:8080/"
        },
        "id": "BGdvEyoNfBPi",
        "outputId": "b18895e0-c0b2-43b6-db36-72e1caee75ce"
      },
      "execution_count": null,
      "outputs": [
        {
          "output_type": "stream",
          "name": "stdout",
          "text": [
            "<class 'pandas.core.frame.DataFrame'>\n",
            "RangeIndex: 105408 entries, 0 to 105407\n",
            "Data columns (total 3 columns):\n",
            " #   Column    Non-Null Count   Dtype  \n",
            "---  ------    --------------   -----  \n",
            " 0   date      105408 non-null  object \n",
            " 1   time      105408 non-null  object \n",
            " 2   sunlight  105246 non-null  float64\n",
            "dtypes: float64(1), object(2)\n",
            "memory usage: 2.4+ MB\n"
          ]
        }
      ]
    },
    {
      "cell_type": "code",
      "source": [
        "df_temp_2020 = energy_2020_raw['date'] + ' ' + energy_2020_raw['time']\n",
        "energy_2020_raw = pd.concat([energy_2020_raw, df_temp_2020], axis = 1)\n",
        "energy_2020_raw.drop(['date', 'time'], axis = 1, inplace = True)\n",
        "energy_2020_raw.columns = ['sunlight', 'date']\n",
        "energy_2020_raw.head()"
      ],
      "metadata": {
        "colab": {
          "base_uri": "https://localhost:8080/",
          "height": 206
        },
        "id": "KmPhGc40eR0j",
        "outputId": "333680ed-b74a-4fce-cb84-8794a6a454ff"
      },
      "execution_count": null,
      "outputs": [
        {
          "output_type": "execute_result",
          "data": {
            "text/plain": [
              "   sunlight                 date\n",
              "0       0.0  2020-01-01 00:00:00\n",
              "1       0.0  2020-01-01 00:05:00\n",
              "2       0.0  2020-01-01 00:10:00\n",
              "3       0.0  2020-01-01 00:15:00\n",
              "4       0.0  2020-01-01 00:20:00"
            ],
            "text/html": [
              "\n",
              "  <div id=\"df-e82b0f69-e33e-4e88-8f99-d4cd8b465cf2\">\n",
              "    <div class=\"colab-df-container\">\n",
              "      <div>\n",
              "<style scoped>\n",
              "    .dataframe tbody tr th:only-of-type {\n",
              "        vertical-align: middle;\n",
              "    }\n",
              "\n",
              "    .dataframe tbody tr th {\n",
              "        vertical-align: top;\n",
              "    }\n",
              "\n",
              "    .dataframe thead th {\n",
              "        text-align: right;\n",
              "    }\n",
              "</style>\n",
              "<table border=\"1\" class=\"dataframe\">\n",
              "  <thead>\n",
              "    <tr style=\"text-align: right;\">\n",
              "      <th></th>\n",
              "      <th>sunlight</th>\n",
              "      <th>date</th>\n",
              "    </tr>\n",
              "  </thead>\n",
              "  <tbody>\n",
              "    <tr>\n",
              "      <th>0</th>\n",
              "      <td>0.0</td>\n",
              "      <td>2020-01-01 00:00:00</td>\n",
              "    </tr>\n",
              "    <tr>\n",
              "      <th>1</th>\n",
              "      <td>0.0</td>\n",
              "      <td>2020-01-01 00:05:00</td>\n",
              "    </tr>\n",
              "    <tr>\n",
              "      <th>2</th>\n",
              "      <td>0.0</td>\n",
              "      <td>2020-01-01 00:10:00</td>\n",
              "    </tr>\n",
              "    <tr>\n",
              "      <th>3</th>\n",
              "      <td>0.0</td>\n",
              "      <td>2020-01-01 00:15:00</td>\n",
              "    </tr>\n",
              "    <tr>\n",
              "      <th>4</th>\n",
              "      <td>0.0</td>\n",
              "      <td>2020-01-01 00:20:00</td>\n",
              "    </tr>\n",
              "  </tbody>\n",
              "</table>\n",
              "</div>\n",
              "      <button class=\"colab-df-convert\" onclick=\"convertToInteractive('df-e82b0f69-e33e-4e88-8f99-d4cd8b465cf2')\"\n",
              "              title=\"Convert this dataframe to an interactive table.\"\n",
              "              style=\"display:none;\">\n",
              "        \n",
              "  <svg xmlns=\"http://www.w3.org/2000/svg\" height=\"24px\"viewBox=\"0 0 24 24\"\n",
              "       width=\"24px\">\n",
              "    <path d=\"M0 0h24v24H0V0z\" fill=\"none\"/>\n",
              "    <path d=\"M18.56 5.44l.94 2.06.94-2.06 2.06-.94-2.06-.94-.94-2.06-.94 2.06-2.06.94zm-11 1L8.5 8.5l.94-2.06 2.06-.94-2.06-.94L8.5 2.5l-.94 2.06-2.06.94zm10 10l.94 2.06.94-2.06 2.06-.94-2.06-.94-.94-2.06-.94 2.06-2.06.94z\"/><path d=\"M17.41 7.96l-1.37-1.37c-.4-.4-.92-.59-1.43-.59-.52 0-1.04.2-1.43.59L10.3 9.45l-7.72 7.72c-.78.78-.78 2.05 0 2.83L4 21.41c.39.39.9.59 1.41.59.51 0 1.02-.2 1.41-.59l7.78-7.78 2.81-2.81c.8-.78.8-2.07 0-2.86zM5.41 20L4 18.59l7.72-7.72 1.47 1.35L5.41 20z\"/>\n",
              "  </svg>\n",
              "      </button>\n",
              "      \n",
              "  <style>\n",
              "    .colab-df-container {\n",
              "      display:flex;\n",
              "      flex-wrap:wrap;\n",
              "      gap: 12px;\n",
              "    }\n",
              "\n",
              "    .colab-df-convert {\n",
              "      background-color: #E8F0FE;\n",
              "      border: none;\n",
              "      border-radius: 50%;\n",
              "      cursor: pointer;\n",
              "      display: none;\n",
              "      fill: #1967D2;\n",
              "      height: 32px;\n",
              "      padding: 0 0 0 0;\n",
              "      width: 32px;\n",
              "    }\n",
              "\n",
              "    .colab-df-convert:hover {\n",
              "      background-color: #E2EBFA;\n",
              "      box-shadow: 0px 1px 2px rgba(60, 64, 67, 0.3), 0px 1px 3px 1px rgba(60, 64, 67, 0.15);\n",
              "      fill: #174EA6;\n",
              "    }\n",
              "\n",
              "    [theme=dark] .colab-df-convert {\n",
              "      background-color: #3B4455;\n",
              "      fill: #D2E3FC;\n",
              "    }\n",
              "\n",
              "    [theme=dark] .colab-df-convert:hover {\n",
              "      background-color: #434B5C;\n",
              "      box-shadow: 0px 1px 3px 1px rgba(0, 0, 0, 0.15);\n",
              "      filter: drop-shadow(0px 1px 2px rgba(0, 0, 0, 0.3));\n",
              "      fill: #FFFFFF;\n",
              "    }\n",
              "  </style>\n",
              "\n",
              "      <script>\n",
              "        const buttonEl =\n",
              "          document.querySelector('#df-e82b0f69-e33e-4e88-8f99-d4cd8b465cf2 button.colab-df-convert');\n",
              "        buttonEl.style.display =\n",
              "          google.colab.kernel.accessAllowed ? 'block' : 'none';\n",
              "\n",
              "        async function convertToInteractive(key) {\n",
              "          const element = document.querySelector('#df-e82b0f69-e33e-4e88-8f99-d4cd8b465cf2');\n",
              "          const dataTable =\n",
              "            await google.colab.kernel.invokeFunction('convertToInteractive',\n",
              "                                                     [key], {});\n",
              "          if (!dataTable) return;\n",
              "\n",
              "          const docLinkHtml = 'Like what you see? Visit the ' +\n",
              "            '<a target=\"_blank\" href=https://colab.research.google.com/notebooks/data_table.ipynb>data table notebook</a>'\n",
              "            + ' to learn more about interactive tables.';\n",
              "          element.innerHTML = '';\n",
              "          dataTable['output_type'] = 'display_data';\n",
              "          await google.colab.output.renderOutput(dataTable, element);\n",
              "          const docLink = document.createElement('div');\n",
              "          docLink.innerHTML = docLinkHtml;\n",
              "          element.appendChild(docLink);\n",
              "        }\n",
              "      </script>\n",
              "    </div>\n",
              "  </div>\n",
              "  "
            ]
          },
          "metadata": {},
          "execution_count": 290
        }
      ]
    },
    {
      "cell_type": "code",
      "source": [
        "df_temp_2021 = energy_2021_raw['date'] + ' ' + energy_2021_raw['time']\n",
        "energy_2021_raw = pd.concat([energy_2021_raw, df_temp_2021], axis = 1)\n",
        "energy_2021_raw.drop(['date', 'time'], axis = 1, inplace = True)\n",
        "energy_2021_raw.columns = ['sunlight', 'date']\n",
        "energy_2021_raw.head()"
      ],
      "metadata": {
        "colab": {
          "base_uri": "https://localhost:8080/",
          "height": 206
        },
        "id": "Vekryn1jfKQB",
        "outputId": "d9b5e699-7985-4f11-9710-3ee9e19df73a"
      },
      "execution_count": null,
      "outputs": [
        {
          "output_type": "execute_result",
          "data": {
            "text/plain": [
              "   sunlight                 date\n",
              "0       0.0  2021-01-01 00:00:00\n",
              "1       0.0  2021-01-01 00:05:00\n",
              "2       0.0  2021-01-01 00:10:00\n",
              "3       0.0  2021-01-01 00:15:00\n",
              "4       0.0  2021-01-01 00:20:00"
            ],
            "text/html": [
              "\n",
              "  <div id=\"df-7a49dcfd-8ff1-40d2-b073-b07e4e37a5a4\">\n",
              "    <div class=\"colab-df-container\">\n",
              "      <div>\n",
              "<style scoped>\n",
              "    .dataframe tbody tr th:only-of-type {\n",
              "        vertical-align: middle;\n",
              "    }\n",
              "\n",
              "    .dataframe tbody tr th {\n",
              "        vertical-align: top;\n",
              "    }\n",
              "\n",
              "    .dataframe thead th {\n",
              "        text-align: right;\n",
              "    }\n",
              "</style>\n",
              "<table border=\"1\" class=\"dataframe\">\n",
              "  <thead>\n",
              "    <tr style=\"text-align: right;\">\n",
              "      <th></th>\n",
              "      <th>sunlight</th>\n",
              "      <th>date</th>\n",
              "    </tr>\n",
              "  </thead>\n",
              "  <tbody>\n",
              "    <tr>\n",
              "      <th>0</th>\n",
              "      <td>0.0</td>\n",
              "      <td>2021-01-01 00:00:00</td>\n",
              "    </tr>\n",
              "    <tr>\n",
              "      <th>1</th>\n",
              "      <td>0.0</td>\n",
              "      <td>2021-01-01 00:05:00</td>\n",
              "    </tr>\n",
              "    <tr>\n",
              "      <th>2</th>\n",
              "      <td>0.0</td>\n",
              "      <td>2021-01-01 00:10:00</td>\n",
              "    </tr>\n",
              "    <tr>\n",
              "      <th>3</th>\n",
              "      <td>0.0</td>\n",
              "      <td>2021-01-01 00:15:00</td>\n",
              "    </tr>\n",
              "    <tr>\n",
              "      <th>4</th>\n",
              "      <td>0.0</td>\n",
              "      <td>2021-01-01 00:20:00</td>\n",
              "    </tr>\n",
              "  </tbody>\n",
              "</table>\n",
              "</div>\n",
              "      <button class=\"colab-df-convert\" onclick=\"convertToInteractive('df-7a49dcfd-8ff1-40d2-b073-b07e4e37a5a4')\"\n",
              "              title=\"Convert this dataframe to an interactive table.\"\n",
              "              style=\"display:none;\">\n",
              "        \n",
              "  <svg xmlns=\"http://www.w3.org/2000/svg\" height=\"24px\"viewBox=\"0 0 24 24\"\n",
              "       width=\"24px\">\n",
              "    <path d=\"M0 0h24v24H0V0z\" fill=\"none\"/>\n",
              "    <path d=\"M18.56 5.44l.94 2.06.94-2.06 2.06-.94-2.06-.94-.94-2.06-.94 2.06-2.06.94zm-11 1L8.5 8.5l.94-2.06 2.06-.94-2.06-.94L8.5 2.5l-.94 2.06-2.06.94zm10 10l.94 2.06.94-2.06 2.06-.94-2.06-.94-.94-2.06-.94 2.06-2.06.94z\"/><path d=\"M17.41 7.96l-1.37-1.37c-.4-.4-.92-.59-1.43-.59-.52 0-1.04.2-1.43.59L10.3 9.45l-7.72 7.72c-.78.78-.78 2.05 0 2.83L4 21.41c.39.39.9.59 1.41.59.51 0 1.02-.2 1.41-.59l7.78-7.78 2.81-2.81c.8-.78.8-2.07 0-2.86zM5.41 20L4 18.59l7.72-7.72 1.47 1.35L5.41 20z\"/>\n",
              "  </svg>\n",
              "      </button>\n",
              "      \n",
              "  <style>\n",
              "    .colab-df-container {\n",
              "      display:flex;\n",
              "      flex-wrap:wrap;\n",
              "      gap: 12px;\n",
              "    }\n",
              "\n",
              "    .colab-df-convert {\n",
              "      background-color: #E8F0FE;\n",
              "      border: none;\n",
              "      border-radius: 50%;\n",
              "      cursor: pointer;\n",
              "      display: none;\n",
              "      fill: #1967D2;\n",
              "      height: 32px;\n",
              "      padding: 0 0 0 0;\n",
              "      width: 32px;\n",
              "    }\n",
              "\n",
              "    .colab-df-convert:hover {\n",
              "      background-color: #E2EBFA;\n",
              "      box-shadow: 0px 1px 2px rgba(60, 64, 67, 0.3), 0px 1px 3px 1px rgba(60, 64, 67, 0.15);\n",
              "      fill: #174EA6;\n",
              "    }\n",
              "\n",
              "    [theme=dark] .colab-df-convert {\n",
              "      background-color: #3B4455;\n",
              "      fill: #D2E3FC;\n",
              "    }\n",
              "\n",
              "    [theme=dark] .colab-df-convert:hover {\n",
              "      background-color: #434B5C;\n",
              "      box-shadow: 0px 1px 3px 1px rgba(0, 0, 0, 0.15);\n",
              "      filter: drop-shadow(0px 1px 2px rgba(0, 0, 0, 0.3));\n",
              "      fill: #FFFFFF;\n",
              "    }\n",
              "  </style>\n",
              "\n",
              "      <script>\n",
              "        const buttonEl =\n",
              "          document.querySelector('#df-7a49dcfd-8ff1-40d2-b073-b07e4e37a5a4 button.colab-df-convert');\n",
              "        buttonEl.style.display =\n",
              "          google.colab.kernel.accessAllowed ? 'block' : 'none';\n",
              "\n",
              "        async function convertToInteractive(key) {\n",
              "          const element = document.querySelector('#df-7a49dcfd-8ff1-40d2-b073-b07e4e37a5a4');\n",
              "          const dataTable =\n",
              "            await google.colab.kernel.invokeFunction('convertToInteractive',\n",
              "                                                     [key], {});\n",
              "          if (!dataTable) return;\n",
              "\n",
              "          const docLinkHtml = 'Like what you see? Visit the ' +\n",
              "            '<a target=\"_blank\" href=https://colab.research.google.com/notebooks/data_table.ipynb>data table notebook</a>'\n",
              "            + ' to learn more about interactive tables.';\n",
              "          element.innerHTML = '';\n",
              "          dataTable['output_type'] = 'display_data';\n",
              "          await google.colab.output.renderOutput(dataTable, element);\n",
              "          const docLink = document.createElement('div');\n",
              "          docLink.innerHTML = docLinkHtml;\n",
              "          element.appendChild(docLink);\n",
              "        }\n",
              "      </script>\n",
              "    </div>\n",
              "  </div>\n",
              "  "
            ]
          },
          "metadata": {},
          "execution_count": 291
        }
      ]
    },
    {
      "cell_type": "code",
      "source": [
        "df_date_2020 = pd.DataFrame()\n",
        "df_date_2020['date'] = pd.date_range(start='2020-01-01 00:00', end='2020-12-31 23:55', freq='5T')\n",
        "df_date_2021 = pd.DataFrame()\n",
        "df_date_2021['date'] = pd.date_range(start='2021-01-01 00:00', end='2021-12-31 23:55', freq='5T')"
      ],
      "metadata": {
        "id": "DaW99wl1pA4I"
      },
      "execution_count": null,
      "outputs": []
    },
    {
      "cell_type": "code",
      "source": [
        "energy_2021_raw['date'] = pd.to_datetime(energy_2021_raw['date'])\n",
        "energy_2020_raw['date'] = pd.to_datetime(energy_2020_raw['date'])"
      ],
      "metadata": {
        "id": "qNoTUJHmf9fq"
      },
      "execution_count": null,
      "outputs": []
    },
    {
      "cell_type": "code",
      "source": [
        "df_5m_2021 = pd.merge(df_date_2021, energy_2021_raw, how='left', on=['date'])\n",
        "df_5m_2020 = pd.merge(df_date_2020, energy_2020_raw, how='left', on=['date'])"
      ],
      "metadata": {
        "id": "bxU7_ENWqeRr"
      },
      "execution_count": null,
      "outputs": []
    },
    {
      "cell_type": "code",
      "source": [
        "df_5m_2020_toshow = pd.merge(df_date_2020, energy_2020_raw, how='left', on=['date'])"
      ],
      "metadata": {
        "id": "KJRr9h_p95ca"
      },
      "execution_count": null,
      "outputs": []
    },
    {
      "cell_type": "code",
      "source": [
        "df_5m_2021.isnull().sum()"
      ],
      "metadata": {
        "colab": {
          "base_uri": "https://localhost:8080/"
        },
        "id": "JoU-WUg1s8WT",
        "outputId": "311483be-592c-4287-9dc3-bd270d323995"
      },
      "execution_count": null,
      "outputs": [
        {
          "output_type": "execute_result",
          "data": {
            "text/plain": [
              "date           0\n",
              "sunlight    1003\n",
              "dtype: int64"
            ]
          },
          "metadata": {},
          "execution_count": 207
        }
      ]
    },
    {
      "cell_type": "code",
      "source": [
        "df_5m_2020.isnull().sum()"
      ],
      "metadata": {
        "colab": {
          "base_uri": "https://localhost:8080/"
        },
        "id": "PizLLsh3bGBX",
        "outputId": "512e06dc-becf-45b6-8323-4e9f7b2815dc"
      },
      "execution_count": null,
      "outputs": [
        {
          "output_type": "execute_result",
          "data": {
            "text/plain": [
              "date          0\n",
              "sunlight    162\n",
              "dtype: int64"
            ]
          },
          "metadata": {},
          "execution_count": 208
        }
      ]
    },
    {
      "cell_type": "code",
      "source": [
        "df_5m_2021.info()"
      ],
      "metadata": {
        "colab": {
          "base_uri": "https://localhost:8080/"
        },
        "id": "JLUIyzT5guJS",
        "outputId": "104323d2-c2fe-4654-932e-60e33ab8b8a9"
      },
      "execution_count": null,
      "outputs": [
        {
          "output_type": "stream",
          "name": "stdout",
          "text": [
            "<class 'pandas.core.frame.DataFrame'>\n",
            "Int64Index: 105120 entries, 0 to 105119\n",
            "Data columns (total 2 columns):\n",
            " #   Column    Non-Null Count   Dtype         \n",
            "---  ------    --------------   -----         \n",
            " 0   date      105120 non-null  datetime64[ns]\n",
            " 1   sunlight  104117 non-null  float64       \n",
            "dtypes: datetime64[ns](1), float64(1)\n",
            "memory usage: 2.4 MB\n"
          ]
        }
      ]
    },
    {
      "cell_type": "code",
      "source": [
        "df_5m_2020.info()"
      ],
      "metadata": {
        "colab": {
          "base_uri": "https://localhost:8080/"
        },
        "id": "ePJOReMSgwFT",
        "outputId": "9e7c98d6-51a2-4735-dec1-4caf343245b2"
      },
      "execution_count": null,
      "outputs": [
        {
          "output_type": "stream",
          "name": "stdout",
          "text": [
            "<class 'pandas.core.frame.DataFrame'>\n",
            "Int64Index: 105408 entries, 0 to 105407\n",
            "Data columns (total 2 columns):\n",
            " #   Column    Non-Null Count   Dtype         \n",
            "---  ------    --------------   -----         \n",
            " 0   date      105408 non-null  datetime64[ns]\n",
            " 1   sunlight  105246 non-null  float64       \n",
            "dtypes: datetime64[ns](1), float64(1)\n",
            "memory usage: 2.4 MB\n"
          ]
        }
      ]
    },
    {
      "cell_type": "markdown",
      "source": [
        "#df_5m 보간하기\n",
        "\n",
        "트러블 슈팅 \n",
        "\n",
        "결측치 위치를 모두 알아내고 한번에 보간하려고 하면 이전 결측치 때문에 splev 함수에 nan값이 들어갈 수 있다.\n",
        "\n",
        "따라서 결측치가 발생한 앞부분부터 차례대로 보간을 실시해야 함.\n"
      ],
      "metadata": {
        "id": "_2aaaqYr4ZuE"
      }
    },
    {
      "cell_type": "code",
      "source": [
        "def bunchnull(df, target):\n",
        "  listnull = df[df[target].isnull()].index\n",
        "  bunchnull = []\n",
        "  temp = []\n",
        "  last_value = listnull[len(listnull)-1]\n",
        "  for i in range(0,len(listnull)-1):\n",
        "    if (listnull[i]+1 == (listnull[i+1])):\n",
        "      print('a',i)\n",
        "      temp.append(listnull[i])\n",
        "    elif (listnull[i]+1 < (listnull[i+1])):\n",
        "      print('t',i)\n",
        "      temp.append(listnull[i])\n",
        "      bunchnull.append(temp)\n",
        "      temp = []\n",
        "    if (listnull[i+1] == last_value):\n",
        "      print('o',i)\n",
        "      temp.append(listnull[len(listnull)-1])\n",
        "      bunchnull.append(temp)\n",
        "  return bunchnull"
      ],
      "metadata": {
        "id": "Rz9nZfeh6lGr"
      },
      "execution_count": null,
      "outputs": []
    },
    {
      "cell_type": "code",
      "source": [
        "bunchnull_2020 = bunchnull(df_5m_2020, 'sunlight')\n",
        "bunchnull_2021 = bunchnull(df_5m_2021, 'sunlight')"
      ],
      "metadata": {
        "colab": {
          "base_uri": "https://localhost:8080/"
        },
        "id": "d8avBcBCg-b7",
        "outputId": "7efe4bd5-7d26-440c-999d-715c0a740ecb"
      },
      "execution_count": null,
      "outputs": [
        {
          "output_type": "stream",
          "name": "stdout",
          "text": [
            "a 0\n",
            "a 1\n",
            "t 2\n",
            "a 3\n",
            "a 4\n",
            "a 5\n",
            "t 6\n",
            "t 7\n",
            "t 8\n",
            "t 9\n",
            "t 10\n",
            "t 11\n",
            "t 12\n",
            "t 13\n",
            "t 14\n",
            "t 15\n",
            "t 16\n",
            "t 17\n",
            "t 18\n",
            "t 19\n",
            "t 20\n",
            "t 21\n",
            "t 22\n",
            "t 23\n",
            "t 24\n",
            "t 25\n",
            "t 26\n",
            "t 27\n",
            "a 28\n",
            "a 29\n",
            "a 30\n",
            "a 31\n",
            "a 32\n",
            "t 33\n",
            "t 34\n",
            "a 35\n",
            "a 36\n",
            "t 37\n",
            "a 38\n",
            "a 39\n",
            "a 40\n",
            "a 41\n",
            "t 42\n",
            "t 43\n",
            "a 44\n",
            "a 45\n",
            "t 46\n",
            "a 47\n",
            "t 48\n",
            "a 49\n",
            "a 50\n",
            "t 51\n",
            "t 52\n",
            "t 53\n",
            "a 54\n",
            "t 55\n",
            "t 56\n",
            "t 57\n",
            "t 58\n",
            "t 59\n",
            "t 60\n",
            "t 61\n",
            "t 62\n",
            "a 63\n",
            "a 64\n",
            "t 65\n",
            "a 66\n",
            "a 67\n",
            "a 68\n",
            "a 69\n",
            "a 70\n",
            "a 71\n",
            "a 72\n",
            "a 73\n",
            "t 74\n",
            "a 75\n",
            "t 76\n",
            "a 77\n",
            "t 78\n",
            "a 79\n",
            "a 80\n",
            "a 81\n",
            "t 82\n",
            "a 83\n",
            "a 84\n",
            "t 85\n",
            "t 86\n",
            "t 87\n",
            "a 88\n",
            "a 89\n",
            "a 90\n",
            "a 91\n",
            "a 92\n",
            "a 93\n",
            "a 94\n",
            "a 95\n",
            "a 96\n",
            "a 97\n",
            "a 98\n",
            "a 99\n",
            "a 100\n",
            "a 101\n",
            "a 102\n",
            "a 103\n",
            "a 104\n",
            "a 105\n",
            "a 106\n",
            "a 107\n",
            "a 108\n",
            "a 109\n",
            "a 110\n",
            "a 111\n",
            "a 112\n",
            "a 113\n",
            "a 114\n",
            "a 115\n",
            "a 116\n",
            "a 117\n",
            "t 118\n",
            "t 119\n",
            "t 120\n",
            "t 121\n",
            "t 122\n",
            "t 123\n",
            "t 124\n",
            "t 125\n",
            "t 126\n",
            "t 127\n",
            "t 128\n",
            "t 129\n",
            "a 130\n",
            "a 131\n",
            "a 132\n",
            "t 133\n",
            "a 134\n",
            "a 135\n",
            "a 136\n",
            "a 137\n",
            "t 138\n",
            "a 139\n",
            "t 140\n",
            "t 141\n",
            "t 142\n",
            "t 143\n",
            "t 144\n",
            "t 145\n",
            "t 146\n",
            "t 147\n",
            "t 148\n",
            "t 149\n",
            "t 150\n",
            "t 151\n",
            "t 152\n",
            "t 153\n",
            "a 154\n",
            "t 155\n",
            "t 156\n",
            "a 157\n",
            "t 158\n",
            "a 159\n",
            "a 160\n",
            "o 160\n",
            "t 0\n",
            "t 1\n",
            "t 2\n",
            "t 3\n",
            "a 4\n",
            "a 5\n",
            "a 6\n",
            "a 7\n",
            "a 8\n",
            "t 9\n",
            "t 10\n",
            "t 11\n",
            "a 12\n",
            "a 13\n",
            "a 14\n",
            "a 15\n",
            "a 16\n",
            "a 17\n",
            "a 18\n",
            "a 19\n",
            "a 20\n",
            "a 21\n",
            "a 22\n",
            "a 23\n",
            "a 24\n",
            "a 25\n",
            "a 26\n",
            "a 27\n",
            "a 28\n",
            "a 29\n",
            "a 30\n",
            "a 31\n",
            "a 32\n",
            "a 33\n",
            "a 34\n",
            "a 35\n",
            "a 36\n",
            "a 37\n",
            "a 38\n",
            "a 39\n",
            "a 40\n",
            "a 41\n",
            "a 42\n",
            "a 43\n",
            "a 44\n",
            "a 45\n",
            "a 46\n",
            "a 47\n",
            "a 48\n",
            "a 49\n",
            "a 50\n",
            "a 51\n",
            "a 52\n",
            "a 53\n",
            "a 54\n",
            "a 55\n",
            "a 56\n",
            "a 57\n",
            "a 58\n",
            "a 59\n",
            "a 60\n",
            "a 61\n",
            "a 62\n",
            "a 63\n",
            "a 64\n",
            "a 65\n",
            "a 66\n",
            "a 67\n",
            "a 68\n",
            "a 69\n",
            "a 70\n",
            "a 71\n",
            "a 72\n",
            "a 73\n",
            "a 74\n",
            "a 75\n",
            "a 76\n",
            "a 77\n",
            "a 78\n",
            "a 79\n",
            "a 80\n",
            "a 81\n",
            "a 82\n",
            "a 83\n",
            "a 84\n",
            "a 85\n",
            "a 86\n",
            "a 87\n",
            "a 88\n",
            "a 89\n",
            "a 90\n",
            "a 91\n",
            "a 92\n",
            "a 93\n",
            "a 94\n",
            "a 95\n",
            "a 96\n",
            "a 97\n",
            "a 98\n",
            "a 99\n",
            "a 100\n",
            "a 101\n",
            "a 102\n",
            "a 103\n",
            "a 104\n",
            "a 105\n",
            "a 106\n",
            "a 107\n",
            "a 108\n",
            "a 109\n",
            "a 110\n",
            "a 111\n",
            "a 112\n",
            "a 113\n",
            "a 114\n",
            "a 115\n",
            "a 116\n",
            "a 117\n",
            "a 118\n",
            "a 119\n",
            "a 120\n",
            "a 121\n",
            "a 122\n",
            "a 123\n",
            "a 124\n",
            "a 125\n",
            "a 126\n",
            "a 127\n",
            "a 128\n",
            "a 129\n",
            "a 130\n",
            "a 131\n",
            "a 132\n",
            "a 133\n",
            "a 134\n",
            "a 135\n",
            "a 136\n",
            "a 137\n",
            "a 138\n",
            "a 139\n",
            "a 140\n",
            "a 141\n",
            "a 142\n",
            "a 143\n",
            "a 144\n",
            "a 145\n",
            "a 146\n",
            "a 147\n",
            "a 148\n",
            "a 149\n",
            "a 150\n",
            "a 151\n",
            "a 152\n",
            "a 153\n",
            "a 154\n",
            "a 155\n",
            "a 156\n",
            "a 157\n",
            "a 158\n",
            "a 159\n",
            "a 160\n",
            "a 161\n",
            "a 162\n",
            "a 163\n",
            "a 164\n",
            "a 165\n",
            "a 166\n",
            "a 167\n",
            "a 168\n",
            "a 169\n",
            "a 170\n",
            "a 171\n",
            "a 172\n",
            "a 173\n",
            "a 174\n",
            "a 175\n",
            "a 176\n",
            "a 177\n",
            "a 178\n",
            "a 179\n",
            "a 180\n",
            "a 181\n",
            "a 182\n",
            "a 183\n",
            "a 184\n",
            "a 185\n",
            "a 186\n",
            "a 187\n",
            "a 188\n",
            "a 189\n",
            "a 190\n",
            "a 191\n",
            "a 192\n",
            "a 193\n",
            "a 194\n",
            "a 195\n",
            "a 196\n",
            "a 197\n",
            "a 198\n",
            "a 199\n",
            "a 200\n",
            "a 201\n",
            "a 202\n",
            "a 203\n",
            "a 204\n",
            "a 205\n",
            "a 206\n",
            "a 207\n",
            "a 208\n",
            "a 209\n",
            "a 210\n",
            "a 211\n",
            "a 212\n",
            "a 213\n",
            "a 214\n",
            "a 215\n",
            "a 216\n",
            "a 217\n",
            "a 218\n",
            "a 219\n",
            "a 220\n",
            "a 221\n",
            "a 222\n",
            "a 223\n",
            "a 224\n",
            "a 225\n",
            "a 226\n",
            "t 227\n",
            "a 228\n",
            "a 229\n",
            "a 230\n",
            "a 231\n",
            "a 232\n",
            "a 233\n",
            "a 234\n",
            "a 235\n",
            "a 236\n",
            "a 237\n",
            "a 238\n",
            "a 239\n",
            "a 240\n",
            "a 241\n",
            "a 242\n",
            "a 243\n",
            "a 244\n",
            "a 245\n",
            "a 246\n",
            "a 247\n",
            "a 248\n",
            "a 249\n",
            "a 250\n",
            "a 251\n",
            "a 252\n",
            "a 253\n",
            "a 254\n",
            "a 255\n",
            "a 256\n",
            "a 257\n",
            "a 258\n",
            "a 259\n",
            "a 260\n",
            "a 261\n",
            "a 262\n",
            "a 263\n",
            "a 264\n",
            "a 265\n",
            "a 266\n",
            "a 267\n",
            "a 268\n",
            "a 269\n",
            "a 270\n",
            "a 271\n",
            "a 272\n",
            "a 273\n",
            "a 274\n",
            "a 275\n",
            "a 276\n",
            "a 277\n",
            "a 278\n",
            "a 279\n",
            "a 280\n",
            "a 281\n",
            "a 282\n",
            "a 283\n",
            "a 284\n",
            "a 285\n",
            "a 286\n",
            "a 287\n",
            "a 288\n",
            "a 289\n",
            "a 290\n",
            "a 291\n",
            "a 292\n",
            "a 293\n",
            "a 294\n",
            "a 295\n",
            "a 296\n",
            "a 297\n",
            "a 298\n",
            "a 299\n",
            "a 300\n",
            "a 301\n",
            "a 302\n",
            "a 303\n",
            "a 304\n",
            "a 305\n",
            "a 306\n",
            "a 307\n",
            "a 308\n",
            "a 309\n",
            "a 310\n",
            "a 311\n",
            "a 312\n",
            "a 313\n",
            "a 314\n",
            "a 315\n",
            "a 316\n",
            "a 317\n",
            "a 318\n",
            "a 319\n",
            "a 320\n",
            "a 321\n",
            "a 322\n",
            "a 323\n",
            "a 324\n",
            "a 325\n",
            "a 326\n",
            "a 327\n",
            "a 328\n",
            "a 329\n",
            "a 330\n",
            "a 331\n",
            "a 332\n",
            "a 333\n",
            "a 334\n",
            "a 335\n",
            "a 336\n",
            "a 337\n",
            "t 338\n",
            "a 339\n",
            "a 340\n",
            "t 341\n",
            "a 342\n",
            "a 343\n",
            "a 344\n",
            "a 345\n",
            "a 346\n",
            "a 347\n",
            "a 348\n",
            "a 349\n",
            "a 350\n",
            "a 351\n",
            "a 352\n",
            "a 353\n",
            "a 354\n",
            "a 355\n",
            "a 356\n",
            "a 357\n",
            "a 358\n",
            "a 359\n",
            "a 360\n",
            "a 361\n",
            "a 362\n",
            "a 363\n",
            "a 364\n",
            "a 365\n",
            "a 366\n",
            "a 367\n",
            "a 368\n",
            "a 369\n",
            "a 370\n",
            "a 371\n",
            "a 372\n",
            "a 373\n",
            "a 374\n",
            "a 375\n",
            "a 376\n",
            "a 377\n",
            "a 378\n",
            "a 379\n",
            "a 380\n",
            "a 381\n",
            "a 382\n",
            "a 383\n",
            "a 384\n",
            "a 385\n",
            "a 386\n",
            "a 387\n",
            "a 388\n",
            "a 389\n",
            "a 390\n",
            "a 391\n",
            "a 392\n",
            "a 393\n",
            "a 394\n",
            "a 395\n",
            "a 396\n",
            "a 397\n",
            "a 398\n",
            "a 399\n",
            "a 400\n",
            "a 401\n",
            "a 402\n",
            "a 403\n",
            "a 404\n",
            "a 405\n",
            "a 406\n",
            "a 407\n",
            "a 408\n",
            "a 409\n",
            "a 410\n",
            "a 411\n",
            "a 412\n",
            "a 413\n",
            "a 414\n",
            "a 415\n",
            "a 416\n",
            "a 417\n",
            "a 418\n",
            "a 419\n",
            "a 420\n",
            "a 421\n",
            "a 422\n",
            "a 423\n",
            "a 424\n",
            "a 425\n",
            "a 426\n",
            "a 427\n",
            "a 428\n",
            "a 429\n",
            "a 430\n",
            "a 431\n",
            "a 432\n",
            "a 433\n",
            "a 434\n",
            "a 435\n",
            "a 436\n",
            "a 437\n",
            "a 438\n",
            "a 439\n",
            "a 440\n",
            "a 441\n",
            "a 442\n",
            "a 443\n",
            "a 444\n",
            "a 445\n",
            "a 446\n",
            "a 447\n",
            "a 448\n",
            "a 449\n",
            "a 450\n",
            "a 451\n",
            "a 452\n",
            "a 453\n",
            "a 454\n",
            "a 455\n",
            "a 456\n",
            "a 457\n",
            "a 458\n",
            "a 459\n",
            "a 460\n",
            "a 461\n",
            "a 462\n",
            "a 463\n",
            "a 464\n",
            "a 465\n",
            "a 466\n",
            "a 467\n",
            "a 468\n",
            "a 469\n",
            "a 470\n",
            "a 471\n",
            "a 472\n",
            "a 473\n",
            "a 474\n",
            "a 475\n",
            "a 476\n",
            "a 477\n",
            "a 478\n",
            "a 479\n",
            "a 480\n",
            "a 481\n",
            "a 482\n",
            "a 483\n",
            "a 484\n",
            "a 485\n",
            "a 486\n",
            "a 487\n",
            "a 488\n",
            "a 489\n",
            "a 490\n",
            "a 491\n",
            "a 492\n",
            "a 493\n",
            "a 494\n",
            "a 495\n",
            "a 496\n",
            "a 497\n",
            "a 498\n",
            "a 499\n",
            "a 500\n",
            "a 501\n",
            "a 502\n",
            "a 503\n",
            "a 504\n",
            "a 505\n",
            "a 506\n",
            "a 507\n",
            "a 508\n",
            "a 509\n",
            "a 510\n",
            "a 511\n",
            "a 512\n",
            "a 513\n",
            "a 514\n",
            "a 515\n",
            "a 516\n",
            "a 517\n",
            "a 518\n",
            "a 519\n",
            "a 520\n",
            "a 521\n",
            "a 522\n",
            "a 523\n",
            "a 524\n",
            "a 525\n",
            "a 526\n",
            "a 527\n",
            "a 528\n",
            "a 529\n",
            "a 530\n",
            "a 531\n",
            "a 532\n",
            "a 533\n",
            "a 534\n",
            "a 535\n",
            "a 536\n",
            "a 537\n",
            "a 538\n",
            "a 539\n",
            "a 540\n",
            "a 541\n",
            "a 542\n",
            "a 543\n",
            "a 544\n",
            "a 545\n",
            "a 546\n",
            "a 547\n",
            "a 548\n",
            "a 549\n",
            "a 550\n",
            "a 551\n",
            "a 552\n",
            "a 553\n",
            "a 554\n",
            "a 555\n",
            "a 556\n",
            "a 557\n",
            "a 558\n",
            "a 559\n",
            "a 560\n",
            "a 561\n",
            "a 562\n",
            "a 563\n",
            "a 564\n",
            "a 565\n",
            "a 566\n",
            "a 567\n",
            "a 568\n",
            "a 569\n",
            "a 570\n",
            "a 571\n",
            "a 572\n",
            "a 573\n",
            "a 574\n",
            "a 575\n",
            "a 576\n",
            "a 577\n",
            "a 578\n",
            "a 579\n",
            "a 580\n",
            "a 581\n",
            "a 582\n",
            "a 583\n",
            "a 584\n",
            "a 585\n",
            "a 586\n",
            "a 587\n",
            "a 588\n",
            "a 589\n",
            "a 590\n",
            "a 591\n",
            "a 592\n",
            "a 593\n",
            "a 594\n",
            "a 595\n",
            "a 596\n",
            "a 597\n",
            "a 598\n",
            "a 599\n",
            "a 600\n",
            "a 601\n",
            "a 602\n",
            "a 603\n",
            "a 604\n",
            "a 605\n",
            "a 606\n",
            "a 607\n",
            "a 608\n",
            "a 609\n",
            "a 610\n",
            "a 611\n",
            "a 612\n",
            "a 613\n",
            "a 614\n",
            "a 615\n",
            "a 616\n",
            "a 617\n",
            "a 618\n",
            "a 619\n",
            "a 620\n",
            "a 621\n",
            "a 622\n",
            "a 623\n",
            "a 624\n",
            "a 625\n",
            "a 626\n",
            "a 627\n",
            "a 628\n",
            "a 629\n",
            "a 630\n",
            "a 631\n",
            "a 632\n",
            "a 633\n",
            "a 634\n",
            "a 635\n",
            "a 636\n",
            "a 637\n",
            "a 638\n",
            "a 639\n",
            "a 640\n",
            "a 641\n",
            "a 642\n",
            "a 643\n",
            "a 644\n",
            "a 645\n",
            "a 646\n",
            "a 647\n",
            "a 648\n",
            "a 649\n",
            "a 650\n",
            "a 651\n",
            "a 652\n",
            "a 653\n",
            "a 654\n",
            "a 655\n",
            "a 656\n",
            "a 657\n",
            "a 658\n",
            "a 659\n",
            "a 660\n",
            "a 661\n",
            "a 662\n",
            "a 663\n",
            "a 664\n",
            "a 665\n",
            "a 666\n",
            "a 667\n",
            "a 668\n",
            "a 669\n",
            "a 670\n",
            "a 671\n",
            "a 672\n",
            "a 673\n",
            "a 674\n",
            "a 675\n",
            "a 676\n",
            "a 677\n",
            "a 678\n",
            "a 679\n",
            "a 680\n",
            "a 681\n",
            "a 682\n",
            "a 683\n",
            "a 684\n",
            "a 685\n",
            "a 686\n",
            "a 687\n",
            "a 688\n",
            "a 689\n",
            "a 690\n",
            "a 691\n",
            "a 692\n",
            "a 693\n",
            "a 694\n",
            "a 695\n",
            "a 696\n",
            "a 697\n",
            "a 698\n",
            "a 699\n",
            "a 700\n",
            "a 701\n",
            "a 702\n",
            "a 703\n",
            "a 704\n",
            "a 705\n",
            "a 706\n",
            "a 707\n",
            "a 708\n",
            "a 709\n",
            "a 710\n",
            "a 711\n",
            "a 712\n",
            "a 713\n",
            "a 714\n",
            "a 715\n",
            "a 716\n",
            "a 717\n",
            "a 718\n",
            "a 719\n",
            "a 720\n",
            "a 721\n",
            "a 722\n",
            "a 723\n",
            "a 724\n",
            "a 725\n",
            "a 726\n",
            "a 727\n",
            "a 728\n",
            "a 729\n",
            "a 730\n",
            "a 731\n",
            "a 732\n",
            "a 733\n",
            "a 734\n",
            "a 735\n",
            "a 736\n",
            "a 737\n",
            "a 738\n",
            "a 739\n",
            "a 740\n",
            "a 741\n",
            "a 742\n",
            "a 743\n",
            "a 744\n",
            "a 745\n",
            "a 746\n",
            "a 747\n",
            "a 748\n",
            "a 749\n",
            "a 750\n",
            "a 751\n",
            "a 752\n",
            "a 753\n",
            "a 754\n",
            "a 755\n",
            "a 756\n",
            "a 757\n",
            "a 758\n",
            "a 759\n",
            "a 760\n",
            "a 761\n",
            "a 762\n",
            "a 763\n",
            "a 764\n",
            "a 765\n",
            "a 766\n",
            "a 767\n",
            "a 768\n",
            "a 769\n",
            "a 770\n",
            "a 771\n",
            "a 772\n",
            "a 773\n",
            "a 774\n",
            "a 775\n",
            "a 776\n",
            "a 777\n",
            "a 778\n",
            "a 779\n",
            "a 780\n",
            "a 781\n",
            "a 782\n",
            "a 783\n",
            "a 784\n",
            "a 785\n",
            "a 786\n",
            "a 787\n",
            "a 788\n",
            "a 789\n",
            "a 790\n",
            "a 791\n",
            "a 792\n",
            "a 793\n",
            "a 794\n",
            "a 795\n",
            "a 796\n",
            "a 797\n",
            "a 798\n",
            "a 799\n",
            "a 800\n",
            "a 801\n",
            "a 802\n",
            "a 803\n",
            "a 804\n",
            "a 805\n",
            "a 806\n",
            "a 807\n",
            "a 808\n",
            "a 809\n",
            "a 810\n",
            "t 811\n",
            "a 812\n",
            "t 813\n",
            "t 814\n",
            "t 815\n",
            "t 816\n",
            "t 817\n",
            "t 818\n",
            "t 819\n",
            "t 820\n",
            "t 821\n",
            "t 822\n",
            "t 823\n",
            "t 824\n",
            "t 825\n",
            "t 826\n",
            "a 827\n",
            "t 828\n",
            "t 829\n",
            "t 830\n",
            "t 831\n",
            "a 832\n",
            "a 833\n",
            "a 834\n",
            "a 835\n",
            "a 836\n",
            "a 837\n",
            "a 838\n",
            "a 839\n",
            "a 840\n",
            "a 841\n",
            "a 842\n",
            "a 843\n",
            "a 844\n",
            "a 845\n",
            "a 846\n",
            "a 847\n",
            "a 848\n",
            "a 849\n",
            "a 850\n",
            "a 851\n",
            "t 852\n",
            "t 853\n",
            "t 854\n",
            "t 855\n",
            "t 856\n",
            "a 857\n",
            "a 858\n",
            "a 859\n",
            "a 860\n",
            "a 861\n",
            "a 862\n",
            "a 863\n",
            "a 864\n",
            "a 865\n",
            "a 866\n",
            "a 867\n",
            "a 868\n",
            "a 869\n",
            "a 870\n",
            "a 871\n",
            "t 872\n",
            "t 873\n",
            "t 874\n",
            "t 875\n",
            "t 876\n",
            "t 877\n",
            "t 878\n",
            "t 879\n",
            "t 880\n",
            "t 881\n",
            "t 882\n",
            "t 883\n",
            "t 884\n",
            "t 885\n",
            "t 886\n",
            "t 887\n",
            "t 888\n",
            "t 889\n",
            "t 890\n",
            "a 891\n",
            "t 892\n",
            "a 893\n",
            "a 894\n",
            "a 895\n",
            "t 896\n",
            "t 897\n",
            "t 898\n",
            "t 899\n",
            "t 900\n",
            "a 901\n",
            "a 902\n",
            "a 903\n",
            "a 904\n",
            "a 905\n",
            "t 906\n",
            "t 907\n",
            "t 908\n",
            "t 909\n",
            "t 910\n",
            "a 911\n",
            "a 912\n",
            "a 913\n",
            "t 914\n",
            "t 915\n",
            "a 916\n",
            "a 917\n",
            "t 918\n",
            "t 919\n",
            "a 920\n",
            "a 921\n",
            "a 922\n",
            "a 923\n",
            "t 924\n",
            "t 925\n",
            "t 926\n",
            "t 927\n",
            "t 928\n",
            "t 929\n",
            "t 930\n",
            "a 931\n",
            "a 932\n",
            "a 933\n",
            "a 934\n",
            "a 935\n",
            "a 936\n",
            "t 937\n",
            "t 938\n",
            "t 939\n",
            "t 940\n",
            "t 941\n",
            "a 942\n",
            "t 943\n",
            "a 944\n",
            "t 945\n",
            "t 946\n",
            "t 947\n",
            "t 948\n",
            "a 949\n",
            "a 950\n",
            "a 951\n",
            "a 952\n",
            "a 953\n",
            "a 954\n",
            "a 955\n",
            "a 956\n",
            "a 957\n",
            "a 958\n",
            "a 959\n",
            "a 960\n",
            "a 961\n",
            "a 962\n",
            "a 963\n",
            "a 964\n",
            "t 965\n",
            "t 966\n",
            "t 967\n",
            "t 968\n",
            "t 969\n",
            "t 970\n",
            "t 971\n",
            "t 972\n",
            "t 973\n",
            "t 974\n",
            "t 975\n",
            "t 976\n",
            "t 977\n",
            "t 978\n",
            "t 979\n",
            "t 980\n",
            "t 981\n",
            "t 982\n",
            "a 983\n",
            "t 984\n",
            "t 985\n",
            "t 986\n",
            "t 987\n",
            "t 988\n",
            "t 989\n",
            "a 990\n",
            "a 991\n",
            "t 992\n",
            "t 993\n",
            "t 994\n",
            "t 995\n",
            "t 996\n",
            "t 997\n",
            "t 998\n",
            "t 999\n",
            "a 1000\n",
            "t 1001\n",
            "o 1001\n"
          ]
        }
      ]
    },
    {
      "cell_type": "code",
      "source": [
        "import scipy.interpolate as ip\n",
        "from scipy.interpolate import splrep, splev"
      ],
      "metadata": {
        "id": "vrrnVoxQBCtM"
      },
      "execution_count": null,
      "outputs": []
    },
    {
      "cell_type": "code",
      "source": [
        "def make_first2end(bunchnull):\n",
        "  lenB = len(bunchnull)\n",
        "  first2end = []\n",
        "  for i in range(lenB):\n",
        "    first2end.append([bunchnull[i][0], bunchnull[i][len(bunchnull[i])-1]])\n",
        "  return first2end"
      ],
      "metadata": {
        "id": "CYPUU9iRBEPl"
      },
      "execution_count": null,
      "outputs": []
    },
    {
      "cell_type": "code",
      "source": [
        "first2end_2020 = make_first2end(bunchnull_2020)\n",
        "first2end_2021 = make_first2end(bunchnull_2021)"
      ],
      "metadata": {
        "id": "vF-xz0JQhVWk"
      },
      "execution_count": null,
      "outputs": []
    },
    {
      "cell_type": "code",
      "source": [
        "bunchnull_2020[0]"
      ],
      "metadata": {
        "colab": {
          "base_uri": "https://localhost:8080/"
        },
        "id": "BWD5atCxp5_0",
        "outputId": "71ce0cc6-9a35-438f-af39-2b0cddd78d08"
      },
      "execution_count": null,
      "outputs": [
        {
          "output_type": "execute_result",
          "data": {
            "text/plain": [
              "[285, 286, 287]"
            ]
          },
          "metadata": {},
          "execution_count": 216
        }
      ]
    },
    {
      "cell_type": "code",
      "source": [
        "listnull_2020 = df_5m_2020[df_5m_2020['sunlight'].isnull()].index\n",
        "listnull_2020"
      ],
      "metadata": {
        "colab": {
          "base_uri": "https://localhost:8080/"
        },
        "id": "e3yNseSCqriP",
        "outputId": "b552d558-eea5-423e-d5c2-86457d063585"
      },
      "execution_count": null,
      "outputs": [
        {
          "output_type": "execute_result",
          "data": {
            "text/plain": [
              "Int64Index([   285,    286,    287,    326,    327,    328,    329,   1612,\n",
              "              2239,   6856,\n",
              "            ...\n",
              "             99846, 100599, 101088, 101089, 103381, 104744, 104745, 104747,\n",
              "            104748, 104749],\n",
              "           dtype='int64', length=162)"
            ]
          },
          "metadata": {},
          "execution_count": 217
        }
      ]
    },
    {
      "cell_type": "code",
      "source": [
        "test1 = np.arange(first2end_2020[0][0]-50, first2end_2020[0][0])\n",
        "test1 = np.append(test1, [first2end_2020[0][1]+1], axis = 0)\n",
        "test1"
      ],
      "metadata": {
        "colab": {
          "base_uri": "https://localhost:8080/"
        },
        "id": "SR88DLE5pbrW",
        "outputId": "f59c409c-4390-4bc1-9cb1-7bea67f00fb5"
      },
      "execution_count": null,
      "outputs": [
        {
          "output_type": "execute_result",
          "data": {
            "text/plain": [
              "array([235, 236, 237, 238, 239, 240, 241, 242, 243, 244, 245, 246, 247,\n",
              "       248, 249, 250, 251, 252, 253, 254, 255, 256, 257, 258, 259, 260,\n",
              "       261, 262, 263, 264, 265, 266, 267, 268, 269, 270, 271, 272, 273,\n",
              "       274, 275, 276, 277, 278, 279, 280, 281, 282, 283, 284, 288])"
            ]
          },
          "metadata": {},
          "execution_count": 218
        }
      ]
    },
    {
      "cell_type": "markdown",
      "source": [
        "###splrep, splev"
      ],
      "metadata": {
        "id": "8lNrJXqernpj"
      }
    },
    {
      "cell_type": "code",
      "source": [
        "df_5m_2020.head()"
      ],
      "metadata": {
        "colab": {
          "base_uri": "https://localhost:8080/",
          "height": 206
        },
        "id": "JeaGxDBjvjZO",
        "outputId": "a43da72b-7995-46e7-f27f-7f6944c66b54"
      },
      "execution_count": null,
      "outputs": [
        {
          "output_type": "execute_result",
          "data": {
            "text/plain": [
              "                 date  sunlight\n",
              "0 2020-01-01 00:00:00       0.0\n",
              "1 2020-01-01 00:05:00       0.0\n",
              "2 2020-01-01 00:10:00       0.0\n",
              "3 2020-01-01 00:15:00       0.0\n",
              "4 2020-01-01 00:20:00       0.0"
            ],
            "text/html": [
              "\n",
              "  <div id=\"df-33434d88-0bef-4807-8410-1270d04dedeb\">\n",
              "    <div class=\"colab-df-container\">\n",
              "      <div>\n",
              "<style scoped>\n",
              "    .dataframe tbody tr th:only-of-type {\n",
              "        vertical-align: middle;\n",
              "    }\n",
              "\n",
              "    .dataframe tbody tr th {\n",
              "        vertical-align: top;\n",
              "    }\n",
              "\n",
              "    .dataframe thead th {\n",
              "        text-align: right;\n",
              "    }\n",
              "</style>\n",
              "<table border=\"1\" class=\"dataframe\">\n",
              "  <thead>\n",
              "    <tr style=\"text-align: right;\">\n",
              "      <th></th>\n",
              "      <th>date</th>\n",
              "      <th>sunlight</th>\n",
              "    </tr>\n",
              "  </thead>\n",
              "  <tbody>\n",
              "    <tr>\n",
              "      <th>0</th>\n",
              "      <td>2020-01-01 00:00:00</td>\n",
              "      <td>0.0</td>\n",
              "    </tr>\n",
              "    <tr>\n",
              "      <th>1</th>\n",
              "      <td>2020-01-01 00:05:00</td>\n",
              "      <td>0.0</td>\n",
              "    </tr>\n",
              "    <tr>\n",
              "      <th>2</th>\n",
              "      <td>2020-01-01 00:10:00</td>\n",
              "      <td>0.0</td>\n",
              "    </tr>\n",
              "    <tr>\n",
              "      <th>3</th>\n",
              "      <td>2020-01-01 00:15:00</td>\n",
              "      <td>0.0</td>\n",
              "    </tr>\n",
              "    <tr>\n",
              "      <th>4</th>\n",
              "      <td>2020-01-01 00:20:00</td>\n",
              "      <td>0.0</td>\n",
              "    </tr>\n",
              "  </tbody>\n",
              "</table>\n",
              "</div>\n",
              "      <button class=\"colab-df-convert\" onclick=\"convertToInteractive('df-33434d88-0bef-4807-8410-1270d04dedeb')\"\n",
              "              title=\"Convert this dataframe to an interactive table.\"\n",
              "              style=\"display:none;\">\n",
              "        \n",
              "  <svg xmlns=\"http://www.w3.org/2000/svg\" height=\"24px\"viewBox=\"0 0 24 24\"\n",
              "       width=\"24px\">\n",
              "    <path d=\"M0 0h24v24H0V0z\" fill=\"none\"/>\n",
              "    <path d=\"M18.56 5.44l.94 2.06.94-2.06 2.06-.94-2.06-.94-.94-2.06-.94 2.06-2.06.94zm-11 1L8.5 8.5l.94-2.06 2.06-.94-2.06-.94L8.5 2.5l-.94 2.06-2.06.94zm10 10l.94 2.06.94-2.06 2.06-.94-2.06-.94-.94-2.06-.94 2.06-2.06.94z\"/><path d=\"M17.41 7.96l-1.37-1.37c-.4-.4-.92-.59-1.43-.59-.52 0-1.04.2-1.43.59L10.3 9.45l-7.72 7.72c-.78.78-.78 2.05 0 2.83L4 21.41c.39.39.9.59 1.41.59.51 0 1.02-.2 1.41-.59l7.78-7.78 2.81-2.81c.8-.78.8-2.07 0-2.86zM5.41 20L4 18.59l7.72-7.72 1.47 1.35L5.41 20z\"/>\n",
              "  </svg>\n",
              "      </button>\n",
              "      \n",
              "  <style>\n",
              "    .colab-df-container {\n",
              "      display:flex;\n",
              "      flex-wrap:wrap;\n",
              "      gap: 12px;\n",
              "    }\n",
              "\n",
              "    .colab-df-convert {\n",
              "      background-color: #E8F0FE;\n",
              "      border: none;\n",
              "      border-radius: 50%;\n",
              "      cursor: pointer;\n",
              "      display: none;\n",
              "      fill: #1967D2;\n",
              "      height: 32px;\n",
              "      padding: 0 0 0 0;\n",
              "      width: 32px;\n",
              "    }\n",
              "\n",
              "    .colab-df-convert:hover {\n",
              "      background-color: #E2EBFA;\n",
              "      box-shadow: 0px 1px 2px rgba(60, 64, 67, 0.3), 0px 1px 3px 1px rgba(60, 64, 67, 0.15);\n",
              "      fill: #174EA6;\n",
              "    }\n",
              "\n",
              "    [theme=dark] .colab-df-convert {\n",
              "      background-color: #3B4455;\n",
              "      fill: #D2E3FC;\n",
              "    }\n",
              "\n",
              "    [theme=dark] .colab-df-convert:hover {\n",
              "      background-color: #434B5C;\n",
              "      box-shadow: 0px 1px 3px 1px rgba(0, 0, 0, 0.15);\n",
              "      filter: drop-shadow(0px 1px 2px rgba(0, 0, 0, 0.3));\n",
              "      fill: #FFFFFF;\n",
              "    }\n",
              "  </style>\n",
              "\n",
              "      <script>\n",
              "        const buttonEl =\n",
              "          document.querySelector('#df-33434d88-0bef-4807-8410-1270d04dedeb button.colab-df-convert');\n",
              "        buttonEl.style.display =\n",
              "          google.colab.kernel.accessAllowed ? 'block' : 'none';\n",
              "\n",
              "        async function convertToInteractive(key) {\n",
              "          const element = document.querySelector('#df-33434d88-0bef-4807-8410-1270d04dedeb');\n",
              "          const dataTable =\n",
              "            await google.colab.kernel.invokeFunction('convertToInteractive',\n",
              "                                                     [key], {});\n",
              "          if (!dataTable) return;\n",
              "\n",
              "          const docLinkHtml = 'Like what you see? Visit the ' +\n",
              "            '<a target=\"_blank\" href=https://colab.research.google.com/notebooks/data_table.ipynb>data table notebook</a>'\n",
              "            + ' to learn more about interactive tables.';\n",
              "          element.innerHTML = '';\n",
              "          dataTable['output_type'] = 'display_data';\n",
              "          await google.colab.output.renderOutput(dataTable, element);\n",
              "          const docLink = document.createElement('div');\n",
              "          docLink.innerHTML = docLinkHtml;\n",
              "          element.appendChild(docLink);\n",
              "        }\n",
              "      </script>\n",
              "    </div>\n",
              "  </div>\n",
              "  "
            ]
          },
          "metadata": {},
          "execution_count": 222
        }
      ]
    },
    {
      "cell_type": "code",
      "source": [
        "df_5m_2021.head()"
      ],
      "metadata": {
        "colab": {
          "base_uri": "https://localhost:8080/",
          "height": 206
        },
        "id": "K4tpz_7-vk8S",
        "outputId": "7058fc98-6127-4a24-de60-295630a30516"
      },
      "execution_count": null,
      "outputs": [
        {
          "output_type": "execute_result",
          "data": {
            "text/plain": [
              "                 date  sunlight\n",
              "0 2021-01-01 00:00:00       0.0\n",
              "1 2021-01-01 00:05:00       0.0\n",
              "2 2021-01-01 00:10:00       0.0\n",
              "3 2021-01-01 00:15:00       0.0\n",
              "4 2021-01-01 00:20:00       0.0"
            ],
            "text/html": [
              "\n",
              "  <div id=\"df-0fd0c41e-baef-4a82-8974-ee0dbfdaa357\">\n",
              "    <div class=\"colab-df-container\">\n",
              "      <div>\n",
              "<style scoped>\n",
              "    .dataframe tbody tr th:only-of-type {\n",
              "        vertical-align: middle;\n",
              "    }\n",
              "\n",
              "    .dataframe tbody tr th {\n",
              "        vertical-align: top;\n",
              "    }\n",
              "\n",
              "    .dataframe thead th {\n",
              "        text-align: right;\n",
              "    }\n",
              "</style>\n",
              "<table border=\"1\" class=\"dataframe\">\n",
              "  <thead>\n",
              "    <tr style=\"text-align: right;\">\n",
              "      <th></th>\n",
              "      <th>date</th>\n",
              "      <th>sunlight</th>\n",
              "    </tr>\n",
              "  </thead>\n",
              "  <tbody>\n",
              "    <tr>\n",
              "      <th>0</th>\n",
              "      <td>2021-01-01 00:00:00</td>\n",
              "      <td>0.0</td>\n",
              "    </tr>\n",
              "    <tr>\n",
              "      <th>1</th>\n",
              "      <td>2021-01-01 00:05:00</td>\n",
              "      <td>0.0</td>\n",
              "    </tr>\n",
              "    <tr>\n",
              "      <th>2</th>\n",
              "      <td>2021-01-01 00:10:00</td>\n",
              "      <td>0.0</td>\n",
              "    </tr>\n",
              "    <tr>\n",
              "      <th>3</th>\n",
              "      <td>2021-01-01 00:15:00</td>\n",
              "      <td>0.0</td>\n",
              "    </tr>\n",
              "    <tr>\n",
              "      <th>4</th>\n",
              "      <td>2021-01-01 00:20:00</td>\n",
              "      <td>0.0</td>\n",
              "    </tr>\n",
              "  </tbody>\n",
              "</table>\n",
              "</div>\n",
              "      <button class=\"colab-df-convert\" onclick=\"convertToInteractive('df-0fd0c41e-baef-4a82-8974-ee0dbfdaa357')\"\n",
              "              title=\"Convert this dataframe to an interactive table.\"\n",
              "              style=\"display:none;\">\n",
              "        \n",
              "  <svg xmlns=\"http://www.w3.org/2000/svg\" height=\"24px\"viewBox=\"0 0 24 24\"\n",
              "       width=\"24px\">\n",
              "    <path d=\"M0 0h24v24H0V0z\" fill=\"none\"/>\n",
              "    <path d=\"M18.56 5.44l.94 2.06.94-2.06 2.06-.94-2.06-.94-.94-2.06-.94 2.06-2.06.94zm-11 1L8.5 8.5l.94-2.06 2.06-.94-2.06-.94L8.5 2.5l-.94 2.06-2.06.94zm10 10l.94 2.06.94-2.06 2.06-.94-2.06-.94-.94-2.06-.94 2.06-2.06.94z\"/><path d=\"M17.41 7.96l-1.37-1.37c-.4-.4-.92-.59-1.43-.59-.52 0-1.04.2-1.43.59L10.3 9.45l-7.72 7.72c-.78.78-.78 2.05 0 2.83L4 21.41c.39.39.9.59 1.41.59.51 0 1.02-.2 1.41-.59l7.78-7.78 2.81-2.81c.8-.78.8-2.07 0-2.86zM5.41 20L4 18.59l7.72-7.72 1.47 1.35L5.41 20z\"/>\n",
              "  </svg>\n",
              "      </button>\n",
              "      \n",
              "  <style>\n",
              "    .colab-df-container {\n",
              "      display:flex;\n",
              "      flex-wrap:wrap;\n",
              "      gap: 12px;\n",
              "    }\n",
              "\n",
              "    .colab-df-convert {\n",
              "      background-color: #E8F0FE;\n",
              "      border: none;\n",
              "      border-radius: 50%;\n",
              "      cursor: pointer;\n",
              "      display: none;\n",
              "      fill: #1967D2;\n",
              "      height: 32px;\n",
              "      padding: 0 0 0 0;\n",
              "      width: 32px;\n",
              "    }\n",
              "\n",
              "    .colab-df-convert:hover {\n",
              "      background-color: #E2EBFA;\n",
              "      box-shadow: 0px 1px 2px rgba(60, 64, 67, 0.3), 0px 1px 3px 1px rgba(60, 64, 67, 0.15);\n",
              "      fill: #174EA6;\n",
              "    }\n",
              "\n",
              "    [theme=dark] .colab-df-convert {\n",
              "      background-color: #3B4455;\n",
              "      fill: #D2E3FC;\n",
              "    }\n",
              "\n",
              "    [theme=dark] .colab-df-convert:hover {\n",
              "      background-color: #434B5C;\n",
              "      box-shadow: 0px 1px 3px 1px rgba(0, 0, 0, 0.15);\n",
              "      filter: drop-shadow(0px 1px 2px rgba(0, 0, 0, 0.3));\n",
              "      fill: #FFFFFF;\n",
              "    }\n",
              "  </style>\n",
              "\n",
              "      <script>\n",
              "        const buttonEl =\n",
              "          document.querySelector('#df-0fd0c41e-baef-4a82-8974-ee0dbfdaa357 button.colab-df-convert');\n",
              "        buttonEl.style.display =\n",
              "          google.colab.kernel.accessAllowed ? 'block' : 'none';\n",
              "\n",
              "        async function convertToInteractive(key) {\n",
              "          const element = document.querySelector('#df-0fd0c41e-baef-4a82-8974-ee0dbfdaa357');\n",
              "          const dataTable =\n",
              "            await google.colab.kernel.invokeFunction('convertToInteractive',\n",
              "                                                     [key], {});\n",
              "          if (!dataTable) return;\n",
              "\n",
              "          const docLinkHtml = 'Like what you see? Visit the ' +\n",
              "            '<a target=\"_blank\" href=https://colab.research.google.com/notebooks/data_table.ipynb>data table notebook</a>'\n",
              "            + ' to learn more about interactive tables.';\n",
              "          element.innerHTML = '';\n",
              "          dataTable['output_type'] = 'display_data';\n",
              "          await google.colab.output.renderOutput(dataTable, element);\n",
              "          const docLink = document.createElement('div');\n",
              "          docLink.innerHTML = docLinkHtml;\n",
              "          element.appendChild(docLink);\n",
              "        }\n",
              "      </script>\n",
              "    </div>\n",
              "  </div>\n",
              "  "
            ]
          },
          "metadata": {},
          "execution_count": 221
        }
      ]
    },
    {
      "cell_type": "code",
      "source": [
        "num_iter = len(first2end_2020)\n",
        "for i in range(num_iter):\n",
        "  index_start = first2end_2020[i][0]\n",
        "  ax1 = np.arange(first2end_2020[i][0]-50, first2end_2020[i][0])\n",
        "  ax1 = np.append(ax1, [first2end_2020[i][1]+1], axis = 0)\n",
        "  ax2 = bunchnull_2020[i]\n",
        "\n",
        "  input_value = df_5m_2020['sunlight'][ax1]\n",
        "\n",
        "  equation = splrep(ax1, input_value, k = 2)\n",
        "\n",
        "  interpolated_value = splev(ax2, equation)\n",
        "\n",
        "  for index, value in enumerate(interpolated_value, start = index_start):\n",
        "    df_5m_2020['sunlight'][index] = value\n",
        "\n",
        "print(df_5m_2020['sunlight'].isnull().sum())"
      ],
      "metadata": {
        "id": "I8P7mkwxHMM-",
        "colab": {
          "base_uri": "https://localhost:8080/"
        },
        "outputId": "3db10896-df2c-4696-d3d0-b9b4b2618fe6"
      },
      "execution_count": null,
      "outputs": [
        {
          "output_type": "stream",
          "name": "stdout",
          "text": [
            "0\n"
          ]
        },
        {
          "output_type": "stream",
          "name": "stderr",
          "text": [
            "/usr/local/lib/python3.7/dist-packages/ipykernel_launcher.py:15: SettingWithCopyWarning: \n",
            "A value is trying to be set on a copy of a slice from a DataFrame\n",
            "\n",
            "See the caveats in the documentation: https://pandas.pydata.org/pandas-docs/stable/user_guide/indexing.html#returning-a-view-versus-a-copy\n",
            "  from ipykernel import kernelapp as app\n"
          ]
        }
      ]
    },
    {
      "cell_type": "code",
      "source": [
        "num_iter = len(first2end_2021)\n",
        "for i in range(num_iter):\n",
        "  index_start = first2end_2021[i][0]\n",
        "  ax1 = np.arange(first2end_2021[i][0]-50, first2end_2021[i][0])\n",
        "  ax1 = np.append(ax1, [first2end_2021[i][1]+1], axis = 0)\n",
        "  ax2 = bunchnull_2021[i]\n",
        "\n",
        "  input_value = df_5m_2021['sunlight'][ax1]\n",
        "\n",
        "  equation = splrep(ax1, input_value, k = 2)\n",
        "\n",
        "  interpolated_value = splev(ax2, equation)\n",
        "\n",
        "  for index, value in enumerate(interpolated_value, start = index_start):\n",
        "    df_5m_2021['sunlight'][index] = value\n",
        "\n",
        "print(df_5m_2021['sunlight'].isnull().sum())"
      ],
      "metadata": {
        "colab": {
          "base_uri": "https://localhost:8080/"
        },
        "id": "NRrF6zcou3mU",
        "outputId": "f5667556-b7cc-405f-b850-6ecc3ea76c8c"
      },
      "execution_count": null,
      "outputs": [
        {
          "output_type": "stream",
          "name": "stderr",
          "text": [
            "/usr/local/lib/python3.7/dist-packages/ipykernel_launcher.py:15: SettingWithCopyWarning: \n",
            "A value is trying to be set on a copy of a slice from a DataFrame\n",
            "\n",
            "See the caveats in the documentation: https://pandas.pydata.org/pandas-docs/stable/user_guide/indexing.html#returning-a-view-versus-a-copy\n",
            "  from ipykernel import kernelapp as app\n"
          ]
        },
        {
          "output_type": "stream",
          "name": "stdout",
          "text": [
            "0\n"
          ]
        }
      ]
    },
    {
      "cell_type": "code",
      "source": [
        "df_2020_to_2021_v2 = pd.concat([df_5m_2020, df_5m_2021], axis = 0)\n",
        "df_2020_to_2021_v2.shape"
      ],
      "metadata": {
        "colab": {
          "base_uri": "https://localhost:8080/"
        },
        "id": "cY-qdnTcvYeG",
        "outputId": "001d70c2-726b-4700-90ae-1c8a452f44c5"
      },
      "execution_count": null,
      "outputs": [
        {
          "output_type": "execute_result",
          "data": {
            "text/plain": [
              "(210528, 2)"
            ]
          },
          "metadata": {},
          "execution_count": 230
        }
      ]
    },
    {
      "cell_type": "code",
      "source": [
        "df_2020_to_2021_v2.to_csv('/content/drive/MyDrive/발전예측/2ndSpline/df_2020_to_2021_v2.csv')"
      ],
      "metadata": {
        "id": "hgl3DPclvyIq"
      },
      "execution_count": null,
      "outputs": []
    },
    {
      "cell_type": "code",
      "source": [
        "import time"
      ],
      "metadata": {
        "id": "LGIgIW8Awekg"
      },
      "execution_count": null,
      "outputs": []
    },
    {
      "cell_type": "code",
      "source": [
        "days = int(df_5m_2020.shape[0]/(12*24))\n",
        "days"
      ],
      "metadata": {
        "colab": {
          "base_uri": "https://localhost:8080/"
        },
        "id": "re2Q3hZvxYZ8",
        "outputId": "3e2e2628-c072-4b75-acab-423cd8aa50f4"
      },
      "execution_count": null,
      "outputs": [
        {
          "output_type": "execute_result",
          "data": {
            "text/plain": [
              "366"
            ]
          },
          "metadata": {},
          "execution_count": 244
        }
      ]
    },
    {
      "cell_type": "code",
      "source": [
        "day = 12*24\n",
        "day"
      ],
      "metadata": {
        "colab": {
          "base_uri": "https://localhost:8080/"
        },
        "id": "th-UytMXxjWj",
        "outputId": "37252245-0408-4e54-d86f-911c64cc298f"
      },
      "execution_count": null,
      "outputs": [
        {
          "output_type": "execute_result",
          "data": {
            "text/plain": [
              "288"
            ]
          },
          "metadata": {},
          "execution_count": 236
        }
      ]
    },
    {
      "cell_type": "code",
      "source": [
        "int_show = df_5m_2020['sunlight'][listnull_2020]"
      ],
      "metadata": {
        "id": "qaqVOnzb2JIl"
      },
      "execution_count": null,
      "outputs": []
    },
    {
      "cell_type": "code",
      "source": [
        "listnull_2020"
      ],
      "metadata": {
        "colab": {
          "base_uri": "https://localhost:8080/"
        },
        "id": "cTZRCWAW9FvZ",
        "outputId": "51429194-686f-4564-c06d-fd4e9c7d3dc9"
      },
      "execution_count": null,
      "outputs": [
        {
          "output_type": "execute_result",
          "data": {
            "text/plain": [
              "Int64Index([   285,    286,    287,    326,    327,    328,    329,   1612,\n",
              "              2239,   6856,\n",
              "            ...\n",
              "             99846, 100599, 101088, 101089, 103381, 104744, 104745, 104747,\n",
              "            104748, 104749],\n",
              "           dtype='int64', length=162)"
            ]
          },
          "metadata": {},
          "execution_count": 271
        }
      ]
    },
    {
      "cell_type": "code",
      "source": [
        "56000/(12*24)"
      ],
      "metadata": {
        "colab": {
          "base_uri": "https://localhost:8080/"
        },
        "id": "i4BWy42K9IeB",
        "outputId": "891fa693-e311-4238-cca2-344229c07491"
      },
      "execution_count": null,
      "outputs": [
        {
          "output_type": "execute_result",
          "data": {
            "text/plain": [
              "194.44444444444446"
            ]
          },
          "metadata": {},
          "execution_count": 279
        }
      ]
    },
    {
      "cell_type": "code",
      "source": [
        "show_num = 194\n",
        "plt.figure(figsize=(20,15))\n",
        "plt.title('2020 sunlight interpolation')\n",
        "plt.plot(df_5m_2020_toshow['sunlight'], c = 'b', label = 'raw data')\n",
        "plt.scatter(listnull_2020, int_show, c = 'r', label = 'interpolated data')\n",
        "plt.xlim(0+show_num*12*24+12*12,12*24+show_num*12*24-12*6)\n",
        "plt.ylim(0,100000)\n",
        "plt.legend()\n"
      ],
      "metadata": {
        "colab": {
          "base_uri": "https://localhost:8080/",
          "height": 897
        },
        "id": "NATQhcqBwzwK",
        "outputId": "ab0ae572-5daf-42d2-e8be-c4183ebbffee"
      },
      "execution_count": null,
      "outputs": [
        {
          "output_type": "execute_result",
          "data": {
            "text/plain": [
              "<matplotlib.legend.Legend at 0x7f1d3ee7d650>"
            ]
          },
          "metadata": {},
          "execution_count": 298
        },
        {
          "output_type": "display_data",
          "data": {
            "text/plain": [
              "<Figure size 1440x1080 with 1 Axes>"
            ],
            "image/png": "[encoded data removed]"
          },
          "metadata": {
            "needs_background": "light"
          }
        }
      ]
    },
    {
      "cell_type": "code",
      "source": [
        ""
      ],
      "metadata": {
        "id": "Byapo28zzzPJ"
      },
      "execution_count": null,
      "outputs": []
    }
  ]
}
