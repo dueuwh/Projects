{
  "nbformat": 4,
  "nbformat_minor": 0,
  "metadata": {
    "colab": {
      "name": "Merge_for_LSTM.ipynb",
      "provenance": [],
      "collapsed_sections": [],
      "authorship_tag": "ABX9TyMg7tvAjcbtUsb3r6RurJ1V",
      "include_colab_link": true
    },
    "kernelspec": {
      "name": "python3",
      "display_name": "Python 3"
    },
    "language_info": {
      "name": "python"
    }
  },
  "cells": [
    {
      "cell_type": "markdown",
      "metadata": {
        "id": "view-in-github",
        "colab_type": "text"
      },
      "source": [
        "<a href=\"https://colab.research.google.com/github/dueuwh/Personal-Projects/blob/main/2022_1%ED%95%99%EA%B8%B0_%EC%BA%A1%EC%8A%A4%ED%86%A4/Merge_for_LSTM.ipynb\" target=\"_parent\"><img src=\"https://colab.research.google.com/assets/colab-badge.svg\" alt=\"Open In Colab\"/></a>"
      ]
    },
    {
      "cell_type": "code",
      "execution_count": null,
      "metadata": {
        "colab": {
          "base_uri": "https://localhost:8080/"
        },
        "id": "71_1LogJzkDb",
        "outputId": "1be3ecde-a33b-4d91-9e78-96e51a3d362b"
      },
      "outputs": [
        {
          "output_type": "stream",
          "name": "stdout",
          "text": [
            "Mounted at /content/drive\n"
          ]
        }
      ],
      "source": [
        "from google.colab import drive\n",
        "drive.mount('/content/drive')"
      ]
    },
    {
      "cell_type": "code",
      "source": [
        "import numpy as np\n",
        "import pandas as pd"
      ],
      "metadata": {
        "id": "Sj02NyX-z4PM"
      },
      "execution_count": null,
      "outputs": []
    },
    {
      "cell_type": "code",
      "source": [
        "df_2020_to_2021_v2 = pd.read_csv('/content/drive/MyDrive/발전예측/2ndSpline/df_2020_to_2021_v2.csv')\n",
        "df_2020_to_2021_v2.drop(['Unnamed: 0'], axis = 1, inplace = True)"
      ],
      "metadata": {
        "id": "3lV0MQ2f92mE"
      },
      "execution_count": null,
      "outputs": []
    },
    {
      "cell_type": "code",
      "source": [
        "df_2020_to_2021_v1 = pd.read_csv('/content/drive/MyDrive/발전예측/2ndSpline/df_2020_to_2021_rain_pulse.csv')"
      ],
      "metadata": {
        "id": "WZIjeP7F_VbT"
      },
      "execution_count": null,
      "outputs": []
    },
    {
      "cell_type": "code",
      "source": [
        "df_2020_to_2021_v1.drop(['Unnamed: 0', 'sunlight'], axis = 1, inplace = True)\n",
        "df_2020_to_2021_v1.info()"
      ],
      "metadata": {
        "colab": {
          "base_uri": "https://localhost:8080/"
        },
        "id": "NLE3eba__eZr",
        "outputId": "e86887d0-d27e-4f28-a9ec-de52488975b3"
      },
      "execution_count": null,
      "outputs": [
        {
          "output_type": "stream",
          "name": "stdout",
          "text": [
            "<class 'pandas.core.frame.DataFrame'>\n",
            "RangeIndex: 210528 entries, 0 to 210527\n",
            "Data columns (total 12 columns):\n",
            " #   Column           Non-Null Count   Dtype  \n",
            "---  ------           --------------   -----  \n",
            " 0   temperature      210528 non-null  float64\n",
            " 1   precipitation    210528 non-null  float64\n",
            " 2   wind_speed       210528 non-null  float64\n",
            " 3   humidity         210528 non-null  float64\n",
            " 4   insolation       210528 non-null  float64\n",
            " 5   snow_load        210528 non-null  float64\n",
            " 6   datetime         210528 non-null  object \n",
            " 7   Day sin          210528 non-null  float64\n",
            " 8   Day cos          210528 non-null  float64\n",
            " 9   Year sin         210528 non-null  float64\n",
            " 10  Year cos         210528 non-null  float64\n",
            " 11  rain_flag_pulse  210528 non-null  int64  \n",
            "dtypes: float64(10), int64(1), object(1)\n",
            "memory usage: 19.3+ MB\n"
          ]
        }
      ]
    },
    {
      "cell_type": "code",
      "source": [
        "df_2020_to_2021_v2 = pd.concat([df_2020_to_2021_v1, df_2020_to_2021_v2], axis = 1)\n",
        "df_2020_to_2021_v2.info()"
      ],
      "metadata": {
        "colab": {
          "base_uri": "https://localhost:8080/"
        },
        "id": "JE5lkYRa_pNX",
        "outputId": "5a4ed362-9cf7-4c89-d259-6a4a7c4caa69"
      },
      "execution_count": null,
      "outputs": [
        {
          "output_type": "stream",
          "name": "stdout",
          "text": [
            "<class 'pandas.core.frame.DataFrame'>\n",
            "RangeIndex: 210528 entries, 0 to 210527\n",
            "Data columns (total 14 columns):\n",
            " #   Column           Non-Null Count   Dtype  \n",
            "---  ------           --------------   -----  \n",
            " 0   temperature      210528 non-null  float64\n",
            " 1   precipitation    210528 non-null  float64\n",
            " 2   wind_speed       210528 non-null  float64\n",
            " 3   humidity         210528 non-null  float64\n",
            " 4   insolation       210528 non-null  float64\n",
            " 5   snow_load        210528 non-null  float64\n",
            " 6   datetime         210528 non-null  object \n",
            " 7   Day sin          210528 non-null  float64\n",
            " 8   Day cos          210528 non-null  float64\n",
            " 9   Year sin         210528 non-null  float64\n",
            " 10  Year cos         210528 non-null  float64\n",
            " 11  rain_flag_pulse  210528 non-null  int64  \n",
            " 12  date             210528 non-null  object \n",
            " 13  sunlight         210528 non-null  float64\n",
            "dtypes: float64(11), int64(1), object(2)\n",
            "memory usage: 22.5+ MB\n"
          ]
        }
      ]
    },
    {
      "cell_type": "code",
      "source": [
        "df_2020_to_2021_v2.to_csv('/content/drive/MyDrive/발전예측/2ndSpline/df_2020_to_2021_v2_rain_flag_pulse')"
      ],
      "metadata": {
        "id": "VR9ubGBY_2-_"
      },
      "execution_count": null,
      "outputs": []
    },
    {
      "cell_type": "code",
      "source": [
        "df_2020_to_2021.drop(['Unnamed: 0'], axis = 1, inplace = True)"
      ],
      "metadata": {
        "id": "azX5zce9-G6g"
      },
      "execution_count": null,
      "outputs": []
    },
    {
      "cell_type": "code",
      "source": [
        "df_2020_to_2021.info()"
      ],
      "metadata": {
        "colab": {
          "base_uri": "https://localhost:8080/"
        },
        "id": "Jd0NrRBr-MAf",
        "outputId": "41e3e364-80ec-46cd-c6ae-61766a2b286a"
      },
      "execution_count": null,
      "outputs": [
        {
          "output_type": "stream",
          "name": "stdout",
          "text": [
            "<class 'pandas.core.frame.DataFrame'>\n",
            "RangeIndex: 210528 entries, 0 to 210527\n",
            "Data columns (total 2 columns):\n",
            " #   Column    Non-Null Count   Dtype  \n",
            "---  ------    --------------   -----  \n",
            " 0   date      210528 non-null  object \n",
            " 1   sunlight  210528 non-null  float64\n",
            "dtypes: float64(1), object(1)\n",
            "memory usage: 3.2+ MB\n"
          ]
        }
      ]
    },
    {
      "cell_type": "code",
      "source": [
        "rain_flag = df_2020_to_2021['precipitation']>0"
      ],
      "metadata": {
        "id": "pFY8fiKP-NoC",
        "colab": {
          "base_uri": "https://localhost:8080/",
          "height": 523
        },
        "outputId": "777a6b2e-f93c-4aa8-fc06-327778edb564"
      },
      "execution_count": null,
      "outputs": [
        {
          "output_type": "error",
          "ename": "KeyError",
          "evalue": "ignored",
          "traceback": [
            "\u001b[0;31m---------------------------------------------------------------------------\u001b[0m",
            "\u001b[0;31mKeyError\u001b[0m                                  Traceback (most recent call last)",
            "\u001b[0;32m/usr/local/lib/python3.7/dist-packages/pandas/core/indexes/base.py\u001b[0m in \u001b[0;36mget_loc\u001b[0;34m(self, key, method, tolerance)\u001b[0m\n\u001b[1;32m   3360\u001b[0m             \u001b[0;32mtry\u001b[0m\u001b[0;34m:\u001b[0m\u001b[0;34m\u001b[0m\u001b[0;34m\u001b[0m\u001b[0m\n\u001b[0;32m-> 3361\u001b[0;31m                 \u001b[0;32mreturn\u001b[0m \u001b[0mself\u001b[0m\u001b[0;34m.\u001b[0m\u001b[0m_engine\u001b[0m\u001b[0;34m.\u001b[0m\u001b[0mget_loc\u001b[0m\u001b[0;34m(\u001b[0m\u001b[0mcasted_key\u001b[0m\u001b[0;34m)\u001b[0m\u001b[0;34m\u001b[0m\u001b[0;34m\u001b[0m\u001b[0m\n\u001b[0m\u001b[1;32m   3362\u001b[0m             \u001b[0;32mexcept\u001b[0m \u001b[0mKeyError\u001b[0m \u001b[0;32mas\u001b[0m \u001b[0merr\u001b[0m\u001b[0;34m:\u001b[0m\u001b[0;34m\u001b[0m\u001b[0;34m\u001b[0m\u001b[0m\n",
            "\u001b[0;32m/usr/local/lib/python3.7/dist-packages/pandas/_libs/index.pyx\u001b[0m in \u001b[0;36mpandas._libs.index.IndexEngine.get_loc\u001b[0;34m()\u001b[0m\n",
            "\u001b[0;32m/usr/local/lib/python3.7/dist-packages/pandas/_libs/index.pyx\u001b[0m in \u001b[0;36mpandas._libs.index.IndexEngine.get_loc\u001b[0;34m()\u001b[0m\n",
            "\u001b[0;32mpandas/_libs/hashtable_class_helper.pxi\u001b[0m in \u001b[0;36mpandas._libs.hashtable.PyObjectHashTable.get_item\u001b[0;34m()\u001b[0m\n",
            "\u001b[0;32mpandas/_libs/hashtable_class_helper.pxi\u001b[0m in \u001b[0;36mpandas._libs.hashtable.PyObjectHashTable.get_item\u001b[0;34m()\u001b[0m\n",
            "\u001b[0;31mKeyError\u001b[0m: 'precipitation'",
            "\nThe above exception was the direct cause of the following exception:\n",
            "\u001b[0;31mKeyError\u001b[0m                                  Traceback (most recent call last)",
            "\u001b[0;32m<ipython-input-6-82bc8d0f2f37>\u001b[0m in \u001b[0;36m<module>\u001b[0;34m()\u001b[0m\n\u001b[0;32m----> 1\u001b[0;31m \u001b[0mrain_flag\u001b[0m \u001b[0;34m=\u001b[0m \u001b[0mdf_2020_to_2021\u001b[0m\u001b[0;34m[\u001b[0m\u001b[0;34m'precipitation'\u001b[0m\u001b[0;34m]\u001b[0m\u001b[0;34m>\u001b[0m\u001b[0;36m0\u001b[0m\u001b[0;34m\u001b[0m\u001b[0;34m\u001b[0m\u001b[0m\n\u001b[0m",
            "\u001b[0;32m/usr/local/lib/python3.7/dist-packages/pandas/core/frame.py\u001b[0m in \u001b[0;36m__getitem__\u001b[0;34m(self, key)\u001b[0m\n\u001b[1;32m   3456\u001b[0m             \u001b[0;32mif\u001b[0m \u001b[0mself\u001b[0m\u001b[0;34m.\u001b[0m\u001b[0mcolumns\u001b[0m\u001b[0;34m.\u001b[0m\u001b[0mnlevels\u001b[0m \u001b[0;34m>\u001b[0m \u001b[0;36m1\u001b[0m\u001b[0;34m:\u001b[0m\u001b[0;34m\u001b[0m\u001b[0;34m\u001b[0m\u001b[0m\n\u001b[1;32m   3457\u001b[0m                 \u001b[0;32mreturn\u001b[0m \u001b[0mself\u001b[0m\u001b[0;34m.\u001b[0m\u001b[0m_getitem_multilevel\u001b[0m\u001b[0;34m(\u001b[0m\u001b[0mkey\u001b[0m\u001b[0;34m)\u001b[0m\u001b[0;34m\u001b[0m\u001b[0;34m\u001b[0m\u001b[0m\n\u001b[0;32m-> 3458\u001b[0;31m             \u001b[0mindexer\u001b[0m \u001b[0;34m=\u001b[0m \u001b[0mself\u001b[0m\u001b[0;34m.\u001b[0m\u001b[0mcolumns\u001b[0m\u001b[0;34m.\u001b[0m\u001b[0mget_loc\u001b[0m\u001b[0;34m(\u001b[0m\u001b[0mkey\u001b[0m\u001b[0;34m)\u001b[0m\u001b[0;34m\u001b[0m\u001b[0;34m\u001b[0m\u001b[0m\n\u001b[0m\u001b[1;32m   3459\u001b[0m             \u001b[0;32mif\u001b[0m \u001b[0mis_integer\u001b[0m\u001b[0;34m(\u001b[0m\u001b[0mindexer\u001b[0m\u001b[0;34m)\u001b[0m\u001b[0;34m:\u001b[0m\u001b[0;34m\u001b[0m\u001b[0;34m\u001b[0m\u001b[0m\n\u001b[1;32m   3460\u001b[0m                 \u001b[0mindexer\u001b[0m \u001b[0;34m=\u001b[0m \u001b[0;34m[\u001b[0m\u001b[0mindexer\u001b[0m\u001b[0;34m]\u001b[0m\u001b[0;34m\u001b[0m\u001b[0;34m\u001b[0m\u001b[0m\n",
            "\u001b[0;32m/usr/local/lib/python3.7/dist-packages/pandas/core/indexes/base.py\u001b[0m in \u001b[0;36mget_loc\u001b[0;34m(self, key, method, tolerance)\u001b[0m\n\u001b[1;32m   3361\u001b[0m                 \u001b[0;32mreturn\u001b[0m \u001b[0mself\u001b[0m\u001b[0;34m.\u001b[0m\u001b[0m_engine\u001b[0m\u001b[0;34m.\u001b[0m\u001b[0mget_loc\u001b[0m\u001b[0;34m(\u001b[0m\u001b[0mcasted_key\u001b[0m\u001b[0;34m)\u001b[0m\u001b[0;34m\u001b[0m\u001b[0;34m\u001b[0m\u001b[0m\n\u001b[1;32m   3362\u001b[0m             \u001b[0;32mexcept\u001b[0m \u001b[0mKeyError\u001b[0m \u001b[0;32mas\u001b[0m \u001b[0merr\u001b[0m\u001b[0;34m:\u001b[0m\u001b[0;34m\u001b[0m\u001b[0;34m\u001b[0m\u001b[0m\n\u001b[0;32m-> 3363\u001b[0;31m                 \u001b[0;32mraise\u001b[0m \u001b[0mKeyError\u001b[0m\u001b[0;34m(\u001b[0m\u001b[0mkey\u001b[0m\u001b[0;34m)\u001b[0m \u001b[0;32mfrom\u001b[0m \u001b[0merr\u001b[0m\u001b[0;34m\u001b[0m\u001b[0;34m\u001b[0m\u001b[0m\n\u001b[0m\u001b[1;32m   3364\u001b[0m \u001b[0;34m\u001b[0m\u001b[0m\n\u001b[1;32m   3365\u001b[0m         \u001b[0;32mif\u001b[0m \u001b[0mis_scalar\u001b[0m\u001b[0;34m(\u001b[0m\u001b[0mkey\u001b[0m\u001b[0;34m)\u001b[0m \u001b[0;32mand\u001b[0m \u001b[0misna\u001b[0m\u001b[0;34m(\u001b[0m\u001b[0mkey\u001b[0m\u001b[0;34m)\u001b[0m \u001b[0;32mand\u001b[0m \u001b[0;32mnot\u001b[0m \u001b[0mself\u001b[0m\u001b[0;34m.\u001b[0m\u001b[0mhasnans\u001b[0m\u001b[0;34m:\u001b[0m\u001b[0;34m\u001b[0m\u001b[0;34m\u001b[0m\u001b[0m\n",
            "\u001b[0;31mKeyError\u001b[0m: 'precipitation'"
          ]
        }
      ]
    },
    {
      "cell_type": "code",
      "source": [
        "rain_flag.shape"
      ],
      "metadata": {
        "colab": {
          "base_uri": "https://localhost:8080/",
          "height": 172
        },
        "id": "6d6kv9FP_Zj-",
        "outputId": "1cca1f26-f956-454e-a81d-c7832f974b96"
      },
      "execution_count": null,
      "outputs": [
        {
          "output_type": "error",
          "ename": "NameError",
          "evalue": "ignored",
          "traceback": [
            "\u001b[0;31m---------------------------------------------------------------------------\u001b[0m",
            "\u001b[0;31mNameError\u001b[0m                                 Traceback (most recent call last)",
            "\u001b[0;32m<ipython-input-7-7caed8fe850d>\u001b[0m in \u001b[0;36m<module>\u001b[0;34m()\u001b[0m\n\u001b[0;32m----> 1\u001b[0;31m \u001b[0mrain_flag\u001b[0m\u001b[0;34m.\u001b[0m\u001b[0mshape\u001b[0m\u001b[0;34m\u001b[0m\u001b[0;34m\u001b[0m\u001b[0m\n\u001b[0m",
            "\u001b[0;31mNameError\u001b[0m: name 'rain_flag' is not defined"
          ]
        }
      ]
    },
    {
      "cell_type": "code",
      "source": [
        "df_temp = []\n",
        "for i in range(rain_flag.shape[0]):\n",
        "  if rain_flag[i]:\n",
        "    df_temp.append([1])\n",
        "  else:\n",
        "    df_temp.append([0])\n",
        "\n",
        "df_temp = pd.DataFrame(df_temp)\n",
        "df_temp.columns = ['rain_flag_pulse']\n",
        "df_temp.head()"
      ],
      "metadata": {
        "colab": {
          "base_uri": "https://localhost:8080/",
          "height": 206
        },
        "id": "bICFQFLn-pqH",
        "outputId": "8a3dc526-e1ca-47d6-ea38-7f7622d94935"
      },
      "execution_count": null,
      "outputs": [
        {
          "output_type": "execute_result",
          "data": {
            "text/plain": [
              "   rain_flag_pulse\n",
              "0                0\n",
              "1                0\n",
              "2                0\n",
              "3                0\n",
              "4                0"
            ],
            "text/html": [
              "\n",
              "  <div id=\"df-e281159f-ded0-4908-bca1-adc1beb8880c\">\n",
              "    <div class=\"colab-df-container\">\n",
              "      <div>\n",
              "<style scoped>\n",
              "    .dataframe tbody tr th:only-of-type {\n",
              "        vertical-align: middle;\n",
              "    }\n",
              "\n",
              "    .dataframe tbody tr th {\n",
              "        vertical-align: top;\n",
              "    }\n",
              "\n",
              "    .dataframe thead th {\n",
              "        text-align: right;\n",
              "    }\n",
              "</style>\n",
              "<table border=\"1\" class=\"dataframe\">\n",
              "  <thead>\n",
              "    <tr style=\"text-align: right;\">\n",
              "      <th></th>\n",
              "      <th>rain_flag_pulse</th>\n",
              "    </tr>\n",
              "  </thead>\n",
              "  <tbody>\n",
              "    <tr>\n",
              "      <th>0</th>\n",
              "      <td>0</td>\n",
              "    </tr>\n",
              "    <tr>\n",
              "      <th>1</th>\n",
              "      <td>0</td>\n",
              "    </tr>\n",
              "    <tr>\n",
              "      <th>2</th>\n",
              "      <td>0</td>\n",
              "    </tr>\n",
              "    <tr>\n",
              "      <th>3</th>\n",
              "      <td>0</td>\n",
              "    </tr>\n",
              "    <tr>\n",
              "      <th>4</th>\n",
              "      <td>0</td>\n",
              "    </tr>\n",
              "  </tbody>\n",
              "</table>\n",
              "</div>\n",
              "      <button class=\"colab-df-convert\" onclick=\"convertToInteractive('df-e281159f-ded0-4908-bca1-adc1beb8880c')\"\n",
              "              title=\"Convert this dataframe to an interactive table.\"\n",
              "              style=\"display:none;\">\n",
              "        \n",
              "  <svg xmlns=\"http://www.w3.org/2000/svg\" height=\"24px\"viewBox=\"0 0 24 24\"\n",
              "       width=\"24px\">\n",
              "    <path d=\"M0 0h24v24H0V0z\" fill=\"none\"/>\n",
              "    <path d=\"M18.56 5.44l.94 2.06.94-2.06 2.06-.94-2.06-.94-.94-2.06-.94 2.06-2.06.94zm-11 1L8.5 8.5l.94-2.06 2.06-.94-2.06-.94L8.5 2.5l-.94 2.06-2.06.94zm10 10l.94 2.06.94-2.06 2.06-.94-2.06-.94-.94-2.06-.94 2.06-2.06.94z\"/><path d=\"M17.41 7.96l-1.37-1.37c-.4-.4-.92-.59-1.43-.59-.52 0-1.04.2-1.43.59L10.3 9.45l-7.72 7.72c-.78.78-.78 2.05 0 2.83L4 21.41c.39.39.9.59 1.41.59.51 0 1.02-.2 1.41-.59l7.78-7.78 2.81-2.81c.8-.78.8-2.07 0-2.86zM5.41 20L4 18.59l7.72-7.72 1.47 1.35L5.41 20z\"/>\n",
              "  </svg>\n",
              "      </button>\n",
              "      \n",
              "  <style>\n",
              "    .colab-df-container {\n",
              "      display:flex;\n",
              "      flex-wrap:wrap;\n",
              "      gap: 12px;\n",
              "    }\n",
              "\n",
              "    .colab-df-convert {\n",
              "      background-color: #E8F0FE;\n",
              "      border: none;\n",
              "      border-radius: 50%;\n",
              "      cursor: pointer;\n",
              "      display: none;\n",
              "      fill: #1967D2;\n",
              "      height: 32px;\n",
              "      padding: 0 0 0 0;\n",
              "      width: 32px;\n",
              "    }\n",
              "\n",
              "    .colab-df-convert:hover {\n",
              "      background-color: #E2EBFA;\n",
              "      box-shadow: 0px 1px 2px rgba(60, 64, 67, 0.3), 0px 1px 3px 1px rgba(60, 64, 67, 0.15);\n",
              "      fill: #174EA6;\n",
              "    }\n",
              "\n",
              "    [theme=dark] .colab-df-convert {\n",
              "      background-color: #3B4455;\n",
              "      fill: #D2E3FC;\n",
              "    }\n",
              "\n",
              "    [theme=dark] .colab-df-convert:hover {\n",
              "      background-color: #434B5C;\n",
              "      box-shadow: 0px 1px 3px 1px rgba(0, 0, 0, 0.15);\n",
              "      filter: drop-shadow(0px 1px 2px rgba(0, 0, 0, 0.3));\n",
              "      fill: #FFFFFF;\n",
              "    }\n",
              "  </style>\n",
              "\n",
              "      <script>\n",
              "        const buttonEl =\n",
              "          document.querySelector('#df-e281159f-ded0-4908-bca1-adc1beb8880c button.colab-df-convert');\n",
              "        buttonEl.style.display =\n",
              "          google.colab.kernel.accessAllowed ? 'block' : 'none';\n",
              "\n",
              "        async function convertToInteractive(key) {\n",
              "          const element = document.querySelector('#df-e281159f-ded0-4908-bca1-adc1beb8880c');\n",
              "          const dataTable =\n",
              "            await google.colab.kernel.invokeFunction('convertToInteractive',\n",
              "                                                     [key], {});\n",
              "          if (!dataTable) return;\n",
              "\n",
              "          const docLinkHtml = 'Like what you see? Visit the ' +\n",
              "            '<a target=\"_blank\" href=https://colab.research.google.com/notebooks/data_table.ipynb>data table notebook</a>'\n",
              "            + ' to learn more about interactive tables.';\n",
              "          element.innerHTML = '';\n",
              "          dataTable['output_type'] = 'display_data';\n",
              "          await google.colab.output.renderOutput(dataTable, element);\n",
              "          const docLink = document.createElement('div');\n",
              "          docLink.innerHTML = docLinkHtml;\n",
              "          element.appendChild(docLink);\n",
              "        }\n",
              "      </script>\n",
              "    </div>\n",
              "  </div>\n",
              "  "
            ]
          },
          "metadata": {},
          "execution_count": 15
        }
      ]
    },
    {
      "cell_type": "code",
      "source": [
        "import matplotlib.pyplot as plt\n",
        "\n",
        "plt.figure(figsize=(20,5))\n",
        "plt.plot(df_temp)\n",
        "plt.xlim(1500, 2000,)"
      ],
      "metadata": {
        "colab": {
          "base_uri": "https://localhost:8080/",
          "height": 325
        },
        "id": "NC0Q1Le-_jxv",
        "outputId": "c33fb2d7-135a-4354-afbf-aff1b9d8e54e"
      },
      "execution_count": null,
      "outputs": [
        {
          "output_type": "execute_result",
          "data": {
            "text/plain": [
              "(1500.0, 2000.0)"
            ]
          },
          "metadata": {},
          "execution_count": 24
        },
        {
          "output_type": "display_data",
          "data": {
            "text/plain": [
              "<Figure size 1440x360 with 1 Axes>"
            ],
            "image/png": "[encoded data removed]"
          },
          "metadata": {
            "needs_background": "light"
          }
        }
      ]
    },
    {
      "cell_type": "code",
      "source": [
        "df_2020_to_2021 = pd.concat([df_2020_to_2021, df_temp], axis = 1)\n",
        "df_2020_to_2021.info()"
      ],
      "metadata": {
        "colab": {
          "base_uri": "https://localhost:8080/"
        },
        "id": "WDI6okndANqQ",
        "outputId": "bed007f4-697e-455b-fbea-d4118cd94aa1"
      },
      "execution_count": null,
      "outputs": [
        {
          "output_type": "stream",
          "name": "stdout",
          "text": [
            "<class 'pandas.core.frame.DataFrame'>\n",
            "RangeIndex: 210528 entries, 0 to 210527\n",
            "Data columns (total 13 columns):\n",
            " #   Column           Non-Null Count   Dtype  \n",
            "---  ------           --------------   -----  \n",
            " 0   temperature      210528 non-null  float64\n",
            " 1   precipitation    210528 non-null  float64\n",
            " 2   wind_speed       210528 non-null  float64\n",
            " 3   humidity         210528 non-null  float64\n",
            " 4   insolation       210528 non-null  float64\n",
            " 5   snow_load        210528 non-null  float64\n",
            " 6   sunlight         210528 non-null  float64\n",
            " 7   datetime         210528 non-null  object \n",
            " 8   Day sin          210528 non-null  float64\n",
            " 9   Day cos          210528 non-null  float64\n",
            " 10  Year sin         210528 non-null  float64\n",
            " 11  Year cos         210528 non-null  float64\n",
            " 12  rain_flag_pulse  210528 non-null  int64  \n",
            "dtypes: float64(11), int64(1), object(1)\n",
            "memory usage: 20.9+ MB\n"
          ]
        }
      ]
    },
    {
      "cell_type": "code",
      "source": [
        "df_2020_to_2021.to_csv('df_2020_to_2021_rain_pulse.csv')"
      ],
      "metadata": {
        "id": "TfZMGDHkAfOH"
      },
      "execution_count": null,
      "outputs": []
    },
    {
      "cell_type": "code",
      "source": [
        "df_2020 = pd.read_csv('/content/drive/MyDrive/발전예측/2ndSpline/df_2020_lstm.csv')\n",
        "df_2021 = pd.read_csv('/content/drive/MyDrive/발전예측/2ndSpline/df_2021_lstm.csv')"
      ],
      "metadata": {
        "id": "oHX-Uy4GYJH9"
      },
      "execution_count": null,
      "outputs": []
    },
    {
      "cell_type": "code",
      "source": [
        "df_2020_to_2021 = pd.concat([df_2020, df_2021], axis = 0)\n",
        "df_2020_to_2021.info()"
      ],
      "metadata": {
        "colab": {
          "base_uri": "https://localhost:8080/"
        },
        "id": "NZfNwrCSYJnd",
        "outputId": "eac1854d-7850-4bff-cfd0-dc44c7e7604e"
      },
      "execution_count": null,
      "outputs": [
        {
          "output_type": "stream",
          "name": "stdout",
          "text": [
            "<class 'pandas.core.frame.DataFrame'>\n",
            "Int64Index: 210528 entries, 0 to 105119\n",
            "Data columns (total 13 columns):\n",
            " #   Column         Non-Null Count   Dtype  \n",
            "---  ------         --------------   -----  \n",
            " 0   Unnamed: 0     210528 non-null  int64  \n",
            " 1   temperature    210528 non-null  float64\n",
            " 2   precipitation  210528 non-null  float64\n",
            " 3   wind_speed     210528 non-null  float64\n",
            " 4   humidity       210528 non-null  float64\n",
            " 5   insolation     210528 non-null  float64\n",
            " 6   snow_load      210528 non-null  float64\n",
            " 7   sunlight       210528 non-null  float64\n",
            " 8   datetime       210528 non-null  object \n",
            " 9   Day sin        210528 non-null  float64\n",
            " 10  Day cos        210528 non-null  float64\n",
            " 11  Year sin       210528 non-null  float64\n",
            " 12  Year cos       210528 non-null  float64\n",
            "dtypes: float64(11), int64(1), object(1)\n",
            "memory usage: 22.5+ MB\n"
          ]
        }
      ]
    },
    {
      "cell_type": "code",
      "source": [
        "df_2020_to_2021.drop(['Unnamed: 0'], axis = 1, inplace = True)\n",
        "df_2020_to_2021.info()"
      ],
      "metadata": {
        "colab": {
          "base_uri": "https://localhost:8080/"
        },
        "id": "IXwKmgYdYJk2",
        "outputId": "8e17446f-6304-4a1e-a170-b869d22d7ffc"
      },
      "execution_count": null,
      "outputs": [
        {
          "output_type": "stream",
          "name": "stdout",
          "text": [
            "<class 'pandas.core.frame.DataFrame'>\n",
            "Int64Index: 210528 entries, 0 to 105119\n",
            "Data columns (total 12 columns):\n",
            " #   Column         Non-Null Count   Dtype  \n",
            "---  ------         --------------   -----  \n",
            " 0   temperature    210528 non-null  float64\n",
            " 1   precipitation  210528 non-null  float64\n",
            " 2   wind_speed     210528 non-null  float64\n",
            " 3   humidity       210528 non-null  float64\n",
            " 4   insolation     210528 non-null  float64\n",
            " 5   snow_load      210528 non-null  float64\n",
            " 6   sunlight       210528 non-null  float64\n",
            " 7   datetime       210528 non-null  object \n",
            " 8   Day sin        210528 non-null  float64\n",
            " 9   Day cos        210528 non-null  float64\n",
            " 10  Year sin       210528 non-null  float64\n",
            " 11  Year cos       210528 non-null  float64\n",
            "dtypes: float64(11), object(1)\n",
            "memory usage: 20.9+ MB\n"
          ]
        }
      ]
    },
    {
      "cell_type": "code",
      "source": [
        "df_2020_to_2021.to_csv('df_2020_to_2021.csv')"
      ],
      "metadata": {
        "id": "DjA7228PYrEW"
      },
      "execution_count": null,
      "outputs": []
    },
    {
      "cell_type": "code",
      "source": [
        "fcst_2020 = pd.read_csv('/content/drive/MyDrive/발전예측/2ndSpline/2020_fcst_5m_2nd_spline.csv')\n",
        "sun_2020 = pd.read_csv('/content/drive/MyDrive/발전예측/2ndSpline/2020_sunlight_5m_2nd_spline.csv')\n",
        "fcst_2021 = pd.read_csv('/content/drive/MyDrive/발전예측/2ndSpline/2021_fcst_5m_2nd_spline.csv')\n",
        "sun_2021 = pd.read_csv('/content/drive/MyDrive/발전예측/2ndSpline/2021_sunlight_5m_2nd-Spline.csv')\n",
        "fcst_2020 = fcst_2020.drop(['Unnamed: 0'], axis = 1)\n",
        "sun_2020 = sun_2020.drop(['Unnamed: 0'], axis = 1)\n",
        "fcst_2021 = fcst_2021.drop(['Unnamed: 0'], axis = 1)\n",
        "sun_2021 = sun_2021.drop(['Unnamed: 0'], axis = 1)"
      ],
      "metadata": {
        "id": "8Tf2lwEtz-UN"
      },
      "execution_count": null,
      "outputs": []
    },
    {
      "cell_type": "code",
      "source": [
        "df_2020 = pd.concat([fcst_2020, sun_2020], axis = 1)\n",
        "df_2021 = pd.concat([fcst_2021, sun_2021], axis = 1)"
      ],
      "metadata": {
        "id": "yVk195020QGH"
      },
      "execution_count": null,
      "outputs": []
    },
    {
      "cell_type": "code",
      "source": [
        "df_2020.info()"
      ],
      "metadata": {
        "colab": {
          "base_uri": "https://localhost:8080/"
        },
        "id": "vYqYAals0dMi",
        "outputId": "f3813510-560c-482d-9c0d-7c463c0275f5"
      },
      "execution_count": null,
      "outputs": [
        {
          "output_type": "stream",
          "name": "stdout",
          "text": [
            "<class 'pandas.core.frame.DataFrame'>\n",
            "RangeIndex: 105408 entries, 0 to 105407\n",
            "Data columns (total 12 columns):\n",
            " #   Column    Non-Null Count   Dtype  \n",
            "---  ------    --------------   -----  \n",
            " 0   날짜        105408 non-null  object \n",
            " 1   시간        105408 non-null  object \n",
            " 2   기온        105408 non-null  float64\n",
            " 3   강수량       105408 non-null  float64\n",
            " 4   풍속        105408 non-null  float64\n",
            " 5   습도        105408 non-null  float64\n",
            " 6   일사        105408 non-null  float64\n",
            " 7   일조        105408 non-null  float64\n",
            " 8   적설량       105408 non-null  float64\n",
            " 9   date      105408 non-null  object \n",
            " 10  time      105408 non-null  object \n",
            " 11  sunlight  105408 non-null  float64\n",
            "dtypes: float64(8), object(4)\n",
            "memory usage: 9.7+ MB\n"
          ]
        }
      ]
    },
    {
      "cell_type": "code",
      "source": [
        "df_2020 = df_2020.drop(['date', 'time'], axis = 1)\n",
        "df_2020.info()"
      ],
      "metadata": {
        "colab": {
          "base_uri": "https://localhost:8080/"
        },
        "id": "IfaB_tPo1Rx6",
        "outputId": "ebff626a-da23-4963-972e-64f6a33c570d"
      },
      "execution_count": null,
      "outputs": [
        {
          "output_type": "stream",
          "name": "stdout",
          "text": [
            "<class 'pandas.core.frame.DataFrame'>\n",
            "RangeIndex: 105408 entries, 0 to 105407\n",
            "Data columns (total 10 columns):\n",
            " #   Column    Non-Null Count   Dtype  \n",
            "---  ------    --------------   -----  \n",
            " 0   날짜        105408 non-null  object \n",
            " 1   시간        105408 non-null  object \n",
            " 2   기온        105408 non-null  float64\n",
            " 3   강수량       105408 non-null  float64\n",
            " 4   풍속        105408 non-null  float64\n",
            " 5   습도        105408 non-null  float64\n",
            " 6   일사        105408 non-null  float64\n",
            " 7   일조        105408 non-null  float64\n",
            " 8   적설량       105408 non-null  float64\n",
            " 9   sunlight  105408 non-null  float64\n",
            "dtypes: float64(8), object(2)\n",
            "memory usage: 8.0+ MB\n"
          ]
        }
      ]
    },
    {
      "cell_type": "code",
      "source": [
        "df_2020.columns = ['date', 'time', 'temperature', 'precipitation', 'wind_speed', 'humidity', 'insolation', 'sunshine', 'snow_load', 'sunlight']"
      ],
      "metadata": {
        "id": "KghpCfe31YB5"
      },
      "execution_count": null,
      "outputs": []
    },
    {
      "cell_type": "code",
      "source": [
        "df_2020.info()"
      ],
      "metadata": {
        "colab": {
          "base_uri": "https://localhost:8080/"
        },
        "id": "hTC0iYgY1nzi",
        "outputId": "7e2f8fe1-f31a-4567-ff47-77f2bd097afd"
      },
      "execution_count": null,
      "outputs": [
        {
          "output_type": "stream",
          "name": "stdout",
          "text": [
            "<class 'pandas.core.frame.DataFrame'>\n",
            "RangeIndex: 105408 entries, 0 to 105407\n",
            "Data columns (total 10 columns):\n",
            " #   Column         Non-Null Count   Dtype  \n",
            "---  ------         --------------   -----  \n",
            " 0   date           105408 non-null  object \n",
            " 1   time           105408 non-null  object \n",
            " 2   temperature    105408 non-null  float64\n",
            " 3   precipitation  105408 non-null  float64\n",
            " 4   wind_speed     105408 non-null  float64\n",
            " 5   humidity       105408 non-null  float64\n",
            " 6   insolation     105408 non-null  float64\n",
            " 7   sunshine       105408 non-null  float64\n",
            " 8   snow_load      105408 non-null  float64\n",
            " 9   sunlight       105408 non-null  float64\n",
            "dtypes: float64(8), object(2)\n",
            "memory usage: 8.0+ MB\n"
          ]
        }
      ]
    },
    {
      "cell_type": "code",
      "source": [
        "df_2020 = df_2020.drop(['sunshine'], axis = 1)"
      ],
      "metadata": {
        "id": "i8Ezsp1u1p1J"
      },
      "execution_count": null,
      "outputs": []
    },
    {
      "cell_type": "code",
      "source": [
        "df_2020.info()"
      ],
      "metadata": {
        "colab": {
          "base_uri": "https://localhost:8080/"
        },
        "id": "DBRiKCwhiscT",
        "outputId": "aa417c03-0e66-49fe-8799-d231d0bfacfe"
      },
      "execution_count": null,
      "outputs": [
        {
          "output_type": "stream",
          "name": "stdout",
          "text": [
            "<class 'pandas.core.frame.DataFrame'>\n",
            "RangeIndex: 105408 entries, 0 to 105407\n",
            "Data columns (total 9 columns):\n",
            " #   Column         Non-Null Count   Dtype  \n",
            "---  ------         --------------   -----  \n",
            " 0   date           105408 non-null  object \n",
            " 1   time           105408 non-null  object \n",
            " 2   temperature    105408 non-null  float64\n",
            " 3   precipitation  105408 non-null  float64\n",
            " 4   wind_speed     105408 non-null  float64\n",
            " 5   humidity       105408 non-null  float64\n",
            " 6   insolation     105408 non-null  float64\n",
            " 7   snow_load      105408 non-null  float64\n",
            " 8   sunlight       105408 non-null  float64\n",
            "dtypes: float64(7), object(2)\n",
            "memory usage: 7.2+ MB\n"
          ]
        }
      ]
    },
    {
      "cell_type": "code",
      "source": [
        "df_2020['datetime'] = df_2020['date'] + ' ' + df_2020['time']\n",
        "df_2020"
      ],
      "metadata": {
        "colab": {
          "base_uri": "https://localhost:8080/",
          "height": 424
        },
        "id": "QOlUpduvfKwi",
        "outputId": "c39e1946-a1ee-415d-df2c-983b10f8595e"
      },
      "execution_count": null,
      "outputs": [
        {
          "output_type": "execute_result",
          "data": {
            "text/plain": [
              "              date      time  temperature  precipitation  wind_speed  \\\n",
              "0       2020-01-01  00:00:00     2.400000            0.0       3.700   \n",
              "1       2020-01-01  00:05:00     2.416667            0.0       3.575   \n",
              "2       2020-01-01  00:10:00     2.433333            0.0       3.450   \n",
              "3       2020-01-01  00:15:00     2.450000            0.0       3.325   \n",
              "4       2020-01-01  00:20:00     2.466667            0.0       3.200   \n",
              "...            ...       ...          ...            ...         ...   \n",
              "105403  2020-12-31  23:35:00     4.300000            0.0       5.900   \n",
              "105404  2020-12-31  23:40:00     4.300000            0.0       5.900   \n",
              "105405  2020-12-31  23:45:00     4.300000            0.0       5.900   \n",
              "105406  2020-12-31  23:50:00     4.300000            0.0       5.900   \n",
              "105407  2020-12-31  23:55:00     4.300000            0.0       5.900   \n",
              "\n",
              "        humidity  insolation  snow_load  sunlight             datetime  \n",
              "0           63.0         0.0        0.0       0.0  2020-01-01 00:00:00  \n",
              "1           63.0         0.0        0.0       0.0  2020-01-01 00:05:00  \n",
              "2           63.0         0.0        0.0       0.0  2020-01-01 00:10:00  \n",
              "3           63.0         0.0        0.0       0.0  2020-01-01 00:15:00  \n",
              "4           63.0         0.0        0.0       0.0  2020-01-01 00:20:00  \n",
              "...          ...         ...        ...       ...                  ...  \n",
              "105403      54.0         0.0        0.0       0.0  2020-12-31 23:35:00  \n",
              "105404      54.0         0.0        0.0       0.0  2020-12-31 23:40:00  \n",
              "105405      54.0         0.0        0.0       0.0  2020-12-31 23:45:00  \n",
              "105406      54.0         0.0        0.0       0.0  2020-12-31 23:50:00  \n",
              "105407      54.0         0.0        0.0       0.0  2020-12-31 23:55:00  \n",
              "\n",
              "[105408 rows x 10 columns]"
            ],
            "text/html": [
              "\n",
              "  <div id=\"df-afbed4c3-06c8-4f37-9c49-e10c972096ea\">\n",
              "    <div class=\"colab-df-container\">\n",
              "      <div>\n",
              "<style scoped>\n",
              "    .dataframe tbody tr th:only-of-type {\n",
              "        vertical-align: middle;\n",
              "    }\n",
              "\n",
              "    .dataframe tbody tr th {\n",
              "        vertical-align: top;\n",
              "    }\n",
              "\n",
              "    .dataframe thead th {\n",
              "        text-align: right;\n",
              "    }\n",
              "</style>\n",
              "<table border=\"1\" class=\"dataframe\">\n",
              "  <thead>\n",
              "    <tr style=\"text-align: right;\">\n",
              "      <th></th>\n",
              "      <th>date</th>\n",
              "      <th>time</th>\n",
              "      <th>temperature</th>\n",
              "      <th>precipitation</th>\n",
              "      <th>wind_speed</th>\n",
              "      <th>humidity</th>\n",
              "      <th>insolation</th>\n",
              "      <th>snow_load</th>\n",
              "      <th>sunlight</th>\n",
              "      <th>datetime</th>\n",
              "    </tr>\n",
              "  </thead>\n",
              "  <tbody>\n",
              "    <tr>\n",
              "      <th>0</th>\n",
              "      <td>2020-01-01</td>\n",
              "      <td>00:00:00</td>\n",
              "      <td>2.400000</td>\n",
              "      <td>0.0</td>\n",
              "      <td>3.700</td>\n",
              "      <td>63.0</td>\n",
              "      <td>0.0</td>\n",
              "      <td>0.0</td>\n",
              "      <td>0.0</td>\n",
              "      <td>2020-01-01 00:00:00</td>\n",
              "    </tr>\n",
              "    <tr>\n",
              "      <th>1</th>\n",
              "      <td>2020-01-01</td>\n",
              "      <td>00:05:00</td>\n",
              "      <td>2.416667</td>\n",
              "      <td>0.0</td>\n",
              "      <td>3.575</td>\n",
              "      <td>63.0</td>\n",
              "      <td>0.0</td>\n",
              "      <td>0.0</td>\n",
              "      <td>0.0</td>\n",
              "      <td>2020-01-01 00:05:00</td>\n",
              "    </tr>\n",
              "    <tr>\n",
              "      <th>2</th>\n",
              "      <td>2020-01-01</td>\n",
              "      <td>00:10:00</td>\n",
              "      <td>2.433333</td>\n",
              "      <td>0.0</td>\n",
              "      <td>3.450</td>\n",
              "      <td>63.0</td>\n",
              "      <td>0.0</td>\n",
              "      <td>0.0</td>\n",
              "      <td>0.0</td>\n",
              "      <td>2020-01-01 00:10:00</td>\n",
              "    </tr>\n",
              "    <tr>\n",
              "      <th>3</th>\n",
              "      <td>2020-01-01</td>\n",
              "      <td>00:15:00</td>\n",
              "      <td>2.450000</td>\n",
              "      <td>0.0</td>\n",
              "      <td>3.325</td>\n",
              "      <td>63.0</td>\n",
              "      <td>0.0</td>\n",
              "      <td>0.0</td>\n",
              "      <td>0.0</td>\n",
              "      <td>2020-01-01 00:15:00</td>\n",
              "    </tr>\n",
              "    <tr>\n",
              "      <th>4</th>\n",
              "      <td>2020-01-01</td>\n",
              "      <td>00:20:00</td>\n",
              "      <td>2.466667</td>\n",
              "      <td>0.0</td>\n",
              "      <td>3.200</td>\n",
              "      <td>63.0</td>\n",
              "      <td>0.0</td>\n",
              "      <td>0.0</td>\n",
              "      <td>0.0</td>\n",
              "      <td>2020-01-01 00:20:00</td>\n",
              "    </tr>\n",
              "    <tr>\n",
              "      <th>...</th>\n",
              "      <td>...</td>\n",
              "      <td>...</td>\n",
              "      <td>...</td>\n",
              "      <td>...</td>\n",
              "      <td>...</td>\n",
              "      <td>...</td>\n",
              "      <td>...</td>\n",
              "      <td>...</td>\n",
              "      <td>...</td>\n",
              "      <td>...</td>\n",
              "    </tr>\n",
              "    <tr>\n",
              "      <th>105403</th>\n",
              "      <td>2020-12-31</td>\n",
              "      <td>23:35:00</td>\n",
              "      <td>4.300000</td>\n",
              "      <td>0.0</td>\n",
              "      <td>5.900</td>\n",
              "      <td>54.0</td>\n",
              "      <td>0.0</td>\n",
              "      <td>0.0</td>\n",
              "      <td>0.0</td>\n",
              "      <td>2020-12-31 23:35:00</td>\n",
              "    </tr>\n",
              "    <tr>\n",
              "      <th>105404</th>\n",
              "      <td>2020-12-31</td>\n",
              "      <td>23:40:00</td>\n",
              "      <td>4.300000</td>\n",
              "      <td>0.0</td>\n",
              "      <td>5.900</td>\n",
              "      <td>54.0</td>\n",
              "      <td>0.0</td>\n",
              "      <td>0.0</td>\n",
              "      <td>0.0</td>\n",
              "      <td>2020-12-31 23:40:00</td>\n",
              "    </tr>\n",
              "    <tr>\n",
              "      <th>105405</th>\n",
              "      <td>2020-12-31</td>\n",
              "      <td>23:45:00</td>\n",
              "      <td>4.300000</td>\n",
              "      <td>0.0</td>\n",
              "      <td>5.900</td>\n",
              "      <td>54.0</td>\n",
              "      <td>0.0</td>\n",
              "      <td>0.0</td>\n",
              "      <td>0.0</td>\n",
              "      <td>2020-12-31 23:45:00</td>\n",
              "    </tr>\n",
              "    <tr>\n",
              "      <th>105406</th>\n",
              "      <td>2020-12-31</td>\n",
              "      <td>23:50:00</td>\n",
              "      <td>4.300000</td>\n",
              "      <td>0.0</td>\n",
              "      <td>5.900</td>\n",
              "      <td>54.0</td>\n",
              "      <td>0.0</td>\n",
              "      <td>0.0</td>\n",
              "      <td>0.0</td>\n",
              "      <td>2020-12-31 23:50:00</td>\n",
              "    </tr>\n",
              "    <tr>\n",
              "      <th>105407</th>\n",
              "      <td>2020-12-31</td>\n",
              "      <td>23:55:00</td>\n",
              "      <td>4.300000</td>\n",
              "      <td>0.0</td>\n",
              "      <td>5.900</td>\n",
              "      <td>54.0</td>\n",
              "      <td>0.0</td>\n",
              "      <td>0.0</td>\n",
              "      <td>0.0</td>\n",
              "      <td>2020-12-31 23:55:00</td>\n",
              "    </tr>\n",
              "  </tbody>\n",
              "</table>\n",
              "<p>105408 rows × 10 columns</p>\n",
              "</div>\n",
              "      <button class=\"colab-df-convert\" onclick=\"convertToInteractive('df-afbed4c3-06c8-4f37-9c49-e10c972096ea')\"\n",
              "              title=\"Convert this dataframe to an interactive table.\"\n",
              "              style=\"display:none;\">\n",
              "        \n",
              "  <svg xmlns=\"http://www.w3.org/2000/svg\" height=\"24px\"viewBox=\"0 0 24 24\"\n",
              "       width=\"24px\">\n",
              "    <path d=\"M0 0h24v24H0V0z\" fill=\"none\"/>\n",
              "    <path d=\"M18.56 5.44l.94 2.06.94-2.06 2.06-.94-2.06-.94-.94-2.06-.94 2.06-2.06.94zm-11 1L8.5 8.5l.94-2.06 2.06-.94-2.06-.94L8.5 2.5l-.94 2.06-2.06.94zm10 10l.94 2.06.94-2.06 2.06-.94-2.06-.94-.94-2.06-.94 2.06-2.06.94z\"/><path d=\"M17.41 7.96l-1.37-1.37c-.4-.4-.92-.59-1.43-.59-.52 0-1.04.2-1.43.59L10.3 9.45l-7.72 7.72c-.78.78-.78 2.05 0 2.83L4 21.41c.39.39.9.59 1.41.59.51 0 1.02-.2 1.41-.59l7.78-7.78 2.81-2.81c.8-.78.8-2.07 0-2.86zM5.41 20L4 18.59l7.72-7.72 1.47 1.35L5.41 20z\"/>\n",
              "  </svg>\n",
              "      </button>\n",
              "      \n",
              "  <style>\n",
              "    .colab-df-container {\n",
              "      display:flex;\n",
              "      flex-wrap:wrap;\n",
              "      gap: 12px;\n",
              "    }\n",
              "\n",
              "    .colab-df-convert {\n",
              "      background-color: #E8F0FE;\n",
              "      border: none;\n",
              "      border-radius: 50%;\n",
              "      cursor: pointer;\n",
              "      display: none;\n",
              "      fill: #1967D2;\n",
              "      height: 32px;\n",
              "      padding: 0 0 0 0;\n",
              "      width: 32px;\n",
              "    }\n",
              "\n",
              "    .colab-df-convert:hover {\n",
              "      background-color: #E2EBFA;\n",
              "      box-shadow: 0px 1px 2px rgba(60, 64, 67, 0.3), 0px 1px 3px 1px rgba(60, 64, 67, 0.15);\n",
              "      fill: #174EA6;\n",
              "    }\n",
              "\n",
              "    [theme=dark] .colab-df-convert {\n",
              "      background-color: #3B4455;\n",
              "      fill: #D2E3FC;\n",
              "    }\n",
              "\n",
              "    [theme=dark] .colab-df-convert:hover {\n",
              "      background-color: #434B5C;\n",
              "      box-shadow: 0px 1px 3px 1px rgba(0, 0, 0, 0.15);\n",
              "      filter: drop-shadow(0px 1px 2px rgba(0, 0, 0, 0.3));\n",
              "      fill: #FFFFFF;\n",
              "    }\n",
              "  </style>\n",
              "\n",
              "      <script>\n",
              "        const buttonEl =\n",
              "          document.querySelector('#df-afbed4c3-06c8-4f37-9c49-e10c972096ea button.colab-df-convert');\n",
              "        buttonEl.style.display =\n",
              "          google.colab.kernel.accessAllowed ? 'block' : 'none';\n",
              "\n",
              "        async function convertToInteractive(key) {\n",
              "          const element = document.querySelector('#df-afbed4c3-06c8-4f37-9c49-e10c972096ea');\n",
              "          const dataTable =\n",
              "            await google.colab.kernel.invokeFunction('convertToInteractive',\n",
              "                                                     [key], {});\n",
              "          if (!dataTable) return;\n",
              "\n",
              "          const docLinkHtml = 'Like what you see? Visit the ' +\n",
              "            '<a target=\"_blank\" href=https://colab.research.google.com/notebooks/data_table.ipynb>data table notebook</a>'\n",
              "            + ' to learn more about interactive tables.';\n",
              "          element.innerHTML = '';\n",
              "          dataTable['output_type'] = 'display_data';\n",
              "          await google.colab.output.renderOutput(dataTable, element);\n",
              "          const docLink = document.createElement('div');\n",
              "          docLink.innerHTML = docLinkHtml;\n",
              "          element.appendChild(docLink);\n",
              "        }\n",
              "      </script>\n",
              "    </div>\n",
              "  </div>\n",
              "  "
            ]
          },
          "metadata": {},
          "execution_count": 192
        }
      ]
    },
    {
      "cell_type": "code",
      "source": [
        "df_2020.drop(['date', 'time'], axis = 1, inplace = True)\n",
        "df_2020"
      ],
      "metadata": {
        "colab": {
          "base_uri": "https://localhost:8080/",
          "height": 424
        },
        "id": "jjkQYDtJiWUU",
        "outputId": "791cfc13-bfb8-4696-e63d-c6bf846ef905"
      },
      "execution_count": null,
      "outputs": [
        {
          "output_type": "execute_result",
          "data": {
            "text/plain": [
              "        temperature  precipitation  wind_speed  humidity  insolation  \\\n",
              "0          2.400000            0.0       3.700      63.0         0.0   \n",
              "1          2.416667            0.0       3.575      63.0         0.0   \n",
              "2          2.433333            0.0       3.450      63.0         0.0   \n",
              "3          2.450000            0.0       3.325      63.0         0.0   \n",
              "4          2.466667            0.0       3.200      63.0         0.0   \n",
              "...             ...            ...         ...       ...         ...   \n",
              "105403     4.300000            0.0       5.900      54.0         0.0   \n",
              "105404     4.300000            0.0       5.900      54.0         0.0   \n",
              "105405     4.300000            0.0       5.900      54.0         0.0   \n",
              "105406     4.300000            0.0       5.900      54.0         0.0   \n",
              "105407     4.300000            0.0       5.900      54.0         0.0   \n",
              "\n",
              "        snow_load  sunlight             datetime  \n",
              "0             0.0       0.0  2020-01-01 00:00:00  \n",
              "1             0.0       0.0  2020-01-01 00:05:00  \n",
              "2             0.0       0.0  2020-01-01 00:10:00  \n",
              "3             0.0       0.0  2020-01-01 00:15:00  \n",
              "4             0.0       0.0  2020-01-01 00:20:00  \n",
              "...           ...       ...                  ...  \n",
              "105403        0.0       0.0  2020-12-31 23:35:00  \n",
              "105404        0.0       0.0  2020-12-31 23:40:00  \n",
              "105405        0.0       0.0  2020-12-31 23:45:00  \n",
              "105406        0.0       0.0  2020-12-31 23:50:00  \n",
              "105407        0.0       0.0  2020-12-31 23:55:00  \n",
              "\n",
              "[105408 rows x 8 columns]"
            ],
            "text/html": [
              "\n",
              "  <div id=\"df-9cfabcd2-c0d8-4c88-ab0c-ef2ac3d18c5b\">\n",
              "    <div class=\"colab-df-container\">\n",
              "      <div>\n",
              "<style scoped>\n",
              "    .dataframe tbody tr th:only-of-type {\n",
              "        vertical-align: middle;\n",
              "    }\n",
              "\n",
              "    .dataframe tbody tr th {\n",
              "        vertical-align: top;\n",
              "    }\n",
              "\n",
              "    .dataframe thead th {\n",
              "        text-align: right;\n",
              "    }\n",
              "</style>\n",
              "<table border=\"1\" class=\"dataframe\">\n",
              "  <thead>\n",
              "    <tr style=\"text-align: right;\">\n",
              "      <th></th>\n",
              "      <th>temperature</th>\n",
              "      <th>precipitation</th>\n",
              "      <th>wind_speed</th>\n",
              "      <th>humidity</th>\n",
              "      <th>insolation</th>\n",
              "      <th>snow_load</th>\n",
              "      <th>sunlight</th>\n",
              "      <th>datetime</th>\n",
              "    </tr>\n",
              "  </thead>\n",
              "  <tbody>\n",
              "    <tr>\n",
              "      <th>0</th>\n",
              "      <td>2.400000</td>\n",
              "      <td>0.0</td>\n",
              "      <td>3.700</td>\n",
              "      <td>63.0</td>\n",
              "      <td>0.0</td>\n",
              "      <td>0.0</td>\n",
              "      <td>0.0</td>\n",
              "      <td>2020-01-01 00:00:00</td>\n",
              "    </tr>\n",
              "    <tr>\n",
              "      <th>1</th>\n",
              "      <td>2.416667</td>\n",
              "      <td>0.0</td>\n",
              "      <td>3.575</td>\n",
              "      <td>63.0</td>\n",
              "      <td>0.0</td>\n",
              "      <td>0.0</td>\n",
              "      <td>0.0</td>\n",
              "      <td>2020-01-01 00:05:00</td>\n",
              "    </tr>\n",
              "    <tr>\n",
              "      <th>2</th>\n",
              "      <td>2.433333</td>\n",
              "      <td>0.0</td>\n",
              "      <td>3.450</td>\n",
              "      <td>63.0</td>\n",
              "      <td>0.0</td>\n",
              "      <td>0.0</td>\n",
              "      <td>0.0</td>\n",
              "      <td>2020-01-01 00:10:00</td>\n",
              "    </tr>\n",
              "    <tr>\n",
              "      <th>3</th>\n",
              "      <td>2.450000</td>\n",
              "      <td>0.0</td>\n",
              "      <td>3.325</td>\n",
              "      <td>63.0</td>\n",
              "      <td>0.0</td>\n",
              "      <td>0.0</td>\n",
              "      <td>0.0</td>\n",
              "      <td>2020-01-01 00:15:00</td>\n",
              "    </tr>\n",
              "    <tr>\n",
              "      <th>4</th>\n",
              "      <td>2.466667</td>\n",
              "      <td>0.0</td>\n",
              "      <td>3.200</td>\n",
              "      <td>63.0</td>\n",
              "      <td>0.0</td>\n",
              "      <td>0.0</td>\n",
              "      <td>0.0</td>\n",
              "      <td>2020-01-01 00:20:00</td>\n",
              "    </tr>\n",
              "    <tr>\n",
              "      <th>...</th>\n",
              "      <td>...</td>\n",
              "      <td>...</td>\n",
              "      <td>...</td>\n",
              "      <td>...</td>\n",
              "      <td>...</td>\n",
              "      <td>...</td>\n",
              "      <td>...</td>\n",
              "      <td>...</td>\n",
              "    </tr>\n",
              "    <tr>\n",
              "      <th>105403</th>\n",
              "      <td>4.300000</td>\n",
              "      <td>0.0</td>\n",
              "      <td>5.900</td>\n",
              "      <td>54.0</td>\n",
              "      <td>0.0</td>\n",
              "      <td>0.0</td>\n",
              "      <td>0.0</td>\n",
              "      <td>2020-12-31 23:35:00</td>\n",
              "    </tr>\n",
              "    <tr>\n",
              "      <th>105404</th>\n",
              "      <td>4.300000</td>\n",
              "      <td>0.0</td>\n",
              "      <td>5.900</td>\n",
              "      <td>54.0</td>\n",
              "      <td>0.0</td>\n",
              "      <td>0.0</td>\n",
              "      <td>0.0</td>\n",
              "      <td>2020-12-31 23:40:00</td>\n",
              "    </tr>\n",
              "    <tr>\n",
              "      <th>105405</th>\n",
              "      <td>4.300000</td>\n",
              "      <td>0.0</td>\n",
              "      <td>5.900</td>\n",
              "      <td>54.0</td>\n",
              "      <td>0.0</td>\n",
              "      <td>0.0</td>\n",
              "      <td>0.0</td>\n",
              "      <td>2020-12-31 23:45:00</td>\n",
              "    </tr>\n",
              "    <tr>\n",
              "      <th>105406</th>\n",
              "      <td>4.300000</td>\n",
              "      <td>0.0</td>\n",
              "      <td>5.900</td>\n",
              "      <td>54.0</td>\n",
              "      <td>0.0</td>\n",
              "      <td>0.0</td>\n",
              "      <td>0.0</td>\n",
              "      <td>2020-12-31 23:50:00</td>\n",
              "    </tr>\n",
              "    <tr>\n",
              "      <th>105407</th>\n",
              "      <td>4.300000</td>\n",
              "      <td>0.0</td>\n",
              "      <td>5.900</td>\n",
              "      <td>54.0</td>\n",
              "      <td>0.0</td>\n",
              "      <td>0.0</td>\n",
              "      <td>0.0</td>\n",
              "      <td>2020-12-31 23:55:00</td>\n",
              "    </tr>\n",
              "  </tbody>\n",
              "</table>\n",
              "<p>105408 rows × 8 columns</p>\n",
              "</div>\n",
              "      <button class=\"colab-df-convert\" onclick=\"convertToInteractive('df-9cfabcd2-c0d8-4c88-ab0c-ef2ac3d18c5b')\"\n",
              "              title=\"Convert this dataframe to an interactive table.\"\n",
              "              style=\"display:none;\">\n",
              "        \n",
              "  <svg xmlns=\"http://www.w3.org/2000/svg\" height=\"24px\"viewBox=\"0 0 24 24\"\n",
              "       width=\"24px\">\n",
              "    <path d=\"M0 0h24v24H0V0z\" fill=\"none\"/>\n",
              "    <path d=\"M18.56 5.44l.94 2.06.94-2.06 2.06-.94-2.06-.94-.94-2.06-.94 2.06-2.06.94zm-11 1L8.5 8.5l.94-2.06 2.06-.94-2.06-.94L8.5 2.5l-.94 2.06-2.06.94zm10 10l.94 2.06.94-2.06 2.06-.94-2.06-.94-.94-2.06-.94 2.06-2.06.94z\"/><path d=\"M17.41 7.96l-1.37-1.37c-.4-.4-.92-.59-1.43-.59-.52 0-1.04.2-1.43.59L10.3 9.45l-7.72 7.72c-.78.78-.78 2.05 0 2.83L4 21.41c.39.39.9.59 1.41.59.51 0 1.02-.2 1.41-.59l7.78-7.78 2.81-2.81c.8-.78.8-2.07 0-2.86zM5.41 20L4 18.59l7.72-7.72 1.47 1.35L5.41 20z\"/>\n",
              "  </svg>\n",
              "      </button>\n",
              "      \n",
              "  <style>\n",
              "    .colab-df-container {\n",
              "      display:flex;\n",
              "      flex-wrap:wrap;\n",
              "      gap: 12px;\n",
              "    }\n",
              "\n",
              "    .colab-df-convert {\n",
              "      background-color: #E8F0FE;\n",
              "      border: none;\n",
              "      border-radius: 50%;\n",
              "      cursor: pointer;\n",
              "      display: none;\n",
              "      fill: #1967D2;\n",
              "      height: 32px;\n",
              "      padding: 0 0 0 0;\n",
              "      width: 32px;\n",
              "    }\n",
              "\n",
              "    .colab-df-convert:hover {\n",
              "      background-color: #E2EBFA;\n",
              "      box-shadow: 0px 1px 2px rgba(60, 64, 67, 0.3), 0px 1px 3px 1px rgba(60, 64, 67, 0.15);\n",
              "      fill: #174EA6;\n",
              "    }\n",
              "\n",
              "    [theme=dark] .colab-df-convert {\n",
              "      background-color: #3B4455;\n",
              "      fill: #D2E3FC;\n",
              "    }\n",
              "\n",
              "    [theme=dark] .colab-df-convert:hover {\n",
              "      background-color: #434B5C;\n",
              "      box-shadow: 0px 1px 3px 1px rgba(0, 0, 0, 0.15);\n",
              "      filter: drop-shadow(0px 1px 2px rgba(0, 0, 0, 0.3));\n",
              "      fill: #FFFFFF;\n",
              "    }\n",
              "  </style>\n",
              "\n",
              "      <script>\n",
              "        const buttonEl =\n",
              "          document.querySelector('#df-9cfabcd2-c0d8-4c88-ab0c-ef2ac3d18c5b button.colab-df-convert');\n",
              "        buttonEl.style.display =\n",
              "          google.colab.kernel.accessAllowed ? 'block' : 'none';\n",
              "\n",
              "        async function convertToInteractive(key) {\n",
              "          const element = document.querySelector('#df-9cfabcd2-c0d8-4c88-ab0c-ef2ac3d18c5b');\n",
              "          const dataTable =\n",
              "            await google.colab.kernel.invokeFunction('convertToInteractive',\n",
              "                                                     [key], {});\n",
              "          if (!dataTable) return;\n",
              "\n",
              "          const docLinkHtml = 'Like what you see? Visit the ' +\n",
              "            '<a target=\"_blank\" href=https://colab.research.google.com/notebooks/data_table.ipynb>data table notebook</a>'\n",
              "            + ' to learn more about interactive tables.';\n",
              "          element.innerHTML = '';\n",
              "          dataTable['output_type'] = 'display_data';\n",
              "          await google.colab.output.renderOutput(dataTable, element);\n",
              "          const docLink = document.createElement('div');\n",
              "          docLink.innerHTML = docLinkHtml;\n",
              "          element.appendChild(docLink);\n",
              "        }\n",
              "      </script>\n",
              "    </div>\n",
              "  </div>\n",
              "  "
            ]
          },
          "metadata": {},
          "execution_count": 194
        }
      ]
    },
    {
      "cell_type": "code",
      "source": [
        "df_2020['datetime'] = pd.to_datetime(df_2020['datetime'])\n",
        "df_2020.info()"
      ],
      "metadata": {
        "colab": {
          "base_uri": "https://localhost:8080/"
        },
        "id": "MQdXpWxIi-OC",
        "outputId": "9fa04f16-eb01-42df-d9c8-f97d5fb9ea58"
      },
      "execution_count": null,
      "outputs": [
        {
          "output_type": "stream",
          "name": "stdout",
          "text": [
            "<class 'pandas.core.frame.DataFrame'>\n",
            "RangeIndex: 105408 entries, 0 to 105407\n",
            "Data columns (total 8 columns):\n",
            " #   Column         Non-Null Count   Dtype         \n",
            "---  ------         --------------   -----         \n",
            " 0   temperature    105408 non-null  float64       \n",
            " 1   precipitation  105408 non-null  float64       \n",
            " 2   wind_speed     105408 non-null  float64       \n",
            " 3   humidity       105408 non-null  float64       \n",
            " 4   insolation     105408 non-null  float64       \n",
            " 5   snow_load      105408 non-null  float64       \n",
            " 6   sunlight       105408 non-null  float64       \n",
            " 7   datetime       105408 non-null  datetime64[ns]\n",
            "dtypes: datetime64[ns](1), float64(7)\n",
            "memory usage: 6.4 MB\n"
          ]
        }
      ]
    },
    {
      "cell_type": "code",
      "source": [
        "date_time = pd.to_datetime(df_2020['datetime'])"
      ],
      "metadata": {
        "id": "oJwxjZDUjfBw"
      },
      "execution_count": null,
      "outputs": []
    },
    {
      "cell_type": "code",
      "source": [
        "type(date_time)"
      ],
      "metadata": {
        "colab": {
          "base_uri": "https://localhost:8080/"
        },
        "id": "sOh8EXMuj9xi",
        "outputId": "829e20b1-0483-448f-82df-794c39933f37"
      },
      "execution_count": null,
      "outputs": [
        {
          "output_type": "execute_result",
          "data": {
            "text/plain": [
              "pandas.core.series.Series"
            ]
          },
          "metadata": {},
          "execution_count": 210
        }
      ]
    },
    {
      "cell_type": "code",
      "source": [
        "import datetime\n",
        "timestamp_s = date_time.map(datetime.datetime.timestamp)"
      ],
      "metadata": {
        "id": "RDF3pBG6jHoR"
      },
      "execution_count": null,
      "outputs": []
    },
    {
      "cell_type": "code",
      "source": [
        "day = 24*60*60\n",
        "year = (365.2425)*day\n",
        "\n",
        "df_2020['Day sin'] = np.sin(timestamp_s * (2 * np.pi / day))\n",
        "df_2020['Day cos'] = np.cos(timestamp_s * (2 * np.pi / day))\n",
        "df_2020['Year sin'] = np.sin(timestamp_s * (2 * np.pi / year))\n",
        "df_2020['Year cos'] = np.cos(timestamp_s * (2 * np.pi / year))"
      ],
      "metadata": {
        "id": "bqULyp8ajWsw"
      },
      "execution_count": null,
      "outputs": []
    },
    {
      "cell_type": "code",
      "source": [
        "import matplotlib.pyplot as plt\n",
        "\n",
        "plt.plot(np.array(df_2020['Day sin'])[:288])\n",
        "plt.plot(np.array(df_2020['Day cos'])[:288])\n",
        "plt.xlabel('Time [h]')\n",
        "plt.title('Time of day signal')"
      ],
      "metadata": {
        "colab": {
          "base_uri": "https://localhost:8080/",
          "height": 313
        },
        "id": "gTcw3PVmkQ3J",
        "outputId": "6be5075d-843d-4bdf-daf0-45119505e8c4"
      },
      "execution_count": null,
      "outputs": [
        {
          "output_type": "execute_result",
          "data": {
            "text/plain": [
              "Text(0.5, 1.0, 'Time of day signal')"
            ]
          },
          "metadata": {},
          "execution_count": 217
        },
        {
          "output_type": "display_data",
          "data": {
            "text/plain": [
              "<Figure size 432x288 with 1 Axes>"
            ],
            "image/png": "[encoded data removed]"
          },
          "metadata": {
            "needs_background": "light"
          }
        }
      ]
    },
    {
      "cell_type": "code",
      "source": [
        "plt.plot(np.array(df_2020['Year sin'])[:288*365])\n",
        "plt.plot(np.array(df_2020['Year cos'])[:288*365])\n",
        "plt.xlabel('Time [h]')\n",
        "plt.title('Time of Year signal')"
      ],
      "metadata": {
        "colab": {
          "base_uri": "https://localhost:8080/",
          "height": 313
        },
        "id": "R2jhiIXnkayL",
        "outputId": "426f0a4a-c190-4812-ea46-1918c0cf7707"
      },
      "execution_count": null,
      "outputs": [
        {
          "output_type": "execute_result",
          "data": {
            "text/plain": [
              "Text(0.5, 1.0, 'Time of Year signal')"
            ]
          },
          "metadata": {},
          "execution_count": 219
        },
        {
          "output_type": "display_data",
          "data": {
            "text/plain": [
              "<Figure size 432x288 with 1 Axes>"
            ],
            "image/png": "[encoded data removed]"
          },
          "metadata": {
            "needs_background": "light"
          }
        }
      ]
    },
    {
      "cell_type": "code",
      "source": [
        "df_2020"
      ],
      "metadata": {
        "colab": {
          "base_uri": "https://localhost:8080/",
          "height": 658
        },
        "id": "81fXDCmCkiYb",
        "outputId": "f4fd6bd8-b6e2-425b-8da5-64f54f747fd1"
      },
      "execution_count": null,
      "outputs": [
        {
          "output_type": "execute_result",
          "data": {
            "text/plain": [
              "        temperature  precipitation  wind_speed  humidity  insolation  \\\n",
              "0          2.400000            0.0       3.700      63.0         0.0   \n",
              "1          2.416667            0.0       3.575      63.0         0.0   \n",
              "2          2.433333            0.0       3.450      63.0         0.0   \n",
              "3          2.450000            0.0       3.325      63.0         0.0   \n",
              "4          2.466667            0.0       3.200      63.0         0.0   \n",
              "...             ...            ...         ...       ...         ...   \n",
              "105403     4.300000            0.0       5.900      54.0         0.0   \n",
              "105404     4.300000            0.0       5.900      54.0         0.0   \n",
              "105405     4.300000            0.0       5.900      54.0         0.0   \n",
              "105406     4.300000            0.0       5.900      54.0         0.0   \n",
              "105407     4.300000            0.0       5.900      54.0         0.0   \n",
              "\n",
              "        snow_load  sunlight            datetime       Day sin   Day cos  \\\n",
              "0             0.0       0.0 2020-01-01 00:00:00 -7.670342e-12  1.000000   \n",
              "1             0.0       0.0 2020-01-01 00:05:00  2.181489e-02  0.999762   \n",
              "2             0.0       0.0 2020-01-01 00:10:00  4.361939e-02  0.999048   \n",
              "3             0.0       0.0 2020-01-01 00:15:00  6.540313e-02  0.997859   \n",
              "4             0.0       0.0 2020-01-01 00:20:00  8.715574e-02  0.996195   \n",
              "...           ...       ...                 ...           ...       ...   \n",
              "105403        0.0       0.0 2020-12-31 23:35:00 -1.088669e-01  0.994056   \n",
              "105404        0.0       0.0 2020-12-31 23:40:00 -8.715574e-02  0.996195   \n",
              "105405        0.0       0.0 2020-12-31 23:45:00 -6.540313e-02  0.997859   \n",
              "105406        0.0       0.0 2020-12-31 23:50:00 -4.361939e-02  0.999048   \n",
              "105407        0.0       0.0 2020-12-31 23:55:00 -2.181489e-02  0.999762   \n",
              "\n",
              "        Year sin  Year cos  \n",
              "0      -0.002150  0.999998  \n",
              "1      -0.002091  0.999998  \n",
              "2      -0.002031  0.999998  \n",
              "3      -0.001971  0.999998  \n",
              "4      -0.001911  0.999998  \n",
              "...          ...       ...  \n",
              "105403  0.010582  0.999944  \n",
              "105404  0.010642  0.999943  \n",
              "105405  0.010701  0.999943  \n",
              "105406  0.010761  0.999942  \n",
              "105407  0.010821  0.999941  \n",
              "\n",
              "[105408 rows x 12 columns]"
            ],
            "text/html": [
              "\n",
              "  <div id=\"df-963fe0f8-cd50-4f1c-a6ca-262bcb89c1d9\">\n",
              "    <div class=\"colab-df-container\">\n",
              "      <div>\n",
              "<style scoped>\n",
              "    .dataframe tbody tr th:only-of-type {\n",
              "        vertical-align: middle;\n",
              "    }\n",
              "\n",
              "    .dataframe tbody tr th {\n",
              "        vertical-align: top;\n",
              "    }\n",
              "\n",
              "    .dataframe thead th {\n",
              "        text-align: right;\n",
              "    }\n",
              "</style>\n",
              "<table border=\"1\" class=\"dataframe\">\n",
              "  <thead>\n",
              "    <tr style=\"text-align: right;\">\n",
              "      <th></th>\n",
              "      <th>temperature</th>\n",
              "      <th>precipitation</th>\n",
              "      <th>wind_speed</th>\n",
              "      <th>humidity</th>\n",
              "      <th>insolation</th>\n",
              "      <th>snow_load</th>\n",
              "      <th>sunlight</th>\n",
              "      <th>datetime</th>\n",
              "      <th>Day sin</th>\n",
              "      <th>Day cos</th>\n",
              "      <th>Year sin</th>\n",
              "      <th>Year cos</th>\n",
              "    </tr>\n",
              "  </thead>\n",
              "  <tbody>\n",
              "    <tr>\n",
              "      <th>0</th>\n",
              "      <td>2.400000</td>\n",
              "      <td>0.0</td>\n",
              "      <td>3.700</td>\n",
              "      <td>63.0</td>\n",
              "      <td>0.0</td>\n",
              "      <td>0.0</td>\n",
              "      <td>0.0</td>\n",
              "      <td>2020-01-01 00:00:00</td>\n",
              "      <td>-7.670342e-12</td>\n",
              "      <td>1.000000</td>\n",
              "      <td>-0.002150</td>\n",
              "      <td>0.999998</td>\n",
              "    </tr>\n",
              "    <tr>\n",
              "      <th>1</th>\n",
              "      <td>2.416667</td>\n",
              "      <td>0.0</td>\n",
              "      <td>3.575</td>\n",
              "      <td>63.0</td>\n",
              "      <td>0.0</td>\n",
              "      <td>0.0</td>\n",
              "      <td>0.0</td>\n",
              "      <td>2020-01-01 00:05:00</td>\n",
              "      <td>2.181489e-02</td>\n",
              "      <td>0.999762</td>\n",
              "      <td>-0.002091</td>\n",
              "      <td>0.999998</td>\n",
              "    </tr>\n",
              "    <tr>\n",
              "      <th>2</th>\n",
              "      <td>2.433333</td>\n",
              "      <td>0.0</td>\n",
              "      <td>3.450</td>\n",
              "      <td>63.0</td>\n",
              "      <td>0.0</td>\n",
              "      <td>0.0</td>\n",
              "      <td>0.0</td>\n",
              "      <td>2020-01-01 00:10:00</td>\n",
              "      <td>4.361939e-02</td>\n",
              "      <td>0.999048</td>\n",
              "      <td>-0.002031</td>\n",
              "      <td>0.999998</td>\n",
              "    </tr>\n",
              "    <tr>\n",
              "      <th>3</th>\n",
              "      <td>2.450000</td>\n",
              "      <td>0.0</td>\n",
              "      <td>3.325</td>\n",
              "      <td>63.0</td>\n",
              "      <td>0.0</td>\n",
              "      <td>0.0</td>\n",
              "      <td>0.0</td>\n",
              "      <td>2020-01-01 00:15:00</td>\n",
              "      <td>6.540313e-02</td>\n",
              "      <td>0.997859</td>\n",
              "      <td>-0.001971</td>\n",
              "      <td>0.999998</td>\n",
              "    </tr>\n",
              "    <tr>\n",
              "      <th>4</th>\n",
              "      <td>2.466667</td>\n",
              "      <td>0.0</td>\n",
              "      <td>3.200</td>\n",
              "      <td>63.0</td>\n",
              "      <td>0.0</td>\n",
              "      <td>0.0</td>\n",
              "      <td>0.0</td>\n",
              "      <td>2020-01-01 00:20:00</td>\n",
              "      <td>8.715574e-02</td>\n",
              "      <td>0.996195</td>\n",
              "      <td>-0.001911</td>\n",
              "      <td>0.999998</td>\n",
              "    </tr>\n",
              "    <tr>\n",
              "      <th>...</th>\n",
              "      <td>...</td>\n",
              "      <td>...</td>\n",
              "      <td>...</td>\n",
              "      <td>...</td>\n",
              "      <td>...</td>\n",
              "      <td>...</td>\n",
              "      <td>...</td>\n",
              "      <td>...</td>\n",
              "      <td>...</td>\n",
              "      <td>...</td>\n",
              "      <td>...</td>\n",
              "      <td>...</td>\n",
              "    </tr>\n",
              "    <tr>\n",
              "      <th>105403</th>\n",
              "      <td>4.300000</td>\n",
              "      <td>0.0</td>\n",
              "      <td>5.900</td>\n",
              "      <td>54.0</td>\n",
              "      <td>0.0</td>\n",
              "      <td>0.0</td>\n",
              "      <td>0.0</td>\n",
              "      <td>2020-12-31 23:35:00</td>\n",
              "      <td>-1.088669e-01</td>\n",
              "      <td>0.994056</td>\n",
              "      <td>0.010582</td>\n",
              "      <td>0.999944</td>\n",
              "    </tr>\n",
              "    <tr>\n",
              "      <th>105404</th>\n",
              "      <td>4.300000</td>\n",
              "      <td>0.0</td>\n",
              "      <td>5.900</td>\n",
              "      <td>54.0</td>\n",
              "      <td>0.0</td>\n",
              "      <td>0.0</td>\n",
              "      <td>0.0</td>\n",
              "      <td>2020-12-31 23:40:00</td>\n",
              "      <td>-8.715574e-02</td>\n",
              "      <td>0.996195</td>\n",
              "      <td>0.010642</td>\n",
              "      <td>0.999943</td>\n",
              "    </tr>\n",
              "    <tr>\n",
              "      <th>105405</th>\n",
              "      <td>4.300000</td>\n",
              "      <td>0.0</td>\n",
              "      <td>5.900</td>\n",
              "      <td>54.0</td>\n",
              "      <td>0.0</td>\n",
              "      <td>0.0</td>\n",
              "      <td>0.0</td>\n",
              "      <td>2020-12-31 23:45:00</td>\n",
              "      <td>-6.540313e-02</td>\n",
              "      <td>0.997859</td>\n",
              "      <td>0.010701</td>\n",
              "      <td>0.999943</td>\n",
              "    </tr>\n",
              "    <tr>\n",
              "      <th>105406</th>\n",
              "      <td>4.300000</td>\n",
              "      <td>0.0</td>\n",
              "      <td>5.900</td>\n",
              "      <td>54.0</td>\n",
              "      <td>0.0</td>\n",
              "      <td>0.0</td>\n",
              "      <td>0.0</td>\n",
              "      <td>2020-12-31 23:50:00</td>\n",
              "      <td>-4.361939e-02</td>\n",
              "      <td>0.999048</td>\n",
              "      <td>0.010761</td>\n",
              "      <td>0.999942</td>\n",
              "    </tr>\n",
              "    <tr>\n",
              "      <th>105407</th>\n",
              "      <td>4.300000</td>\n",
              "      <td>0.0</td>\n",
              "      <td>5.900</td>\n",
              "      <td>54.0</td>\n",
              "      <td>0.0</td>\n",
              "      <td>0.0</td>\n",
              "      <td>0.0</td>\n",
              "      <td>2020-12-31 23:55:00</td>\n",
              "      <td>-2.181489e-02</td>\n",
              "      <td>0.999762</td>\n",
              "      <td>0.010821</td>\n",
              "      <td>0.999941</td>\n",
              "    </tr>\n",
              "  </tbody>\n",
              "</table>\n",
              "<p>105408 rows × 12 columns</p>\n",
              "</div>\n",
              "      <button class=\"colab-df-convert\" onclick=\"convertToInteractive('df-963fe0f8-cd50-4f1c-a6ca-262bcb89c1d9')\"\n",
              "              title=\"Convert this dataframe to an interactive table.\"\n",
              "              style=\"display:none;\">\n",
              "        \n",
              "  <svg xmlns=\"http://www.w3.org/2000/svg\" height=\"24px\"viewBox=\"0 0 24 24\"\n",
              "       width=\"24px\">\n",
              "    <path d=\"M0 0h24v24H0V0z\" fill=\"none\"/>\n",
              "    <path d=\"M18.56 5.44l.94 2.06.94-2.06 2.06-.94-2.06-.94-.94-2.06-.94 2.06-2.06.94zm-11 1L8.5 8.5l.94-2.06 2.06-.94-2.06-.94L8.5 2.5l-.94 2.06-2.06.94zm10 10l.94 2.06.94-2.06 2.06-.94-2.06-.94-.94-2.06-.94 2.06-2.06.94z\"/><path d=\"M17.41 7.96l-1.37-1.37c-.4-.4-.92-.59-1.43-.59-.52 0-1.04.2-1.43.59L10.3 9.45l-7.72 7.72c-.78.78-.78 2.05 0 2.83L4 21.41c.39.39.9.59 1.41.59.51 0 1.02-.2 1.41-.59l7.78-7.78 2.81-2.81c.8-.78.8-2.07 0-2.86zM5.41 20L4 18.59l7.72-7.72 1.47 1.35L5.41 20z\"/>\n",
              "  </svg>\n",
              "      </button>\n",
              "      \n",
              "  <style>\n",
              "    .colab-df-container {\n",
              "      display:flex;\n",
              "      flex-wrap:wrap;\n",
              "      gap: 12px;\n",
              "    }\n",
              "\n",
              "    .colab-df-convert {\n",
              "      background-color: #E8F0FE;\n",
              "      border: none;\n",
              "      border-radius: 50%;\n",
              "      cursor: pointer;\n",
              "      display: none;\n",
              "      fill: #1967D2;\n",
              "      height: 32px;\n",
              "      padding: 0 0 0 0;\n",
              "      width: 32px;\n",
              "    }\n",
              "\n",
              "    .colab-df-convert:hover {\n",
              "      background-color: #E2EBFA;\n",
              "      box-shadow: 0px 1px 2px rgba(60, 64, 67, 0.3), 0px 1px 3px 1px rgba(60, 64, 67, 0.15);\n",
              "      fill: #174EA6;\n",
              "    }\n",
              "\n",
              "    [theme=dark] .colab-df-convert {\n",
              "      background-color: #3B4455;\n",
              "      fill: #D2E3FC;\n",
              "    }\n",
              "\n",
              "    [theme=dark] .colab-df-convert:hover {\n",
              "      background-color: #434B5C;\n",
              "      box-shadow: 0px 1px 3px 1px rgba(0, 0, 0, 0.15);\n",
              "      filter: drop-shadow(0px 1px 2px rgba(0, 0, 0, 0.3));\n",
              "      fill: #FFFFFF;\n",
              "    }\n",
              "  </style>\n",
              "\n",
              "      <script>\n",
              "        const buttonEl =\n",
              "          document.querySelector('#df-963fe0f8-cd50-4f1c-a6ca-262bcb89c1d9 button.colab-df-convert');\n",
              "        buttonEl.style.display =\n",
              "          google.colab.kernel.accessAllowed ? 'block' : 'none';\n",
              "\n",
              "        async function convertToInteractive(key) {\n",
              "          const element = document.querySelector('#df-963fe0f8-cd50-4f1c-a6ca-262bcb89c1d9');\n",
              "          const dataTable =\n",
              "            await google.colab.kernel.invokeFunction('convertToInteractive',\n",
              "                                                     [key], {});\n",
              "          if (!dataTable) return;\n",
              "\n",
              "          const docLinkHtml = 'Like what you see? Visit the ' +\n",
              "            '<a target=\"_blank\" href=https://colab.research.google.com/notebooks/data_table.ipynb>data table notebook</a>'\n",
              "            + ' to learn more about interactive tables.';\n",
              "          element.innerHTML = '';\n",
              "          dataTable['output_type'] = 'display_data';\n",
              "          await google.colab.output.renderOutput(dataTable, element);\n",
              "          const docLink = document.createElement('div');\n",
              "          docLink.innerHTML = docLinkHtml;\n",
              "          element.appendChild(docLink);\n",
              "        }\n",
              "      </script>\n",
              "    </div>\n",
              "  </div>\n",
              "  "
            ]
          },
          "metadata": {},
          "execution_count": 220
        }
      ]
    },
    {
      "cell_type": "code",
      "source": [
        "df_2021.info()"
      ],
      "metadata": {
        "colab": {
          "base_uri": "https://localhost:8080/"
        },
        "id": "Fm7n_XnH0eoa",
        "outputId": "090cb981-dd7b-46ab-e149-4000de33c9cd"
      },
      "execution_count": null,
      "outputs": [
        {
          "output_type": "stream",
          "name": "stdout",
          "text": [
            "<class 'pandas.core.frame.DataFrame'>\n",
            "RangeIndex: 105120 entries, 0 to 105119\n",
            "Data columns (total 10 columns):\n",
            " #   Column  Non-Null Count   Dtype  \n",
            "---  ------  --------------   -----  \n",
            " 0   날짜      105120 non-null  object \n",
            " 1   시간      105120 non-null  object \n",
            " 2   기온      105120 non-null  float64\n",
            " 3   강수량     105120 non-null  float64\n",
            " 4   풍속      105120 non-null  float64\n",
            " 5   습도      105120 non-null  float64\n",
            " 6   일사      105120 non-null  float64\n",
            " 7   일조      105120 non-null  float64\n",
            " 8   적설량     105120 non-null  float64\n",
            " 9   태양광합계   105120 non-null  float64\n",
            "dtypes: float64(8), object(2)\n",
            "memory usage: 8.0+ MB\n"
          ]
        }
      ]
    },
    {
      "cell_type": "code",
      "source": [
        "df_2021.columns = ['date', 'time', 'temperature', 'precipitation', 'wind_speed', 'humidity', 'insolation', 'sunshine', 'snow_load', 'sunlight']\n",
        "df_2021 = df_2021.drop(['sunshine'], axis = 1)\n",
        "df_2021['datetime'] = df_2021['date'] + ' ' + df_2021['time']\n",
        "df_2021.drop(['date', 'time'], axis = 1, inplace = True)\n",
        "df_2021['datetime'] = pd.to_datetime(df_2021['datetime'])\n",
        "date_time = pd.to_datetime(df_2021['datetime'])\n",
        "timestamp_s = date_time.map(datetime.datetime.timestamp)\n",
        "day = 24*60*60\n",
        "year = (365.2425)*day\n",
        "\n",
        "df_2021['Day sin'] = np.sin(timestamp_s * (2 * np.pi / day))\n",
        "df_2021['Day cos'] = np.cos(timestamp_s * (2 * np.pi / day))\n",
        "df_2021['Year sin'] = np.sin(timestamp_s * (2 * np.pi / year))\n",
        "df_2021['Year cos'] = np.cos(timestamp_s * (2 * np.pi / year))\n",
        "\n",
        "plt.subplot(1,2,1)\n",
        "plt.plot(np.array(df_2021['Day sin'])[:288])\n",
        "plt.plot(np.array(df_2021['Day cos'])[:288])\n",
        "plt.xlabel('Time [h]')\n",
        "plt.title('Time of day signal')\n",
        "\n",
        "plt.subplot(1,2,2)\n",
        "plt.plot(np.array(df_2021['Year sin'])[:288*365])\n",
        "plt.plot(np.array(df_2021['Year cos'])[:288*365])\n",
        "plt.xlabel('Time [h]')\n",
        "plt.title('Time of Year signal')"
      ],
      "metadata": {
        "colab": {
          "base_uri": "https://localhost:8080/",
          "height": 313
        },
        "id": "LUQ84vUy1JpF",
        "outputId": "a1bcc46c-d692-41c8-fff7-40dcef21babe"
      },
      "execution_count": null,
      "outputs": [
        {
          "output_type": "execute_result",
          "data": {
            "text/plain": [
              "Text(0.5, 1.0, 'Time of Year signal')"
            ]
          },
          "metadata": {},
          "execution_count": 227
        },
        {
          "output_type": "display_data",
          "data": {
            "text/plain": [
              "<Figure size 432x288 with 2 Axes>"
            ],
            "image/png": "[encoded data removed]"
          },
          "metadata": {
            "needs_background": "light"
          }
        }
      ]
    },
    {
      "cell_type": "code",
      "source": [
        "df_2021"
      ],
      "metadata": {
        "colab": {
          "base_uri": "https://localhost:8080/",
          "height": 658
        },
        "id": "-obTpuz0ly8z",
        "outputId": "24ab3324-19ca-40f0-b962-d90cae98580d"
      },
      "execution_count": null,
      "outputs": [
        {
          "output_type": "execute_result",
          "data": {
            "text/plain": [
              "        temperature  precipitation  wind_speed   humidity  insolation  \\\n",
              "0          4.500000            0.0    6.100000  53.000000         0.0   \n",
              "1          4.483333            0.0    6.058333  53.416667         0.0   \n",
              "2          4.466667            0.0    6.016667  53.833333         0.0   \n",
              "3          4.450000            0.0    5.975000  54.250000         0.0   \n",
              "4          4.433333            0.0    5.933333  54.666667         0.0   \n",
              "...             ...            ...         ...        ...         ...   \n",
              "105115     3.600000            0.0    4.400000  64.000000         0.0   \n",
              "105116     3.600000            0.0    4.400000  64.000000         0.0   \n",
              "105117     3.600000            0.0    4.400000  64.000000         0.0   \n",
              "105118     3.600000            0.0    4.400000  64.000000         0.0   \n",
              "105119     3.600000            0.0    4.400000  64.000000         0.0   \n",
              "\n",
              "        snow_load  sunlight            datetime       Day sin   Day cos  \\\n",
              "0             0.0       0.0 2021-01-01 00:00:00 -6.012051e-12  1.000000   \n",
              "1             0.0       0.0 2021-01-01 00:05:00  2.181489e-02  0.999762   \n",
              "2             0.0       0.0 2021-01-01 00:10:00  4.361939e-02  0.999048   \n",
              "3             0.0       0.0 2021-01-01 00:15:00  6.540313e-02  0.997859   \n",
              "4             0.0       0.0 2021-01-01 00:20:00  8.715574e-02  0.996195   \n",
              "...           ...       ...                 ...           ...       ...   \n",
              "105115        0.0       0.0 2021-12-31 23:35:00 -1.088669e-01  0.994056   \n",
              "105116        0.0       0.0 2021-12-31 23:40:00 -8.715574e-02  0.996195   \n",
              "105117        0.0       0.0 2021-12-31 23:45:00 -6.540313e-02  0.997859   \n",
              "105118        0.0       0.0 2021-12-31 23:50:00 -4.361939e-02  0.999048   \n",
              "105119        0.0       0.0 2021-12-31 23:55:00 -2.181489e-02  0.999762   \n",
              "\n",
              "        Year sin  Year cos  \n",
              "0       0.010881  0.999941  \n",
              "1       0.010940  0.999940  \n",
              "2       0.011000  0.999939  \n",
              "3       0.011060  0.999939  \n",
              "4       0.011119  0.999938  \n",
              "...          ...       ...  \n",
              "105115  0.006410  0.999979  \n",
              "105116  0.006470  0.999979  \n",
              "105117  0.006530  0.999979  \n",
              "105118  0.006590  0.999978  \n",
              "105119  0.006649  0.999978  \n",
              "\n",
              "[105120 rows x 12 columns]"
            ],
            "text/html": [
              "\n",
              "  <div id=\"df-df8fca12-962e-4c3b-b08a-7184eed0d15e\">\n",
              "    <div class=\"colab-df-container\">\n",
              "      <div>\n",
              "<style scoped>\n",
              "    .dataframe tbody tr th:only-of-type {\n",
              "        vertical-align: middle;\n",
              "    }\n",
              "\n",
              "    .dataframe tbody tr th {\n",
              "        vertical-align: top;\n",
              "    }\n",
              "\n",
              "    .dataframe thead th {\n",
              "        text-align: right;\n",
              "    }\n",
              "</style>\n",
              "<table border=\"1\" class=\"dataframe\">\n",
              "  <thead>\n",
              "    <tr style=\"text-align: right;\">\n",
              "      <th></th>\n",
              "      <th>temperature</th>\n",
              "      <th>precipitation</th>\n",
              "      <th>wind_speed</th>\n",
              "      <th>humidity</th>\n",
              "      <th>insolation</th>\n",
              "      <th>snow_load</th>\n",
              "      <th>sunlight</th>\n",
              "      <th>datetime</th>\n",
              "      <th>Day sin</th>\n",
              "      <th>Day cos</th>\n",
              "      <th>Year sin</th>\n",
              "      <th>Year cos</th>\n",
              "    </tr>\n",
              "  </thead>\n",
              "  <tbody>\n",
              "    <tr>\n",
              "      <th>0</th>\n",
              "      <td>4.500000</td>\n",
              "      <td>0.0</td>\n",
              "      <td>6.100000</td>\n",
              "      <td>53.000000</td>\n",
              "      <td>0.0</td>\n",
              "      <td>0.0</td>\n",
              "      <td>0.0</td>\n",
              "      <td>2021-01-01 00:00:00</td>\n",
              "      <td>-6.012051e-12</td>\n",
              "      <td>1.000000</td>\n",
              "      <td>0.010881</td>\n",
              "      <td>0.999941</td>\n",
              "    </tr>\n",
              "    <tr>\n",
              "      <th>1</th>\n",
              "      <td>4.483333</td>\n",
              "      <td>0.0</td>\n",
              "      <td>6.058333</td>\n",
              "      <td>53.416667</td>\n",
              "      <td>0.0</td>\n",
              "      <td>0.0</td>\n",
              "      <td>0.0</td>\n",
              "      <td>2021-01-01 00:05:00</td>\n",
              "      <td>2.181489e-02</td>\n",
              "      <td>0.999762</td>\n",
              "      <td>0.010940</td>\n",
              "      <td>0.999940</td>\n",
              "    </tr>\n",
              "    <tr>\n",
              "      <th>2</th>\n",
              "      <td>4.466667</td>\n",
              "      <td>0.0</td>\n",
              "      <td>6.016667</td>\n",
              "      <td>53.833333</td>\n",
              "      <td>0.0</td>\n",
              "      <td>0.0</td>\n",
              "      <td>0.0</td>\n",
              "      <td>2021-01-01 00:10:00</td>\n",
              "      <td>4.361939e-02</td>\n",
              "      <td>0.999048</td>\n",
              "      <td>0.011000</td>\n",
              "      <td>0.999939</td>\n",
              "    </tr>\n",
              "    <tr>\n",
              "      <th>3</th>\n",
              "      <td>4.450000</td>\n",
              "      <td>0.0</td>\n",
              "      <td>5.975000</td>\n",
              "      <td>54.250000</td>\n",
              "      <td>0.0</td>\n",
              "      <td>0.0</td>\n",
              "      <td>0.0</td>\n",
              "      <td>2021-01-01 00:15:00</td>\n",
              "      <td>6.540313e-02</td>\n",
              "      <td>0.997859</td>\n",
              "      <td>0.011060</td>\n",
              "      <td>0.999939</td>\n",
              "    </tr>\n",
              "    <tr>\n",
              "      <th>4</th>\n",
              "      <td>4.433333</td>\n",
              "      <td>0.0</td>\n",
              "      <td>5.933333</td>\n",
              "      <td>54.666667</td>\n",
              "      <td>0.0</td>\n",
              "      <td>0.0</td>\n",
              "      <td>0.0</td>\n",
              "      <td>2021-01-01 00:20:00</td>\n",
              "      <td>8.715574e-02</td>\n",
              "      <td>0.996195</td>\n",
              "      <td>0.011119</td>\n",
              "      <td>0.999938</td>\n",
              "    </tr>\n",
              "    <tr>\n",
              "      <th>...</th>\n",
              "      <td>...</td>\n",
              "      <td>...</td>\n",
              "      <td>...</td>\n",
              "      <td>...</td>\n",
              "      <td>...</td>\n",
              "      <td>...</td>\n",
              "      <td>...</td>\n",
              "      <td>...</td>\n",
              "      <td>...</td>\n",
              "      <td>...</td>\n",
              "      <td>...</td>\n",
              "      <td>...</td>\n",
              "    </tr>\n",
              "    <tr>\n",
              "      <th>105115</th>\n",
              "      <td>3.600000</td>\n",
              "      <td>0.0</td>\n",
              "      <td>4.400000</td>\n",
              "      <td>64.000000</td>\n",
              "      <td>0.0</td>\n",
              "      <td>0.0</td>\n",
              "      <td>0.0</td>\n",
              "      <td>2021-12-31 23:35:00</td>\n",
              "      <td>-1.088669e-01</td>\n",
              "      <td>0.994056</td>\n",
              "      <td>0.006410</td>\n",
              "      <td>0.999979</td>\n",
              "    </tr>\n",
              "    <tr>\n",
              "      <th>105116</th>\n",
              "      <td>3.600000</td>\n",
              "      <td>0.0</td>\n",
              "      <td>4.400000</td>\n",
              "      <td>64.000000</td>\n",
              "      <td>0.0</td>\n",
              "      <td>0.0</td>\n",
              "      <td>0.0</td>\n",
              "      <td>2021-12-31 23:40:00</td>\n",
              "      <td>-8.715574e-02</td>\n",
              "      <td>0.996195</td>\n",
              "      <td>0.006470</td>\n",
              "      <td>0.999979</td>\n",
              "    </tr>\n",
              "    <tr>\n",
              "      <th>105117</th>\n",
              "      <td>3.600000</td>\n",
              "      <td>0.0</td>\n",
              "      <td>4.400000</td>\n",
              "      <td>64.000000</td>\n",
              "      <td>0.0</td>\n",
              "      <td>0.0</td>\n",
              "      <td>0.0</td>\n",
              "      <td>2021-12-31 23:45:00</td>\n",
              "      <td>-6.540313e-02</td>\n",
              "      <td>0.997859</td>\n",
              "      <td>0.006530</td>\n",
              "      <td>0.999979</td>\n",
              "    </tr>\n",
              "    <tr>\n",
              "      <th>105118</th>\n",
              "      <td>3.600000</td>\n",
              "      <td>0.0</td>\n",
              "      <td>4.400000</td>\n",
              "      <td>64.000000</td>\n",
              "      <td>0.0</td>\n",
              "      <td>0.0</td>\n",
              "      <td>0.0</td>\n",
              "      <td>2021-12-31 23:50:00</td>\n",
              "      <td>-4.361939e-02</td>\n",
              "      <td>0.999048</td>\n",
              "      <td>0.006590</td>\n",
              "      <td>0.999978</td>\n",
              "    </tr>\n",
              "    <tr>\n",
              "      <th>105119</th>\n",
              "      <td>3.600000</td>\n",
              "      <td>0.0</td>\n",
              "      <td>4.400000</td>\n",
              "      <td>64.000000</td>\n",
              "      <td>0.0</td>\n",
              "      <td>0.0</td>\n",
              "      <td>0.0</td>\n",
              "      <td>2021-12-31 23:55:00</td>\n",
              "      <td>-2.181489e-02</td>\n",
              "      <td>0.999762</td>\n",
              "      <td>0.006649</td>\n",
              "      <td>0.999978</td>\n",
              "    </tr>\n",
              "  </tbody>\n",
              "</table>\n",
              "<p>105120 rows × 12 columns</p>\n",
              "</div>\n",
              "      <button class=\"colab-df-convert\" onclick=\"convertToInteractive('df-df8fca12-962e-4c3b-b08a-7184eed0d15e')\"\n",
              "              title=\"Convert this dataframe to an interactive table.\"\n",
              "              style=\"display:none;\">\n",
              "        \n",
              "  <svg xmlns=\"http://www.w3.org/2000/svg\" height=\"24px\"viewBox=\"0 0 24 24\"\n",
              "       width=\"24px\">\n",
              "    <path d=\"M0 0h24v24H0V0z\" fill=\"none\"/>\n",
              "    <path d=\"M18.56 5.44l.94 2.06.94-2.06 2.06-.94-2.06-.94-.94-2.06-.94 2.06-2.06.94zm-11 1L8.5 8.5l.94-2.06 2.06-.94-2.06-.94L8.5 2.5l-.94 2.06-2.06.94zm10 10l.94 2.06.94-2.06 2.06-.94-2.06-.94-.94-2.06-.94 2.06-2.06.94z\"/><path d=\"M17.41 7.96l-1.37-1.37c-.4-.4-.92-.59-1.43-.59-.52 0-1.04.2-1.43.59L10.3 9.45l-7.72 7.72c-.78.78-.78 2.05 0 2.83L4 21.41c.39.39.9.59 1.41.59.51 0 1.02-.2 1.41-.59l7.78-7.78 2.81-2.81c.8-.78.8-2.07 0-2.86zM5.41 20L4 18.59l7.72-7.72 1.47 1.35L5.41 20z\"/>\n",
              "  </svg>\n",
              "      </button>\n",
              "      \n",
              "  <style>\n",
              "    .colab-df-container {\n",
              "      display:flex;\n",
              "      flex-wrap:wrap;\n",
              "      gap: 12px;\n",
              "    }\n",
              "\n",
              "    .colab-df-convert {\n",
              "      background-color: #E8F0FE;\n",
              "      border: none;\n",
              "      border-radius: 50%;\n",
              "      cursor: pointer;\n",
              "      display: none;\n",
              "      fill: #1967D2;\n",
              "      height: 32px;\n",
              "      padding: 0 0 0 0;\n",
              "      width: 32px;\n",
              "    }\n",
              "\n",
              "    .colab-df-convert:hover {\n",
              "      background-color: #E2EBFA;\n",
              "      box-shadow: 0px 1px 2px rgba(60, 64, 67, 0.3), 0px 1px 3px 1px rgba(60, 64, 67, 0.15);\n",
              "      fill: #174EA6;\n",
              "    }\n",
              "\n",
              "    [theme=dark] .colab-df-convert {\n",
              "      background-color: #3B4455;\n",
              "      fill: #D2E3FC;\n",
              "    }\n",
              "\n",
              "    [theme=dark] .colab-df-convert:hover {\n",
              "      background-color: #434B5C;\n",
              "      box-shadow: 0px 1px 3px 1px rgba(0, 0, 0, 0.15);\n",
              "      filter: drop-shadow(0px 1px 2px rgba(0, 0, 0, 0.3));\n",
              "      fill: #FFFFFF;\n",
              "    }\n",
              "  </style>\n",
              "\n",
              "      <script>\n",
              "        const buttonEl =\n",
              "          document.querySelector('#df-df8fca12-962e-4c3b-b08a-7184eed0d15e button.colab-df-convert');\n",
              "        buttonEl.style.display =\n",
              "          google.colab.kernel.accessAllowed ? 'block' : 'none';\n",
              "\n",
              "        async function convertToInteractive(key) {\n",
              "          const element = document.querySelector('#df-df8fca12-962e-4c3b-b08a-7184eed0d15e');\n",
              "          const dataTable =\n",
              "            await google.colab.kernel.invokeFunction('convertToInteractive',\n",
              "                                                     [key], {});\n",
              "          if (!dataTable) return;\n",
              "\n",
              "          const docLinkHtml = 'Like what you see? Visit the ' +\n",
              "            '<a target=\"_blank\" href=https://colab.research.google.com/notebooks/data_table.ipynb>data table notebook</a>'\n",
              "            + ' to learn more about interactive tables.';\n",
              "          element.innerHTML = '';\n",
              "          dataTable['output_type'] = 'display_data';\n",
              "          await google.colab.output.renderOutput(dataTable, element);\n",
              "          const docLink = document.createElement('div');\n",
              "          docLink.innerHTML = docLinkHtml;\n",
              "          element.appendChild(docLink);\n",
              "        }\n",
              "      </script>\n",
              "    </div>\n",
              "  </div>\n",
              "  "
            ]
          },
          "metadata": {},
          "execution_count": 228
        }
      ]
    },
    {
      "cell_type": "code",
      "source": [
        "df_2021.to_csv('df_2021.csv')"
      ],
      "metadata": {
        "id": "MSweqHLEl_BD"
      },
      "execution_count": null,
      "outputs": []
    },
    {
      "cell_type": "code",
      "source": [
        ""
      ],
      "metadata": {
        "id": "4-dSGy8vmDW2"
      },
      "execution_count": null,
      "outputs": []
    }
  ]
}
